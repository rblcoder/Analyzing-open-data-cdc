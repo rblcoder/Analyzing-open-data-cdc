{
 "cells": [
  {
   "cell_type": "markdown",
   "metadata": {},
   "source": [
    "Data : https://chronicdata.cdc.gov/Alcohol-Related-Disease-Impact/Alcohol-Attributable-Deaths-due-to-Excessive-Alcoh/yqqr-a7uy"
   ]
  },
  {
   "cell_type": "code",
   "execution_count": 1,
   "metadata": {},
   "outputs": [],
   "source": [
    "import numpy as np\n",
    "import pandas as pd\n",
    "import utils.common_utils\n",
    "import ipywidgets as widgets"
   ]
  },
  {
   "cell_type": "code",
   "execution_count": 2,
   "metadata": {},
   "outputs": [
    {
     "name": "stdout",
     "output_type": "stream",
     "text": [
      "********** info **********\n",
      "<class 'pandas.core.frame.DataFrame'>\n",
      "RangeIndex: 106236 entries, 0 to 106235\n",
      "Data columns (total 25 columns):\n",
      "yearstart             106236 non-null int64\n",
      "yearend               106236 non-null int64\n",
      "locationabbr          106236 non-null object\n",
      "locationdesc          106236 non-null object\n",
      "datasource            106236 non-null object\n",
      "consumptionpattern    106236 non-null object\n",
      "effect                106236 non-null object\n",
      "conditiontype         106236 non-null object\n",
      "condition             106236 non-null object\n",
      "sex                   106236 non-null object\n",
      "agecategory           106236 non-null object\n",
      "agegroup              106236 non-null object\n",
      "data_value_unit       106236 non-null object\n",
      "data_value_type       106236 non-null object\n",
      "data_value            106236 non-null object\n",
      "data_value_alt        106236 non-null object\n",
      "locationid            106236 non-null int64\n",
      "classid               106236 non-null object\n",
      "effectid              106236 non-null object\n",
      "conditionid           106236 non-null object\n",
      "consumptionid         106236 non-null object\n",
      "stratification1id     106236 non-null object\n",
      "agecategoryid         106236 non-null object\n",
      "stratification2id     106236 non-null object\n",
      "datavaluetypeid       106236 non-null object\n",
      "dtypes: int64(3), object(22)\n",
      "memory usage: 20.3+ MB\n",
      "None\n",
      "********** columns **********\n",
      "Index(['yearstart', 'yearend', 'locationabbr', 'locationdesc', 'datasource',\n",
      "       'consumptionpattern', 'effect', 'conditiontype', 'condition', 'sex',\n",
      "       'agecategory', 'agegroup', 'data_value_unit', 'data_value_type',\n",
      "       'data_value', 'data_value_alt', 'locationid', 'classid', 'effectid',\n",
      "       'conditionid', 'consumptionid', 'stratification1id', 'agecategoryid',\n",
      "       'stratification2id', 'datavaluetypeid'],\n",
      "      dtype='object')\n",
      "********** number of duplicated rows **********\n",
      "0\n",
      "********** number of nulls in columns **********\n",
      "yearstart             0\n",
      "yearend               0\n",
      "locationabbr          0\n",
      "locationdesc          0\n",
      "datasource            0\n",
      "consumptionpattern    0\n",
      "effect                0\n",
      "conditiontype         0\n",
      "condition             0\n",
      "sex                   0\n",
      "agecategory           0\n",
      "agegroup              0\n",
      "data_value_unit       0\n",
      "data_value_type       0\n",
      "data_value            0\n",
      "data_value_alt        0\n",
      "locationid            0\n",
      "classid               0\n",
      "effectid              0\n",
      "conditionid           0\n",
      "consumptionid         0\n",
      "stratification1id     0\n",
      "agecategoryid         0\n",
      "stratification2id     0\n",
      "datavaluetypeid       0\n",
      "dtype: int64\n",
      "********** describe **********\n",
      "       yearstart   yearend     locationid\n",
      "count   106236.0  106236.0  106236.000000\n",
      "mean      2006.0    2010.0      28.228341\n",
      "std          0.0       0.0      16.142014\n",
      "min       2006.0    2010.0       0.000000\n",
      "25%       2006.0    2010.0      15.000000\n",
      "50%       2006.0    2010.0      28.000000\n",
      "75%       2006.0    2010.0      41.000000\n",
      "max       2006.0    2010.0      56.000000\n"
     ]
    }
   ],
   "source": [
    "df_al = utils.common_utils.load_and_describe_data('./Alcohol-Attributable_Deaths_due_to_Excessive_Alcohol_Use.csv')"
   ]
  },
  {
   "cell_type": "code",
   "execution_count": 3,
   "metadata": {},
   "outputs": [],
   "source": [
    "# import pandas_profiling as pp\n",
    "# pp.ProfileReport(df_al)"
   ]
  },
  {
   "cell_type": "code",
   "execution_count": 4,
   "metadata": {},
   "outputs": [
    {
     "data": {
      "text/html": [
       "<div>\n",
       "<style scoped>\n",
       "    .dataframe tbody tr th:only-of-type {\n",
       "        vertical-align: middle;\n",
       "    }\n",
       "\n",
       "    .dataframe tbody tr th {\n",
       "        vertical-align: top;\n",
       "    }\n",
       "\n",
       "    .dataframe thead th {\n",
       "        text-align: right;\n",
       "    }\n",
       "</style>\n",
       "<table border=\"1\" class=\"dataframe\">\n",
       "  <thead>\n",
       "    <tr style=\"text-align: right;\">\n",
       "      <th></th>\n",
       "      <th>yearstart</th>\n",
       "      <th>yearend</th>\n",
       "      <th>locationabbr</th>\n",
       "      <th>locationdesc</th>\n",
       "      <th>datasource</th>\n",
       "      <th>consumptionpattern</th>\n",
       "      <th>effect</th>\n",
       "      <th>conditiontype</th>\n",
       "      <th>condition</th>\n",
       "      <th>sex</th>\n",
       "      <th>agecategory</th>\n",
       "      <th>agegroup</th>\n",
       "      <th>data_value_unit</th>\n",
       "      <th>data_value_type</th>\n",
       "      <th>data_value</th>\n",
       "      <th>data_value_alt</th>\n",
       "      <th>locationid</th>\n",
       "      <th>classid</th>\n",
       "      <th>effectid</th>\n",
       "      <th>conditionid</th>\n",
       "      <th>consumptionid</th>\n",
       "      <th>stratification1id</th>\n",
       "      <th>agecategoryid</th>\n",
       "      <th>stratification2id</th>\n",
       "      <th>datavaluetypeid</th>\n",
       "    </tr>\n",
       "  </thead>\n",
       "  <tbody>\n",
       "    <tr>\n",
       "      <th>0</th>\n",
       "      <td>2006</td>\n",
       "      <td>2010</td>\n",
       "      <td>NY</td>\n",
       "      <td>New York</td>\n",
       "      <td>ARDI</td>\n",
       "      <td>Excessive Use</td>\n",
       "      <td>Beneficial Effects</td>\n",
       "      <td>Chronic</td>\n",
       "      <td>Stroke, hemorrhagic</td>\n",
       "      <td>Male</td>\n",
       "      <td>Under 21</td>\n",
       "      <td>0-&lt;21</td>\n",
       "      <td>number of alcohol attributable deaths</td>\n",
       "      <td>Annual Average</td>\n",
       "      <td>0</td>\n",
       "      <td>0.0</td>\n",
       "      <td>36</td>\n",
       "      <td>CHRONIC</td>\n",
       "      <td>BENEFF</td>\n",
       "      <td>STROKH</td>\n",
       "      <td>EXCUSE</td>\n",
       "      <td>GENM</td>\n",
       "      <td>AGECAT2</td>\n",
       "      <td>AGEGRP6</td>\n",
       "      <td>AnnAvg</td>\n",
       "    </tr>\n",
       "    <tr>\n",
       "      <th>1</th>\n",
       "      <td>2006</td>\n",
       "      <td>2010</td>\n",
       "      <td>UT</td>\n",
       "      <td>Utah</td>\n",
       "      <td>ARDI</td>\n",
       "      <td>Excessive Use</td>\n",
       "      <td>Beneficial Effects</td>\n",
       "      <td>All causes</td>\n",
       "      <td>Total for all causes</td>\n",
       "      <td>Overall</td>\n",
       "      <td>Other</td>\n",
       "      <td>All Ages</td>\n",
       "      <td>number of alcohol attributable deaths</td>\n",
       "      <td>Annual Average</td>\n",
       "      <td>&lt;-1</td>\n",
       "      <td>0.0</td>\n",
       "      <td>51</td>\n",
       "      <td>ALLCAU</td>\n",
       "      <td>BENEFF</td>\n",
       "      <td>TOTALS</td>\n",
       "      <td>EXCUSE</td>\n",
       "      <td>OVR</td>\n",
       "      <td>AGECAT1</td>\n",
       "      <td>AGEGRP0</td>\n",
       "      <td>AnnAvg</td>\n",
       "    </tr>\n",
       "    <tr>\n",
       "      <th>2</th>\n",
       "      <td>2006</td>\n",
       "      <td>2010</td>\n",
       "      <td>WA</td>\n",
       "      <td>Washington</td>\n",
       "      <td>ARDI</td>\n",
       "      <td>Excessive Use</td>\n",
       "      <td>Harmful Effects</td>\n",
       "      <td>Acute</td>\n",
       "      <td>Poisoning (not alcohol)</td>\n",
       "      <td>Male</td>\n",
       "      <td>Other</td>\n",
       "      <td>50-64</td>\n",
       "      <td>number of alcohol attributable deaths</td>\n",
       "      <td>Annual Average</td>\n",
       "      <td>37</td>\n",
       "      <td>37.1</td>\n",
       "      <td>53</td>\n",
       "      <td>ACUTE</td>\n",
       "      <td>HARMEFF</td>\n",
       "      <td>POISON</td>\n",
       "      <td>EXCUSE</td>\n",
       "      <td>GENM</td>\n",
       "      <td>AGECAT1</td>\n",
       "      <td>AGEGRP4</td>\n",
       "      <td>AnnAvg</td>\n",
       "    </tr>\n",
       "    <tr>\n",
       "      <th>3</th>\n",
       "      <td>2006</td>\n",
       "      <td>2010</td>\n",
       "      <td>IL</td>\n",
       "      <td>Illinois</td>\n",
       "      <td>ARDI</td>\n",
       "      <td>Excessive Use</td>\n",
       "      <td>Harmful Effects</td>\n",
       "      <td>Chronic</td>\n",
       "      <td>Cholelithiases</td>\n",
       "      <td>Male</td>\n",
       "      <td>Other</td>\n",
       "      <td>All Ages</td>\n",
       "      <td>number of alcohol attributable deaths</td>\n",
       "      <td>Annual Average</td>\n",
       "      <td>0</td>\n",
       "      <td>0.0</td>\n",
       "      <td>17</td>\n",
       "      <td>CHRONIC</td>\n",
       "      <td>HARMEFF</td>\n",
       "      <td>CHOLEL</td>\n",
       "      <td>EXCUSE</td>\n",
       "      <td>GENM</td>\n",
       "      <td>AGECAT1</td>\n",
       "      <td>AGEGRP0</td>\n",
       "      <td>AnnAvg</td>\n",
       "    </tr>\n",
       "    <tr>\n",
       "      <th>4</th>\n",
       "      <td>2006</td>\n",
       "      <td>2010</td>\n",
       "      <td>ND</td>\n",
       "      <td>North Dakota</td>\n",
       "      <td>ARDI</td>\n",
       "      <td>Excessive Use</td>\n",
       "      <td>Beneficial Effects</td>\n",
       "      <td>Chronic</td>\n",
       "      <td>Liver cancer</td>\n",
       "      <td>Male</td>\n",
       "      <td>Other</td>\n",
       "      <td>50-64</td>\n",
       "      <td>number of alcohol attributable deaths</td>\n",
       "      <td>Annual Average</td>\n",
       "      <td>0</td>\n",
       "      <td>0.0</td>\n",
       "      <td>38</td>\n",
       "      <td>CHRONIC</td>\n",
       "      <td>BENEFF</td>\n",
       "      <td>LIVCAN</td>\n",
       "      <td>EXCUSE</td>\n",
       "      <td>GENM</td>\n",
       "      <td>AGECAT1</td>\n",
       "      <td>AGEGRP4</td>\n",
       "      <td>AnnAvg</td>\n",
       "    </tr>\n",
       "  </tbody>\n",
       "</table>\n",
       "</div>"
      ],
      "text/plain": [
       "   yearstart  yearend locationabbr  locationdesc datasource       ...       consumptionid stratification1id agecategoryid stratification2id datavaluetypeid\n",
       "0       2006     2010           NY      New York       ARDI       ...              EXCUSE              GENM       AGECAT2           AGEGRP6          AnnAvg\n",
       "1       2006     2010           UT          Utah       ARDI       ...              EXCUSE               OVR       AGECAT1           AGEGRP0          AnnAvg\n",
       "2       2006     2010           WA    Washington       ARDI       ...              EXCUSE              GENM       AGECAT1           AGEGRP4          AnnAvg\n",
       "3       2006     2010           IL      Illinois       ARDI       ...              EXCUSE              GENM       AGECAT1           AGEGRP0          AnnAvg\n",
       "4       2006     2010           ND  North Dakota       ARDI       ...              EXCUSE              GENM       AGECAT1           AGEGRP4          AnnAvg\n",
       "\n",
       "[5 rows x 25 columns]"
      ]
     },
     "execution_count": 4,
     "metadata": {},
     "output_type": "execute_result"
    }
   ],
   "source": [
    "df_al.head()"
   ]
  },
  {
   "cell_type": "code",
   "execution_count": 5,
   "metadata": {},
   "outputs": [
    {
     "name": "stdout",
     "output_type": "stream",
     "text": [
      "['yearstart', 'yearend', 'datasource', 'consumptionpattern', 'data_value_unit', 'data_value_type', 'consumptionid', 'datavaluetypeid']\n"
     ]
    }
   ],
   "source": [
    "print(utils.common_utils.check_for_constant_columns(df_al))"
   ]
  },
  {
   "cell_type": "code",
   "execution_count": 6,
   "metadata": {},
   "outputs": [
    {
     "data": {
      "application/vnd.jupyter.widget-view+json": {
       "model_id": "7754aa78bb8649e4b31c65f568f02691",
       "version_major": 2,
       "version_minor": 0
      },
      "text/plain": [
       "Dropdown(description='Columns', index=8, options=('yearstart', 'yearend', 'locationabbr', 'locationdesc', 'dat…"
      ]
     },
     "metadata": {},
     "output_type": "display_data"
    },
    {
     "name": "stdout",
     "output_type": "stream",
     "text": [
      "Subtotal all causes                                      4368\n",
      "Suicide                                                  2184\n",
      "Drowning                                                 2184\n",
      "Homicide                                                 2184\n",
      "Low birth weight, prematurity, IUGR, death               2184\n",
      "Motor-vehicle traffic crashes                            2184\n",
      "Poisoning (not alcohol)                                  2184\n",
      "Child maltreatment                                       2184\n",
      "Fall injuries                                            2184\n",
      "Total for all causes                                     2184\n",
      "Motor-vehicle nontraffic crashes                         2178\n",
      "Other road vehicle crashes                               2178\n",
      "Fire injuries                                            2172\n",
      "Alcohol poisoning                                        2172\n",
      "Epilepsy                                                 2148\n",
      "Occupational and machine injuries                        2148\n",
      "Ischemic heart disease                                   2142\n",
      "Stroke, hemorrhagic                                      2130\n",
      "Firearm injuries                                         2130\n",
      "Air-space transport                                      2124\n",
      "Hypertension                                             2100\n",
      "Liver cirrhosis, unspecified                             2094\n",
      "Aspiration                                               2088\n",
      "Water transport                                          2082\n",
      "Alcoholic liver disease                                  2076\n",
      "Liver cancer                                             2076\n",
      "Hypothermia                                              2070\n",
      "Stroke, ischemic                                         2064\n",
      "Acute pancreatitis                                       2052\n",
      "Alcohol abuse                                            2052\n",
      "Breast cancer (females only)                             2010\n",
      "Alcoholic psychosis                                      2010\n",
      "Oropharyngeal cancer                                     1986\n",
      "Alcohol dependence syndrome                              1962\n",
      "Cholelithiases                                           1956\n",
      "Esophageal cancer                                        1956\n",
      "Alcohol cardiomyopathy                                   1926\n",
      "Supraventricular cardiac dysrhythmia                     1920\n",
      "Prostate cancer (males only)                             1896\n",
      "Laryngeal cancer                                         1890\n",
      "Chronic pancreatitis                                     1890\n",
      "Degeneration of nervous system due to alcohol            1884\n",
      "Portal hypertension                                      1824\n",
      "Alcohol-induced chronic pancreatitis                     1812\n",
      "Esophageal varices                                       1800\n",
      "Chronic hepatitis                                        1764\n",
      "Gastroesophageal hemorrhage                              1740\n",
      "Suicide by and exposure to alcohol                       1590\n",
      "Alcoholic gastritis                                      1524\n",
      "Psoriasis                                                1308\n",
      "Alcohol polyneuropathy                                    900\n",
      "Fetal alcohol syndrome                                    828\n",
      "Spontaneous abortion (females only)                       612\n",
      "Fetus and newborn affected by maternal use of alcohol     336\n",
      "Alcoholic myopathy                                        324\n",
      "Excessive blood alcohol level                             288\n",
      "Name: condition, dtype: int64\n"
     ]
    }
   ],
   "source": [
    "utils.common_utils.view_column_value_counts(df_al)"
   ]
  },
  {
   "cell_type": "code",
   "execution_count": 7,
   "metadata": {},
   "outputs": [],
   "source": [
    "# from IPython.display import display, clear_output\n",
    "# import ipywidgets as widgets"
   ]
  },
  {
   "cell_type": "code",
   "execution_count": 8,
   "metadata": {},
   "outputs": [],
   "source": [
    "df_al['data_value_alt'] = df_al['data_value_alt'].str.replace(',','').astype(float)"
   ]
  },
  {
   "cell_type": "code",
   "execution_count": 30,
   "metadata": {},
   "outputs": [
    {
     "data": {
      "application/vnd.jupyter.widget-view+json": {
       "model_id": "76e6b9cf48884bbd9cd1d4574ad3d7f3",
       "version_major": 2,
       "version_minor": 0
      },
      "text/plain": [
       "interactive(children=(Dropdown(description='location', options=('New York', 'Utah', 'Washington', 'Illinois', …"
      ]
     },
     "metadata": {},
     "output_type": "display_data"
    }
   ],
   "source": [
    "locations = df_al['locationdesc'].unique()\n",
    "conditions = df_al['condition'].unique()\n",
    "data_value_unit = df_al['data_value_unit'].unique()\n",
    "data_value_type = df_al['data_value_type'].unique()\n",
    "\n",
    "#https://ipython-books.github.io/33-mastering-widgets-in-the-jupyter-notebook/\n",
    "@widgets.interact_manual(\n",
    "    location=locations, condition=conditions)\n",
    "\n",
    "def print_filter_by_location(location=locations[0], condition=conditions[0]):\n",
    "    cols = ['agegroup', 'sex', 'data_value_alt']\n",
    "    print('Location : ' + location)\n",
    "    print('Condition : ' + condition)\n",
    "    print('Data value unit : ' + data_value_unit[0])\n",
    "    print('Data value type : ' + data_value_type[0])\n",
    "    print(df_al.loc[(df_al['locationdesc']==location) & (df_al['condition']==condition) & (df_al['data_value_alt']>0), cols])\n",
    "    print('*'*5 + ' pivot ' + '*'*5)\n",
    "    print(df_al.loc[(df_al['locationdesc']==location) & (df_al['condition']==condition) & (df_al['data_value_alt']>0), cols].pivot(index='agegroup', columns='sex', values='data_value_alt'))\n",
    "    data_pivot = df_al.loc[(df_al['locationdesc']==location) & (df_al['condition']==condition) & (df_al['data_value_alt']>0), cols].pivot(index='agegroup', columns='sex', values='data_value_alt')\n",
    "    len_data = len(data_pivot)\n",
    "    if len_data > 0:\n",
    "        (data_pivot).plot(kind='bar')"
   ]
  },
  {
   "cell_type": "code",
   "execution_count": null,
   "metadata": {},
   "outputs": [],
   "source": []
  }
 ],
 "metadata": {
  "kernelspec": {
   "display_name": "Python 3",
   "language": "python",
   "name": "python3"
  },
  "language_info": {
   "codemirror_mode": {
    "name": "ipython",
    "version": 3
   },
   "file_extension": ".py",
   "mimetype": "text/x-python",
   "name": "python",
   "nbconvert_exporter": "python",
   "pygments_lexer": "ipython3",
   "version": "3.6.6"
  },
  "widgets": {
   "application/vnd.jupyter.widget-state+json": {
    "state": {
     "0022ba52a81c4646bd383da6b9c1286d": {
      "model_module": "@jupyter-widgets/controls",
      "model_module_version": "1.4.0",
      "model_name": "ButtonStyleModel",
      "state": {}
     },
     "00617f500dcb446dbfb1de087eead7c4": {
      "model_module": "@jupyter-widgets/controls",
      "model_module_version": "1.4.0",
      "model_name": "DropdownModel",
      "state": {
       "_options_labels": [
        "blue",
        "green"
       ],
       "description": "x",
       "index": 0,
       "layout": "IPY_MODEL_fc7a708dc38b46c9898544376d87c8fc",
       "style": "IPY_MODEL_ac7ece8a1eb14547a4b53d92eea7ca79"
      }
     },
     "00b3494348bc4e9c8c3341ee669db213": {
      "model_module": "@jupyter-widgets/base",
      "model_module_version": "1.1.0",
      "model_name": "LayoutModel",
      "state": {}
     },
     "01fa4767e140416cb7b26e6eaeb39752": {
      "model_module": "@jupyter-widgets/controls",
      "model_module_version": "1.4.0",
      "model_name": "ButtonModel",
      "state": {
       "description": "Run Interact",
       "layout": "IPY_MODEL_38d40760ef294fd88c4237fe64a79250",
       "style": "IPY_MODEL_2a861b534385477694c2ea7b0b314274"
      }
     },
     "0289327e7176478981eeeb058d93fea1": {
      "model_module": "@jupyter-widgets/base",
      "model_module_version": "1.1.0",
      "model_name": "LayoutModel",
      "state": {}
     },
     "03078ab6b9854410854db64c8ebd9331": {
      "model_module": "@jupyter-widgets/base",
      "model_module_version": "1.1.0",
      "model_name": "LayoutModel",
      "state": {}
     },
     "0464375c8c7c4ebfafbc569d8d4c80c9": {
      "model_module": "@jupyter-widgets/base",
      "model_module_version": "1.1.0",
      "model_name": "LayoutModel",
      "state": {}
     },
     "04c203119ca1428aa52cc6a82f183204": {
      "model_module": "@jupyter-widgets/output",
      "model_module_version": "1.0.0",
      "model_name": "OutputModel",
      "state": {
       "layout": "IPY_MODEL_00b3494348bc4e9c8c3341ee669db213"
      }
     },
     "0531445b638645faa1c0c012c4bf0eb8": {
      "model_module": "@jupyter-widgets/controls",
      "model_module_version": "1.4.0",
      "model_name": "VBoxModel",
      "state": {
       "_dom_classes": [
        "widget-interact"
       ],
       "children": [
        "IPY_MODEL_5c9cad07b3f14d3e8a8353c07590d6c8",
        "IPY_MODEL_2e5247c91a48499292499fce6e915121",
        "IPY_MODEL_f6213e9abcc749ddbcc33c0f74eab16f",
        "IPY_MODEL_5cb37cdb17784884a95dd1bdcdd8cb84"
       ],
       "layout": "IPY_MODEL_1ed2ac6cdee546f09c342eee1f78054d"
      }
     },
     "05803c52c4de4f88bf4d4f168854e22a": {
      "model_module": "@jupyter-widgets/controls",
      "model_module_version": "1.4.0",
      "model_name": "ButtonModel",
      "state": {
       "description": "Run Interact",
       "layout": "IPY_MODEL_74fb394687384603bbe007d258788c82",
       "style": "IPY_MODEL_3c78c31bf4784bd6ae65e26e7356a32f"
      }
     },
     "05a799b700964269ac80f2932fa021c5": {
      "model_module": "@jupyter-widgets/base",
      "model_module_version": "1.1.0",
      "model_name": "LayoutModel",
      "state": {}
     },
     "05d2d6102cad49b697b1708db57af7bc": {
      "model_module": "@jupyter-widgets/base",
      "model_module_version": "1.1.0",
      "model_name": "LayoutModel",
      "state": {}
     },
     "05fda82d6cd246298b235a2e6349c021": {
      "model_module": "@jupyter-widgets/base",
      "model_module_version": "1.1.0",
      "model_name": "LayoutModel",
      "state": {}
     },
     "0631e77e312b45e08568c109a60856e4": {
      "model_module": "@jupyter-widgets/output",
      "model_module_version": "1.0.0",
      "model_name": "OutputModel",
      "state": {
       "layout": "IPY_MODEL_9b9c3bc7f6a042939c2b7a42ce8b2e5c",
       "outputs": [
        {
         "data": {
          "text/plain": "'blue'"
         },
         "metadata": {},
         "output_type": "display_data"
        }
       ]
      }
     },
     "065a3d6c9025433298803297a122339b": {
      "model_module": "@jupyter-widgets/output",
      "model_module_version": "1.0.0",
      "model_name": "OutputModel",
      "state": {
       "layout": "IPY_MODEL_da5bd64d06684c89bfbb92a4f3ff7b7d"
      }
     },
     "06a53a32a6014cee80c970a8e0de29e7": {
      "model_module": "@jupyter-widgets/output",
      "model_module_version": "1.0.0",
      "model_name": "OutputModel",
      "state": {
       "layout": "IPY_MODEL_09b4dcbdf96843f394c3c25f02e4f2a7"
      }
     },
     "075791d6aef84ca092283d754c7e8e12": {
      "model_module": "@jupyter-widgets/controls",
      "model_module_version": "1.4.0",
      "model_name": "ButtonModel",
      "state": {
       "description": "Run Interact",
       "layout": "IPY_MODEL_7c7408283dda4da39e0a5821556bd580",
       "style": "IPY_MODEL_3cb7355e7b94402ca1d7d374befc94ca"
      }
     },
     "075d2cbb2805456f837d246cd24e4811": {
      "model_module": "@jupyter-widgets/controls",
      "model_module_version": "1.4.0",
      "model_name": "VBoxModel",
      "state": {
       "_dom_classes": [
        "widget-interact"
       ],
       "children": [
        "IPY_MODEL_ccd8e0b593ea43a39b7d70aef9593ba0",
        "IPY_MODEL_fdc76a837c7b47ba8187f096e18bbb3f"
       ],
       "layout": "IPY_MODEL_18b6f78fceb34c0fb681959c8d98f71a"
      }
     },
     "08761b2652a84ad7b313d2eeb5975375": {
      "model_module": "@jupyter-widgets/base",
      "model_module_version": "1.1.0",
      "model_name": "LayoutModel",
      "state": {}
     },
     "08aa0960a65848d683646f62ee05f7cf": {
      "model_module": "@jupyter-widgets/controls",
      "model_module_version": "1.4.0",
      "model_name": "DescriptionStyleModel",
      "state": {
       "description_width": ""
      }
     },
     "08b3934a41134164a9c5be04440881d8": {
      "model_module": "@jupyter-widgets/base",
      "model_module_version": "1.1.0",
      "model_name": "LayoutModel",
      "state": {}
     },
     "09b4dcbdf96843f394c3c25f02e4f2a7": {
      "model_module": "@jupyter-widgets/base",
      "model_module_version": "1.1.0",
      "model_name": "LayoutModel",
      "state": {}
     },
     "09fbb42d24394f4d8bf8ea7d75c65d3e": {
      "model_module": "@jupyter-widgets/output",
      "model_module_version": "1.0.0",
      "model_name": "OutputModel",
      "state": {
       "layout": "IPY_MODEL_a090b9897c5745ddb06b1621493e53b2",
       "outputs": [
        {
         "name": "stdout",
         "output_type": "stream",
         "text": "Data value unit :number of alcohol attributable deaths\nData value type :Annual Average\n        agegroup      sex  data_value_alt\n27576      35-49     Male             6.5\n28493        65+  Overall            54.6\n31312      20-34   Female             0.1\n34588      35-49   Female             0.9\n50947        65+     Male            44.5\n55623      20-34     Male             1.0\n62259      50-64     Male            14.8\n64092   All Ages  Overall            80.1\n68112      35-49  Overall             7.3\n74529      0-<21  Overall             0.1\n75975        65+   Female            10.1\n76517      50-64  Overall            17.0\n82782      20-34  Overall             1.1\n83520      50-64   Female             2.2\n103382  All Ages     Male            66.8\n103860  All Ages   Female            13.3\n***** pivot *****\nsex       Female  Male  Overall\nagegroup                       \n0-<21        NaN   NaN      0.1\n20-34        0.1   1.0      1.1\n35-49        0.9   6.5      7.3\n50-64        2.2  14.8     17.0\n65+         10.1  44.5     54.6\nAll Ages    13.3  66.8     80.1\n6\n"
        },
        {
         "data": {
          "image/png": "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\n",
          "text/plain": "<Figure size 432x288 with 1 Axes>"
         },
         "metadata": {
          "needs_background": "light"
         },
         "output_type": "display_data"
        }
       ]
      }
     },
     "0add1e63738d4b68a6adcf5690b2ab74": {
      "model_module": "@jupyter-widgets/base",
      "model_module_version": "1.1.0",
      "model_name": "LayoutModel",
      "state": {}
     },
     "0b4b6be414244d2188629e348518f385": {
      "model_module": "@jupyter-widgets/base",
      "model_module_version": "1.1.0",
      "model_name": "LayoutModel",
      "state": {}
     },
     "0c2197056e4448b2899e722e759be706": {
      "model_module": "@jupyter-widgets/controls",
      "model_module_version": "1.4.0",
      "model_name": "DescriptionStyleModel",
      "state": {
       "description_width": ""
      }
     },
     "0c56b441ab0b45c2bb08d2bf48d325cd": {
      "model_module": "@jupyter-widgets/base",
      "model_module_version": "1.1.0",
      "model_name": "LayoutModel",
      "state": {}
     },
     "0cea4290346d4182b9f9d1bb0e6347c0": {
      "model_module": "@jupyter-widgets/controls",
      "model_module_version": "1.4.0",
      "model_name": "SliderStyleModel",
      "state": {
       "description_width": ""
      }
     },
     "0d03c2f84e2041c98ce19af9cf75c7c9": {
      "model_module": "@jupyter-widgets/controls",
      "model_module_version": "1.4.0",
      "model_name": "DropdownModel",
      "state": {
       "_options_labels": [
        "New York",
        "Utah",
        "Washington",
        "Illinois",
        "North Dakota",
        "Oklahoma",
        "New Mexico",
        "Arkansas",
        "New Hampshire",
        "California",
        "Montana",
        "Iowa",
        "Wyoming",
        "Minnesota",
        "Rhode Island",
        "Florida",
        "Louisiana",
        "Colorado",
        "Alabama",
        "Massachusetts",
        "Idaho",
        "Arizona",
        "Wisconsin",
        "Nevada",
        "Oregon",
        "South Dakota",
        "Maryland",
        "South Carolina",
        "Michigan",
        "Indiana",
        "Tennessee",
        "Connecticut",
        "Virginia",
        "Nebraska",
        "National",
        "West Virginia",
        "Hawaii",
        "Delaware",
        "Pennsylvania",
        "Vermont",
        "District of Columbia",
        "Maine",
        "New Jersey",
        "Kansas",
        "Georgia",
        "Missouri",
        "Texas",
        "Kentucky",
        "Ohio",
        "Alaska",
        "North Carolina",
        "Mississippi"
       ],
       "description": "location",
       "index": 1,
       "layout": "IPY_MODEL_a98f282d32a349edb740c11e263f19f6",
       "style": "IPY_MODEL_a8c809ffd1204223a2c065d138d09ca1"
      }
     },
     "0d1a69e4cad64d26b2dc95f86111aad4": {
      "model_module": "@jupyter-widgets/controls",
      "model_module_version": "1.4.0",
      "model_name": "ButtonStyleModel",
      "state": {}
     },
     "0d6ad2e6bec442cb99e9c00d21dda643": {
      "model_module": "@jupyter-widgets/controls",
      "model_module_version": "1.4.0",
      "model_name": "VBoxModel",
      "state": {
       "_dom_classes": [
        "widget-interact"
       ],
       "layout": "IPY_MODEL_591344e73a2f4eb498ef1735a0fa8341"
      }
     },
     "0ebc7ffea5e54a948792fdda7688708b": {
      "model_module": "@jupyter-widgets/base",
      "model_module_version": "1.1.0",
      "model_name": "LayoutModel",
      "state": {}
     },
     "0fd00718b592413faa50a410f3ac26c9": {
      "model_module": "@jupyter-widgets/base",
      "model_module_version": "1.1.0",
      "model_name": "LayoutModel",
      "state": {}
     },
     "103406393f4b4c52be2febfa10a4c3d2": {
      "model_module": "@jupyter-widgets/output",
      "model_module_version": "1.0.0",
      "model_name": "OutputModel",
      "state": {
       "layout": "IPY_MODEL_54b210af73ad40f09e6c917432d15555",
       "outputs": [
        {
         "ename": "NameError",
         "evalue": "name 'condition' is not defined",
         "output_type": "error",
         "traceback": [
          "\u001b[0;31m---------------------------------------------------------------------------\u001b[0m",
          "\u001b[0;31mNameError\u001b[0m                                 Traceback (most recent call last)",
          "\u001b[0;32m/opt/conda/lib/python3.6/site-packages/ipywidgets/widgets/interaction.py\u001b[0m in \u001b[0;36mupdate\u001b[0;34m(self, *args)\u001b[0m\n\u001b[1;32m    249\u001b[0m                     \u001b[0mvalue\u001b[0m \u001b[0;34m=\u001b[0m \u001b[0mwidget\u001b[0m\u001b[0;34m.\u001b[0m\u001b[0mget_interact_value\u001b[0m\u001b[0;34m(\u001b[0m\u001b[0;34m)\u001b[0m\u001b[0;34m\u001b[0m\u001b[0m\n\u001b[1;32m    250\u001b[0m                     \u001b[0mself\u001b[0m\u001b[0;34m.\u001b[0m\u001b[0mkwargs\u001b[0m\u001b[0;34m[\u001b[0m\u001b[0mwidget\u001b[0m\u001b[0;34m.\u001b[0m\u001b[0m_kwarg\u001b[0m\u001b[0;34m]\u001b[0m \u001b[0;34m=\u001b[0m \u001b[0mvalue\u001b[0m\u001b[0;34m\u001b[0m\u001b[0m\n\u001b[0;32m--> 251\u001b[0;31m                 \u001b[0mself\u001b[0m\u001b[0;34m.\u001b[0m\u001b[0mresult\u001b[0m \u001b[0;34m=\u001b[0m \u001b[0mself\u001b[0m\u001b[0;34m.\u001b[0m\u001b[0mf\u001b[0m\u001b[0;34m(\u001b[0m\u001b[0;34m**\u001b[0m\u001b[0mself\u001b[0m\u001b[0;34m.\u001b[0m\u001b[0mkwargs\u001b[0m\u001b[0;34m)\u001b[0m\u001b[0;34m\u001b[0m\u001b[0m\n\u001b[0m\u001b[1;32m    252\u001b[0m                 \u001b[0mshow_inline_matplotlib_plots\u001b[0m\u001b[0;34m(\u001b[0m\u001b[0;34m)\u001b[0m\u001b[0;34m\u001b[0m\u001b[0m\n\u001b[1;32m    253\u001b[0m                 \u001b[0;32mif\u001b[0m \u001b[0mself\u001b[0m\u001b[0;34m.\u001b[0m\u001b[0mauto_display\u001b[0m \u001b[0;32mand\u001b[0m \u001b[0mself\u001b[0m\u001b[0;34m.\u001b[0m\u001b[0mresult\u001b[0m \u001b[0;32mis\u001b[0m \u001b[0;32mnot\u001b[0m \u001b[0;32mNone\u001b[0m\u001b[0;34m:\u001b[0m\u001b[0;34m\u001b[0m\u001b[0m\n",
          "\u001b[0;32m<ipython-input-23-ca6961188f97>\u001b[0m in \u001b[0;36mset_condition\u001b[0;34m(x)\u001b[0m\n\u001b[1;32m      3\u001b[0m \u001b[0;34m\u001b[0m\u001b[0m\n\u001b[1;32m      4\u001b[0m \u001b[0;32mdef\u001b[0m \u001b[0mset_condition\u001b[0m\u001b[0;34m(\u001b[0m\u001b[0mx\u001b[0m\u001b[0;34m)\u001b[0m\u001b[0;34m:\u001b[0m\u001b[0;34m\u001b[0m\u001b[0m\n\u001b[0;32m----> 5\u001b[0;31m     \u001b[0mcondition_var\u001b[0m \u001b[0;34m=\u001b[0m \u001b[0mcondition\u001b[0m\u001b[0;34m\u001b[0m\u001b[0m\n\u001b[0m\u001b[1;32m      6\u001b[0m \u001b[0;34m\u001b[0m\u001b[0m\n\u001b[1;32m      7\u001b[0m \u001b[0mlocations\u001b[0m \u001b[0;34m=\u001b[0m \u001b[0mdf_al\u001b[0m\u001b[0;34m[\u001b[0m\u001b[0;34m'locationdesc'\u001b[0m\u001b[0;34m]\u001b[0m\u001b[0;34m.\u001b[0m\u001b[0munique\u001b[0m\u001b[0;34m(\u001b[0m\u001b[0;34m)\u001b[0m\u001b[0;34m\u001b[0m\u001b[0m\n",
          "\u001b[0;31mNameError\u001b[0m: name 'condition' is not defined"
         ]
        }
       ]
      }
     },
     "10ff4ce110854a669ada17ab55e81432": {
      "model_module": "@jupyter-widgets/controls",
      "model_module_version": "1.4.0",
      "model_name": "ButtonStyleModel",
      "state": {}
     },
     "123665226a224418941d83df3b70edab": {
      "model_module": "@jupyter-widgets/output",
      "model_module_version": "1.0.0",
      "model_name": "OutputModel",
      "state": {
       "layout": "IPY_MODEL_6e24ec1d44db4db899240a940e1c31f8",
       "outputs": [
        {
         "name": "stdout",
         "output_type": "stream",
         "text": "Data value unit :number of alcohol attributable deaths\nData value type :Annual Average\nEmpty DataFrame\nColumns: [agegroup, sex, data_value_alt]\nIndex: []\n***** pivot *****\n"
        },
        {
         "ename": "TypeError",
         "evalue": "Empty 'DataFrame': no numeric data to plot",
         "output_type": "error",
         "traceback": [
          "\u001b[0;31m---------------------------------------------------------------------------\u001b[0m",
          "\u001b[0;31mTypeError\u001b[0m                                 Traceback (most recent call last)",
          "\u001b[0;32m/opt/conda/lib/python3.6/site-packages/ipywidgets/widgets/interaction.py\u001b[0m in \u001b[0;36mupdate\u001b[0;34m(self, *args)\u001b[0m\n\u001b[1;32m    249\u001b[0m                     \u001b[0mvalue\u001b[0m \u001b[0;34m=\u001b[0m \u001b[0mwidget\u001b[0m\u001b[0;34m.\u001b[0m\u001b[0mget_interact_value\u001b[0m\u001b[0;34m(\u001b[0m\u001b[0;34m)\u001b[0m\u001b[0;34m\u001b[0m\u001b[0m\n\u001b[1;32m    250\u001b[0m                     \u001b[0mself\u001b[0m\u001b[0;34m.\u001b[0m\u001b[0mkwargs\u001b[0m\u001b[0;34m[\u001b[0m\u001b[0mwidget\u001b[0m\u001b[0;34m.\u001b[0m\u001b[0m_kwarg\u001b[0m\u001b[0;34m]\u001b[0m \u001b[0;34m=\u001b[0m \u001b[0mvalue\u001b[0m\u001b[0;34m\u001b[0m\u001b[0m\n\u001b[0;32m--> 251\u001b[0;31m                 \u001b[0mself\u001b[0m\u001b[0;34m.\u001b[0m\u001b[0mresult\u001b[0m \u001b[0;34m=\u001b[0m \u001b[0mself\u001b[0m\u001b[0;34m.\u001b[0m\u001b[0mf\u001b[0m\u001b[0;34m(\u001b[0m\u001b[0;34m**\u001b[0m\u001b[0mself\u001b[0m\u001b[0;34m.\u001b[0m\u001b[0mkwargs\u001b[0m\u001b[0;34m)\u001b[0m\u001b[0;34m\u001b[0m\u001b[0m\n\u001b[0m\u001b[1;32m    252\u001b[0m                 \u001b[0mshow_inline_matplotlib_plots\u001b[0m\u001b[0;34m(\u001b[0m\u001b[0;34m)\u001b[0m\u001b[0;34m\u001b[0m\u001b[0m\n\u001b[1;32m    253\u001b[0m                 \u001b[0;32mif\u001b[0m \u001b[0mself\u001b[0m\u001b[0;34m.\u001b[0m\u001b[0mauto_display\u001b[0m \u001b[0;32mand\u001b[0m \u001b[0mself\u001b[0m\u001b[0;34m.\u001b[0m\u001b[0mresult\u001b[0m \u001b[0;32mis\u001b[0m \u001b[0;32mnot\u001b[0m \u001b[0;32mNone\u001b[0m\u001b[0;34m:\u001b[0m\u001b[0;34m\u001b[0m\u001b[0m\n",
          "\u001b[0;32m<ipython-input-21-82989ea11ccf>\u001b[0m in \u001b[0;36mprint_filter_by_location\u001b[0;34m(location, condition)\u001b[0m\n\u001b[1;32m     19\u001b[0m     \u001b[0mprint\u001b[0m\u001b[0;34m(\u001b[0m\u001b[0;34m'*'\u001b[0m\u001b[0;34m*\u001b[0m\u001b[0;36m5\u001b[0m \u001b[0;34m+\u001b[0m \u001b[0;34m' pivot '\u001b[0m \u001b[0;34m+\u001b[0m \u001b[0;34m'*'\u001b[0m\u001b[0;34m*\u001b[0m\u001b[0;36m5\u001b[0m\u001b[0;34m)\u001b[0m\u001b[0;34m\u001b[0m\u001b[0m\n\u001b[1;32m     20\u001b[0m     \u001b[0;31m#print(df_al.loc[(df_al['locationdesc']==location) & (df_al['condition']==condition) & (df_al['data_value_alt']>0), cols].pivot(index='agegroup', columns='sex', values='data_value_alt'))\u001b[0m\u001b[0;34m\u001b[0m\u001b[0;34m\u001b[0m\u001b[0m\n\u001b[0;32m---> 21\u001b[0;31m     \u001b[0;34m(\u001b[0m\u001b[0mdf_al\u001b[0m\u001b[0;34m.\u001b[0m\u001b[0mloc\u001b[0m\u001b[0;34m[\u001b[0m\u001b[0;34m(\u001b[0m\u001b[0mdf_al\u001b[0m\u001b[0;34m[\u001b[0m\u001b[0;34m'locationdesc'\u001b[0m\u001b[0;34m]\u001b[0m\u001b[0;34m==\u001b[0m\u001b[0mlocation\u001b[0m\u001b[0;34m)\u001b[0m \u001b[0;34m&\u001b[0m \u001b[0;34m(\u001b[0m\u001b[0mdf_al\u001b[0m\u001b[0;34m[\u001b[0m\u001b[0;34m'condition'\u001b[0m\u001b[0;34m]\u001b[0m\u001b[0;34m==\u001b[0m\u001b[0mcondition\u001b[0m\u001b[0;34m)\u001b[0m \u001b[0;34m&\u001b[0m \u001b[0;34m(\u001b[0m\u001b[0mdf_al\u001b[0m\u001b[0;34m[\u001b[0m\u001b[0;34m'data_value_alt'\u001b[0m\u001b[0;34m]\u001b[0m\u001b[0;34m>\u001b[0m\u001b[0;36m0\u001b[0m\u001b[0;34m)\u001b[0m\u001b[0;34m,\u001b[0m \u001b[0mcols\u001b[0m\u001b[0;34m]\u001b[0m\u001b[0;34m.\u001b[0m\u001b[0mpivot\u001b[0m\u001b[0;34m(\u001b[0m\u001b[0mindex\u001b[0m\u001b[0;34m=\u001b[0m\u001b[0;34m'agegroup'\u001b[0m\u001b[0;34m,\u001b[0m \u001b[0mcolumns\u001b[0m\u001b[0;34m=\u001b[0m\u001b[0;34m'sex'\u001b[0m\u001b[0;34m,\u001b[0m \u001b[0mvalues\u001b[0m\u001b[0;34m=\u001b[0m\u001b[0;34m'data_value_alt'\u001b[0m\u001b[0;34m)\u001b[0m\u001b[0;34m)\u001b[0m\u001b[0;34m.\u001b[0m\u001b[0mplot\u001b[0m\u001b[0;34m(\u001b[0m\u001b[0mkind\u001b[0m\u001b[0;34m=\u001b[0m\u001b[0;34m'bar'\u001b[0m\u001b[0;34m)\u001b[0m\u001b[0;34m\u001b[0m\u001b[0m\n\u001b[0m",
          "\u001b[0;32m/opt/conda/lib/python3.6/site-packages/pandas/plotting/_core.py\u001b[0m in \u001b[0;36m__call__\u001b[0;34m(self, x, y, kind, ax, subplots, sharex, sharey, layout, figsize, use_index, title, grid, legend, style, logx, logy, loglog, xticks, yticks, xlim, ylim, rot, fontsize, colormap, table, yerr, xerr, secondary_y, sort_columns, **kwds)\u001b[0m\n\u001b[1;32m   2939\u001b[0m                           \u001b[0mfontsize\u001b[0m\u001b[0;34m=\u001b[0m\u001b[0mfontsize\u001b[0m\u001b[0;34m,\u001b[0m \u001b[0mcolormap\u001b[0m\u001b[0;34m=\u001b[0m\u001b[0mcolormap\u001b[0m\u001b[0;34m,\u001b[0m \u001b[0mtable\u001b[0m\u001b[0;34m=\u001b[0m\u001b[0mtable\u001b[0m\u001b[0;34m,\u001b[0m\u001b[0;34m\u001b[0m\u001b[0m\n\u001b[1;32m   2940\u001b[0m                           \u001b[0myerr\u001b[0m\u001b[0;34m=\u001b[0m\u001b[0myerr\u001b[0m\u001b[0;34m,\u001b[0m \u001b[0mxerr\u001b[0m\u001b[0;34m=\u001b[0m\u001b[0mxerr\u001b[0m\u001b[0;34m,\u001b[0m \u001b[0msecondary_y\u001b[0m\u001b[0;34m=\u001b[0m\u001b[0msecondary_y\u001b[0m\u001b[0;34m,\u001b[0m\u001b[0;34m\u001b[0m\u001b[0m\n\u001b[0;32m-> 2941\u001b[0;31m                           sort_columns=sort_columns, **kwds)\n\u001b[0m\u001b[1;32m   2942\u001b[0m     \u001b[0m__call__\u001b[0m\u001b[0;34m.\u001b[0m\u001b[0m__doc__\u001b[0m \u001b[0;34m=\u001b[0m \u001b[0mplot_frame\u001b[0m\u001b[0;34m.\u001b[0m\u001b[0m__doc__\u001b[0m\u001b[0;34m\u001b[0m\u001b[0m\n\u001b[1;32m   2943\u001b[0m \u001b[0;34m\u001b[0m\u001b[0m\n",
          "\u001b[0;32m/opt/conda/lib/python3.6/site-packages/pandas/plotting/_core.py\u001b[0m in \u001b[0;36mplot_frame\u001b[0;34m(data, x, y, kind, ax, subplots, sharex, sharey, layout, figsize, use_index, title, grid, legend, style, logx, logy, loglog, xticks, yticks, xlim, ylim, rot, fontsize, colormap, table, yerr, xerr, secondary_y, sort_columns, **kwds)\u001b[0m\n\u001b[1;32m   1975\u001b[0m                  \u001b[0myerr\u001b[0m\u001b[0;34m=\u001b[0m\u001b[0myerr\u001b[0m\u001b[0;34m,\u001b[0m \u001b[0mxerr\u001b[0m\u001b[0;34m=\u001b[0m\u001b[0mxerr\u001b[0m\u001b[0;34m,\u001b[0m\u001b[0;34m\u001b[0m\u001b[0m\n\u001b[1;32m   1976\u001b[0m                  \u001b[0msecondary_y\u001b[0m\u001b[0;34m=\u001b[0m\u001b[0msecondary_y\u001b[0m\u001b[0;34m,\u001b[0m \u001b[0msort_columns\u001b[0m\u001b[0;34m=\u001b[0m\u001b[0msort_columns\u001b[0m\u001b[0;34m,\u001b[0m\u001b[0;34m\u001b[0m\u001b[0m\n\u001b[0;32m-> 1977\u001b[0;31m                  **kwds)\n\u001b[0m\u001b[1;32m   1978\u001b[0m \u001b[0;34m\u001b[0m\u001b[0m\n\u001b[1;32m   1979\u001b[0m \u001b[0;34m\u001b[0m\u001b[0m\n",
          "\u001b[0;32m/opt/conda/lib/python3.6/site-packages/pandas/plotting/_core.py\u001b[0m in \u001b[0;36m_plot\u001b[0;34m(data, x, y, subplots, ax, kind, **kwds)\u001b[0m\n\u001b[1;32m   1802\u001b[0m         \u001b[0mplot_obj\u001b[0m \u001b[0;34m=\u001b[0m \u001b[0mklass\u001b[0m\u001b[0;34m(\u001b[0m\u001b[0mdata\u001b[0m\u001b[0;34m,\u001b[0m \u001b[0msubplots\u001b[0m\u001b[0;34m=\u001b[0m\u001b[0msubplots\u001b[0m\u001b[0;34m,\u001b[0m \u001b[0max\u001b[0m\u001b[0;34m=\u001b[0m\u001b[0max\u001b[0m\u001b[0;34m,\u001b[0m \u001b[0mkind\u001b[0m\u001b[0;34m=\u001b[0m\u001b[0mkind\u001b[0m\u001b[0;34m,\u001b[0m \u001b[0;34m**\u001b[0m\u001b[0mkwds\u001b[0m\u001b[0;34m)\u001b[0m\u001b[0;34m\u001b[0m\u001b[0m\n\u001b[1;32m   1803\u001b[0m \u001b[0;34m\u001b[0m\u001b[0m\n\u001b[0;32m-> 1804\u001b[0;31m     \u001b[0mplot_obj\u001b[0m\u001b[0;34m.\u001b[0m\u001b[0mgenerate\u001b[0m\u001b[0;34m(\u001b[0m\u001b[0;34m)\u001b[0m\u001b[0;34m\u001b[0m\u001b[0m\n\u001b[0m\u001b[1;32m   1805\u001b[0m     \u001b[0mplot_obj\u001b[0m\u001b[0;34m.\u001b[0m\u001b[0mdraw\u001b[0m\u001b[0;34m(\u001b[0m\u001b[0;34m)\u001b[0m\u001b[0;34m\u001b[0m\u001b[0m\n\u001b[1;32m   1806\u001b[0m     \u001b[0;32mreturn\u001b[0m \u001b[0mplot_obj\u001b[0m\u001b[0;34m.\u001b[0m\u001b[0mresult\u001b[0m\u001b[0;34m\u001b[0m\u001b[0m\n",
          "\u001b[0;32m/opt/conda/lib/python3.6/site-packages/pandas/plotting/_core.py\u001b[0m in \u001b[0;36mgenerate\u001b[0;34m(self)\u001b[0m\n\u001b[1;32m    256\u001b[0m     \u001b[0;32mdef\u001b[0m \u001b[0mgenerate\u001b[0m\u001b[0;34m(\u001b[0m\u001b[0mself\u001b[0m\u001b[0;34m)\u001b[0m\u001b[0;34m:\u001b[0m\u001b[0;34m\u001b[0m\u001b[0m\n\u001b[1;32m    257\u001b[0m         \u001b[0mself\u001b[0m\u001b[0;34m.\u001b[0m\u001b[0m_args_adjust\u001b[0m\u001b[0;34m(\u001b[0m\u001b[0;34m)\u001b[0m\u001b[0;34m\u001b[0m\u001b[0m\n\u001b[0;32m--> 258\u001b[0;31m         \u001b[0mself\u001b[0m\u001b[0;34m.\u001b[0m\u001b[0m_compute_plot_data\u001b[0m\u001b[0;34m(\u001b[0m\u001b[0;34m)\u001b[0m\u001b[0;34m\u001b[0m\u001b[0m\n\u001b[0m\u001b[1;32m    259\u001b[0m         \u001b[0mself\u001b[0m\u001b[0;34m.\u001b[0m\u001b[0m_setup_subplots\u001b[0m\u001b[0;34m(\u001b[0m\u001b[0;34m)\u001b[0m\u001b[0;34m\u001b[0m\u001b[0m\n\u001b[1;32m    260\u001b[0m         \u001b[0mself\u001b[0m\u001b[0;34m.\u001b[0m\u001b[0m_make_plot\u001b[0m\u001b[0;34m(\u001b[0m\u001b[0;34m)\u001b[0m\u001b[0;34m\u001b[0m\u001b[0m\n",
          "\u001b[0;32m/opt/conda/lib/python3.6/site-packages/pandas/plotting/_core.py\u001b[0m in \u001b[0;36m_compute_plot_data\u001b[0;34m(self)\u001b[0m\n\u001b[1;32m    371\u001b[0m         \u001b[0;32mif\u001b[0m \u001b[0mis_empty\u001b[0m\u001b[0;34m:\u001b[0m\u001b[0;34m\u001b[0m\u001b[0m\n\u001b[1;32m    372\u001b[0m             raise TypeError('Empty {0!r}: no numeric data to '\n\u001b[0;32m--> 373\u001b[0;31m                             'plot'.format(numeric_data.__class__.__name__))\n\u001b[0m\u001b[1;32m    374\u001b[0m \u001b[0;34m\u001b[0m\u001b[0m\n\u001b[1;32m    375\u001b[0m         \u001b[0mself\u001b[0m\u001b[0;34m.\u001b[0m\u001b[0mdata\u001b[0m \u001b[0;34m=\u001b[0m \u001b[0mnumeric_data\u001b[0m\u001b[0;34m\u001b[0m\u001b[0m\n",
          "\u001b[0;31mTypeError\u001b[0m: Empty 'DataFrame': no numeric data to plot"
         ]
        }
       ]
      }
     },
     "124a72cf55034921adca0935a1679fa3": {
      "model_module": "@jupyter-widgets/controls",
      "model_module_version": "1.4.0",
      "model_name": "SliderStyleModel",
      "state": {
       "description_width": ""
      }
     },
     "127c9f0a3f424ab8be12a506f3dec566": {
      "model_module": "@jupyter-widgets/base",
      "model_module_version": "1.1.0",
      "model_name": "LayoutModel",
      "state": {}
     },
     "12b014dc12c64d0088c4c33f55751360": {
      "model_module": "@jupyter-widgets/base",
      "model_module_version": "1.1.0",
      "model_name": "LayoutModel",
      "state": {}
     },
     "134b065d64374cc0b310247650b30954": {
      "model_module": "@jupyter-widgets/controls",
      "model_module_version": "1.4.0",
      "model_name": "SliderStyleModel",
      "state": {
       "description_width": ""
      }
     },
     "13f8c72bd8224957866a0c7ce905b923": {
      "model_module": "@jupyter-widgets/controls",
      "model_module_version": "1.4.0",
      "model_name": "SliderStyleModel",
      "state": {
       "description_width": ""
      }
     },
     "13fdf66aa3f24e5caa40b01f8fa4a21d": {
      "model_module": "@jupyter-widgets/controls",
      "model_module_version": "1.4.0",
      "model_name": "DescriptionStyleModel",
      "state": {
       "description_width": ""
      }
     },
     "1410f73394454012a8c44b7815dbfa68": {
      "model_module": "@jupyter-widgets/controls",
      "model_module_version": "1.4.0",
      "model_name": "ButtonModel",
      "state": {
       "description": "Run Interact",
       "layout": "IPY_MODEL_7e59927679cb46739175d619c3bec84f",
       "style": "IPY_MODEL_cba86c441c2549baaadecd48fb1e9a30"
      }
     },
     "161058692d0e4726b7c562e046c17d65": {
      "model_module": "@jupyter-widgets/controls",
      "model_module_version": "1.4.0",
      "model_name": "ButtonModel",
      "state": {
       "description": "Run Interact",
       "layout": "IPY_MODEL_5ebbba295ced4e6395d74e9606ffb3f1",
       "style": "IPY_MODEL_c930a13f890a4aa985c1416d717bc733"
      }
     },
     "1641b26f88ba44e3aa27de6d298623a0": {
      "model_module": "@jupyter-widgets/controls",
      "model_module_version": "1.4.0",
      "model_name": "DescriptionStyleModel",
      "state": {
       "description_width": ""
      }
     },
     "16494ec7178148968957eabbcba8e953": {
      "model_module": "@jupyter-widgets/base",
      "model_module_version": "1.1.0",
      "model_name": "LayoutModel",
      "state": {}
     },
     "17a6e0e46fab44d2a6d6a7673a0ba464": {
      "model_module": "@jupyter-widgets/controls",
      "model_module_version": "1.4.0",
      "model_name": "ButtonModel",
      "state": {
       "description": "Run Interact",
       "layout": "IPY_MODEL_62f9d82d5ee04f249edba0b1fadd40b1",
       "style": "IPY_MODEL_0d1a69e4cad64d26b2dc95f86111aad4"
      }
     },
     "17bd04b3b1c44bfa9c912f4c3d4527ec": {
      "model_module": "@jupyter-widgets/output",
      "model_module_version": "1.0.0",
      "model_name": "OutputModel",
      "state": {
       "layout": "IPY_MODEL_5e062350eace42db8c915754f6253961",
       "outputs": [
        {
         "name": "stdout",
         "output_type": "stream",
         "text": "Data value unit :number of alcohol attributable deaths\nData value type :Annual Average\n        agegroup      sex  data_value_alt\n27576      35-49     Male             6.5\n28493        65+  Overall            54.6\n31312      20-34   Female             0.1\n34588      35-49   Female             0.9\n50947        65+     Male            44.5\n55623      20-34     Male             1.0\n62259      50-64     Male            14.8\n64092   All Ages  Overall            80.1\n68112      35-49  Overall             7.3\n74529      0-<21  Overall             0.1\n75975        65+   Female            10.1\n76517      50-64  Overall            17.0\n82782      20-34  Overall             1.1\n83520      50-64   Female             2.2\n103382  All Ages     Male            66.8\n103860  All Ages   Female            13.3\n***** pivot *****\nsex       Female  Male  Overall\nagegroup                       \n0-<21        NaN   NaN      0.1\n20-34        0.1   1.0      1.1\n35-49        0.9   6.5      7.3\n50-64        2.2  14.8     17.0\n65+         10.1  44.5     54.6\nAll Ages    13.3  66.8     80.1\n"
        },
        {
         "data": {
          "image/png": "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\n",
          "text/plain": "<Figure size 432x288 with 1 Axes>"
         },
         "metadata": {
          "needs_background": "light"
         },
         "output_type": "display_data"
        }
       ]
      }
     },
     "180c89999326467b8f2cd81e0d4ee663": {
      "model_module": "@jupyter-widgets/controls",
      "model_module_version": "1.4.0",
      "model_name": "DropdownModel",
      "state": {
       "_options_labels": [
        "New York",
        "Utah",
        "Washington",
        "Illinois",
        "North Dakota",
        "Oklahoma",
        "New Mexico",
        "Arkansas",
        "New Hampshire",
        "California",
        "Montana",
        "Iowa",
        "Wyoming",
        "Minnesota",
        "Rhode Island",
        "Florida",
        "Louisiana",
        "Colorado",
        "Alabama",
        "Massachusetts",
        "Idaho",
        "Arizona",
        "Wisconsin",
        "Nevada",
        "Oregon",
        "South Dakota",
        "Maryland",
        "South Carolina",
        "Michigan",
        "Indiana",
        "Tennessee",
        "Connecticut",
        "Virginia",
        "Nebraska",
        "National",
        "West Virginia",
        "Hawaii",
        "Delaware",
        "Pennsylvania",
        "Vermont",
        "District of Columbia",
        "Maine",
        "New Jersey",
        "Kansas",
        "Georgia",
        "Missouri",
        "Texas",
        "Kentucky",
        "Ohio",
        "Alaska",
        "North Carolina",
        "Mississippi"
       ],
       "description": "location",
       "index": 0,
       "layout": "IPY_MODEL_7704fb910dda4bc5bf29cb65fc3282c4",
       "style": "IPY_MODEL_8b7bf5ad742b485e846bdff312d3c39b"
      }
     },
     "184e23c5eb824d2b87a0102d03d6320a": {
      "model_module": "@jupyter-widgets/controls",
      "model_module_version": "1.4.0",
      "model_name": "FloatSliderModel",
      "state": {
       "description": "lw",
       "layout": "IPY_MODEL_39ad1a5057be496d8391e2d0776f3d6c",
       "max": 10,
       "min": 1,
       "step": 0.1,
       "style": "IPY_MODEL_d3dd05f864cb45d0a447e4ba90543bae",
       "value": 2
      }
     },
     "1856b2b05df548df8750ab9256d9dfb1": {
      "model_module": "@jupyter-widgets/controls",
      "model_module_version": "1.4.0",
      "model_name": "DropdownModel",
      "state": {
       "_options_labels": [
        "Stroke, hemorrhagic",
        "Total for all causes",
        "Poisoning (not alcohol)",
        "Cholelithiases",
        "Liver cancer",
        "Motor-vehicle nontraffic crashes",
        "Subtotal all causes",
        "Prostate cancer (males only)",
        "Chronic hepatitis",
        "Alcohol abuse",
        "Alcohol poisoning",
        "Ischemic heart disease",
        "Water transport",
        "Oropharyngeal cancer",
        "Liver cirrhosis, unspecified",
        "Firearm injuries",
        "Spontaneous abortion (females only)",
        "Child maltreatment",
        "Supraventricular cardiac dysrhythmia",
        "Esophageal cancer",
        "Suicide",
        "Gastroesophageal hemorrhage",
        "Other road vehicle crashes",
        "Air-space transport",
        "Motor-vehicle traffic crashes",
        "Alcoholic gastritis",
        "Aspiration",
        "Alcohol dependence syndrome",
        "Low birth weight, prematurity, IUGR, death",
        "Psoriasis",
        "Breast cancer (females only)",
        "Acute pancreatitis",
        "Homicide",
        "Stroke, ischemic",
        "Alcohol-induced chronic pancreatitis",
        "Alcohol polyneuropathy",
        "Laryngeal cancer",
        "Fall injuries",
        "Drowning",
        "Portal hypertension",
        "Chronic pancreatitis",
        "Alcohol cardiomyopathy",
        "Alcoholic liver disease",
        "Degeneration of nervous system due to alcohol",
        "Hypertension",
        "Occupational and machine injuries",
        "Epilepsy",
        "Hypothermia",
        "Esophageal varices",
        "Alcoholic psychosis",
        "Excessive blood alcohol level",
        "Fetal alcohol syndrome",
        "Fire injuries",
        "Fetus and newborn affected by maternal use of alcohol",
        "Suicide by and exposure to alcohol",
        "Alcoholic myopathy"
       ],
       "description": "condition",
       "index": 0,
       "layout": "IPY_MODEL_46113b468d6746af9298d9865ebbf81b",
       "style": "IPY_MODEL_456f6b2acd3244d480f1c69b6bd2f67e"
      }
     },
     "18a7f22e9eca482c9aecb16beb2081bf": {
      "model_module": "@jupyter-widgets/base",
      "model_module_version": "1.1.0",
      "model_name": "LayoutModel",
      "state": {}
     },
     "18ad88186eec4125884bb4ae6ac7c886": {
      "model_module": "@jupyter-widgets/base",
      "model_module_version": "1.1.0",
      "model_name": "LayoutModel",
      "state": {}
     },
     "18b6f78fceb34c0fb681959c8d98f71a": {
      "model_module": "@jupyter-widgets/base",
      "model_module_version": "1.1.0",
      "model_name": "LayoutModel",
      "state": {}
     },
     "19262712a3c7486aab810ce861a7f2eb": {
      "model_module": "@jupyter-widgets/base",
      "model_module_version": "1.1.0",
      "model_name": "LayoutModel",
      "state": {}
     },
     "19d0cdaadcf345b7b4d1d202483b7f8a": {
      "model_module": "@jupyter-widgets/base",
      "model_module_version": "1.1.0",
      "model_name": "LayoutModel",
      "state": {}
     },
     "1a11ce3d458041179981cfefb40726ff": {
      "model_module": "@jupyter-widgets/base",
      "model_module_version": "1.1.0",
      "model_name": "LayoutModel",
      "state": {}
     },
     "1bf98e830dc34b1e8623b54ba023d326": {
      "model_module": "@jupyter-widgets/controls",
      "model_module_version": "1.4.0",
      "model_name": "ButtonModel",
      "state": {
       "description": "Run Interact",
       "layout": "IPY_MODEL_941c2462a4424ea8b445876a21524642",
       "style": "IPY_MODEL_ce3a0d7a91d1431d91c1b97ebe24aba2"
      }
     },
     "1c13ae8f8f1f4b3f8c0df1e8b1ebaa76": {
      "model_module": "@jupyter-widgets/controls",
      "model_module_version": "1.4.0",
      "model_name": "ButtonStyleModel",
      "state": {}
     },
     "1cfe1a5b613e468db463e3fa2f7523de": {
      "model_module": "@jupyter-widgets/controls",
      "model_module_version": "1.4.0",
      "model_name": "DescriptionStyleModel",
      "state": {
       "description_width": ""
      }
     },
     "1d6ab7d379a747968357b93872e25ce8": {
      "model_module": "@jupyter-widgets/base",
      "model_module_version": "1.1.0",
      "model_name": "LayoutModel",
      "state": {}
     },
     "1dad2e640c0a46f3806bded1781f3918": {
      "model_module": "@jupyter-widgets/base",
      "model_module_version": "1.1.0",
      "model_name": "LayoutModel",
      "state": {}
     },
     "1e4e1df689064a68be4789296f2c8586": {
      "model_module": "@jupyter-widgets/controls",
      "model_module_version": "1.4.0",
      "model_name": "DescriptionStyleModel",
      "state": {
       "description_width": ""
      }
     },
     "1ed2ac6cdee546f09c342eee1f78054d": {
      "model_module": "@jupyter-widgets/base",
      "model_module_version": "1.1.0",
      "model_name": "LayoutModel",
      "state": {}
     },
     "1f5d5b852d7d475cb41c5eade29b3246": {
      "model_module": "@jupyter-widgets/base",
      "model_module_version": "1.1.0",
      "model_name": "LayoutModel",
      "state": {}
     },
     "1f60b6ad62a142619bfc18cb2bdb2188": {
      "model_module": "@jupyter-widgets/controls",
      "model_module_version": "1.4.0",
      "model_name": "VBoxModel",
      "state": {
       "_dom_classes": [
        "widget-interact"
       ],
       "children": [
        "IPY_MODEL_9497970a1b9e4ae99593e32183dd6bfb",
        "IPY_MODEL_a6e376583ee14749a918a7de7b98ada9"
       ],
       "layout": "IPY_MODEL_5a3ca514e97e495b824bdd2363262df2"
      }
     },
     "1f8f0cd24f6942d99d462220bc45823e": {
      "model_module": "@jupyter-widgets/controls",
      "model_module_version": "1.4.0",
      "model_name": "DropdownModel",
      "state": {
       "_options_labels": [
        "New York",
        "Utah",
        "Washington",
        "Illinois",
        "North Dakota",
        "Oklahoma",
        "New Mexico",
        "Arkansas",
        "New Hampshire",
        "California",
        "Montana",
        "Iowa",
        "Wyoming",
        "Minnesota",
        "Rhode Island",
        "Florida",
        "Louisiana",
        "Colorado",
        "Alabama",
        "Massachusetts",
        "Idaho",
        "Arizona",
        "Wisconsin",
        "Nevada",
        "Oregon",
        "South Dakota",
        "Maryland",
        "South Carolina",
        "Michigan",
        "Indiana",
        "Tennessee",
        "Connecticut",
        "Virginia",
        "Nebraska",
        "National",
        "West Virginia",
        "Hawaii",
        "Delaware",
        "Pennsylvania",
        "Vermont",
        "District of Columbia",
        "Maine",
        "New Jersey",
        "Kansas",
        "Georgia",
        "Missouri",
        "Texas",
        "Kentucky",
        "Ohio",
        "Alaska",
        "North Carolina",
        "Mississippi"
       ],
       "description": "Locations",
       "index": 16,
       "layout": "IPY_MODEL_9a240b8c5fc342c1bcfe273a460e64e1",
       "style": "IPY_MODEL_ac3b7bf8845b42d8a4f0b46e2c965325"
      }
     },
     "20f7beb9fc494742a82ffcd397cde76a": {
      "model_module": "@jupyter-widgets/controls",
      "model_module_version": "1.4.0",
      "model_name": "DescriptionStyleModel",
      "state": {
       "description_width": ""
      }
     },
     "22ca5be8b3b144439b629d2e9de84a8f": {
      "model_module": "@jupyter-widgets/controls",
      "model_module_version": "1.4.0",
      "model_name": "VBoxModel",
      "state": {
       "_dom_classes": [
        "widget-interact"
       ],
       "layout": "IPY_MODEL_61bee65fcb7641ce89bdee23db7b3739"
      }
     },
     "22d8c22fc1cf4756b59b3fd0dcee0d22": {
      "model_module": "@jupyter-widgets/base",
      "model_module_version": "1.1.0",
      "model_name": "LayoutModel",
      "state": {}
     },
     "22f3fe1b65374139aa12a1a551fc55bd": {
      "model_module": "@jupyter-widgets/controls",
      "model_module_version": "1.4.0",
      "model_name": "VBoxModel",
      "state": {
       "_dom_classes": [
        "widget-interact"
       ],
       "children": [
        "IPY_MODEL_3368c9f8821e4c4881253fe4da18b429",
        "IPY_MODEL_e780a15f4c8c418c8f793ef56df549a1"
       ],
       "layout": "IPY_MODEL_46b835700ac44b56af85e4a8bb6c8a76"
      }
     },
     "237d316ca4384e9fa14c83afbf021df3": {
      "model_module": "@jupyter-widgets/controls",
      "model_module_version": "1.4.0",
      "model_name": "VBoxModel",
      "state": {
       "_dom_classes": [
        "widget-interact"
       ],
       "children": [
        "IPY_MODEL_60e7a0cbfef541eb92a42702f58dcb00",
        "IPY_MODEL_2e544bb46f9443b4a7f94d34eb8d73ea"
       ],
       "layout": "IPY_MODEL_5aab6506e0244cb6bc2b9b9aa6f123af"
      }
     },
     "23f8ba5409fa4446830be4789239405d": {
      "model_module": "@jupyter-widgets/base",
      "model_module_version": "1.1.0",
      "model_name": "LayoutModel",
      "state": {}
     },
     "25813841dbbd45d29dcd997064e10815": {
      "model_module": "@jupyter-widgets/base",
      "model_module_version": "1.1.0",
      "model_name": "LayoutModel",
      "state": {}
     },
     "25ceb13aac864054b094f161c4769c1f": {
      "model_module": "@jupyter-widgets/output",
      "model_module_version": "1.0.0",
      "model_name": "OutputModel",
      "state": {
       "layout": "IPY_MODEL_e55ec4adc2964b0fb2a6e6ece56182a8",
       "outputs": [
        {
         "data": {
          "text/plain": "'Stroke, hemorrhagic'"
         },
         "metadata": {},
         "output_type": "display_data"
        }
       ]
      }
     },
     "2654c92fc9ee4663a4234b4fd1a38c6c": {
      "model_module": "@jupyter-widgets/controls",
      "model_module_version": "1.4.0",
      "model_name": "VBoxModel",
      "state": {
       "_dom_classes": [
        "widget-interact"
       ],
       "children": [
        "IPY_MODEL_e917f592bad04b31a9fcf5154c259d7e",
        "IPY_MODEL_f23da5b3d7b1404ba8ee9c85cda5bc7a",
        "IPY_MODEL_7ab5eb733a424bb3805da8708a393b45"
       ],
       "layout": "IPY_MODEL_a9265cc3f17f498eb4dd2c7baf71ebbf"
      }
     },
     "267b0bede1904a3a874ffaf16aed9c5c": {
      "model_module": "@jupyter-widgets/controls",
      "model_module_version": "1.4.0",
      "model_name": "VBoxModel",
      "state": {
       "_dom_classes": [
        "widget-interact"
       ],
       "children": [
        "IPY_MODEL_b2a31909e23b413cb31f3ed365629b30",
        "IPY_MODEL_103406393f4b4c52be2febfa10a4c3d2"
       ],
       "layout": "IPY_MODEL_9f492e3af6d4417196a915a59039a468"
      }
     },
     "26ed75c5a31d4a8a9aebcbf00c69f5b9": {
      "model_module": "@jupyter-widgets/base",
      "model_module_version": "1.1.0",
      "model_name": "LayoutModel",
      "state": {}
     },
     "26fb06f232aa4b5facb285fa364636b4": {
      "model_module": "@jupyter-widgets/controls",
      "model_module_version": "1.4.0",
      "model_name": "DropdownModel",
      "state": {
       "_options_labels": [
        "yearstart",
        "yearend",
        "locationabbr",
        "locationdesc",
        "datasource",
        "consumptionpattern",
        "effect",
        "conditiontype",
        "condition",
        "sex",
        "agecategory",
        "agegroup",
        "data_value_unit",
        "data_value_type",
        "data_value",
        "data_value_alt",
        "locationid",
        "classid",
        "effectid",
        "conditionid",
        "consumptionid",
        "stratification1id",
        "agecategoryid",
        "stratification2id",
        "datavaluetypeid"
       ],
       "description": "Columns",
       "index": 0,
       "layout": "IPY_MODEL_32b7fe14a2df434cbae8eb892f852976",
       "style": "IPY_MODEL_1641b26f88ba44e3aa27de6d298623a0"
      }
     },
     "274501d52f3446c0a50c882ecd11eb2d": {
      "model_module": "@jupyter-widgets/controls",
      "model_module_version": "1.4.0",
      "model_name": "DropdownModel",
      "state": {
       "_options_labels": [
        "New York",
        "Utah",
        "Washington",
        "Illinois",
        "North Dakota",
        "Oklahoma",
        "New Mexico",
        "Arkansas",
        "New Hampshire",
        "California",
        "Montana",
        "Iowa",
        "Wyoming",
        "Minnesota",
        "Rhode Island",
        "Florida",
        "Louisiana",
        "Colorado",
        "Alabama",
        "Massachusetts",
        "Idaho",
        "Arizona",
        "Wisconsin",
        "Nevada",
        "Oregon",
        "South Dakota",
        "Maryland",
        "South Carolina",
        "Michigan",
        "Indiana",
        "Tennessee",
        "Connecticut",
        "Virginia",
        "Nebraska",
        "National",
        "West Virginia",
        "Hawaii",
        "Delaware",
        "Pennsylvania",
        "Vermont",
        "District of Columbia",
        "Maine",
        "New Jersey",
        "Kansas",
        "Georgia",
        "Missouri",
        "Texas",
        "Kentucky",
        "Ohio",
        "Alaska",
        "North Carolina",
        "Mississippi"
       ],
       "description": "location",
       "index": 0,
       "layout": "IPY_MODEL_36dda85031cf45249d07aa71d6a3175d",
       "style": "IPY_MODEL_873e5b1541de403f9f2cd3e6c6e58910"
      }
     },
     "276a466d2b194717a6594b5785545a74": {
      "model_module": "@jupyter-widgets/controls",
      "model_module_version": "1.4.0",
      "model_name": "VBoxModel",
      "state": {
       "_dom_classes": [
        "widget-interact"
       ],
       "children": [
        "IPY_MODEL_8aca6fd5e82446ecaa9e49e3d65eba5f",
        "IPY_MODEL_065a3d6c9025433298803297a122339b"
       ],
       "layout": "IPY_MODEL_d839a13a96524d1f9f664dcc8d8d766f"
      }
     },
     "279674d8a4514b7ea6ae4900b6b9b879": {
      "model_module": "@jupyter-widgets/controls",
      "model_module_version": "1.4.0",
      "model_name": "DropdownModel",
      "state": {
       "_options_labels": [
        "yearstart",
        "yearend",
        "locationabbr",
        "locationdesc",
        "datasource",
        "consumptionpattern",
        "effect",
        "conditiontype",
        "condition",
        "sex",
        "agecategory",
        "agegroup",
        "data_value_unit",
        "data_value_type",
        "data_value",
        "data_value_alt",
        "locationid",
        "classid",
        "effectid",
        "conditionid",
        "consumptionid",
        "stratification1id",
        "agecategoryid",
        "stratification2id",
        "datavaluetypeid"
       ],
       "description": "Columns",
       "index": 0,
       "layout": "IPY_MODEL_fc15face830740209e695138e8fda6d0",
       "style": "IPY_MODEL_77cdf2ffd3864c60851ce4f290cfb9ba"
      }
     },
     "283dff1a3b504caea221c9fff879a510": {
      "model_module": "@jupyter-widgets/controls",
      "model_module_version": "1.4.0",
      "model_name": "DropdownModel",
      "state": {
       "_options_labels": [
        "New York",
        "Utah",
        "Washington",
        "Illinois",
        "North Dakota",
        "Oklahoma",
        "New Mexico",
        "Arkansas",
        "New Hampshire",
        "California",
        "Montana",
        "Iowa",
        "Wyoming",
        "Minnesota",
        "Rhode Island",
        "Florida",
        "Louisiana",
        "Colorado",
        "Alabama",
        "Massachusetts",
        "Idaho",
        "Arizona",
        "Wisconsin",
        "Nevada",
        "Oregon",
        "South Dakota",
        "Maryland",
        "South Carolina",
        "Michigan",
        "Indiana",
        "Tennessee",
        "Connecticut",
        "Virginia",
        "Nebraska",
        "National",
        "West Virginia",
        "Hawaii",
        "Delaware",
        "Pennsylvania",
        "Vermont",
        "District of Columbia",
        "Maine",
        "New Jersey",
        "Kansas",
        "Georgia",
        "Missouri",
        "Texas",
        "Kentucky",
        "Ohio",
        "Alaska",
        "North Carolina",
        "Mississippi"
       ],
       "description": "location",
       "index": 0,
       "layout": "IPY_MODEL_127c9f0a3f424ab8be12a506f3dec566",
       "style": "IPY_MODEL_28fcba1860c14fb1a16c34321364ba39"
      }
     },
     "2844d7256ca144e7bcde349f60dd9aae": {
      "model_module": "@jupyter-widgets/controls",
      "model_module_version": "1.4.0",
      "model_name": "VBoxModel",
      "state": {
       "_dom_classes": [
        "widget-interact"
       ],
       "children": [
        "IPY_MODEL_283dff1a3b504caea221c9fff879a510",
        "IPY_MODEL_1856b2b05df548df8750ab9256d9dfb1",
        "IPY_MODEL_01fa4767e140416cb7b26e6eaeb39752",
        "IPY_MODEL_09fbb42d24394f4d8bf8ea7d75c65d3e"
       ],
       "layout": "IPY_MODEL_edc45bb34671452e9b272548495e4738"
      }
     },
     "28fcba1860c14fb1a16c34321364ba39": {
      "model_module": "@jupyter-widgets/controls",
      "model_module_version": "1.4.0",
      "model_name": "DescriptionStyleModel",
      "state": {
       "description_width": ""
      }
     },
     "29c947119fbb4147b97f33131744bad8": {
      "model_module": "@jupyter-widgets/base",
      "model_module_version": "1.1.0",
      "model_name": "LayoutModel",
      "state": {}
     },
     "2a861b534385477694c2ea7b0b314274": {
      "model_module": "@jupyter-widgets/controls",
      "model_module_version": "1.4.0",
      "model_name": "ButtonStyleModel",
      "state": {}
     },
     "2af7499629f2477f9180da0b31924051": {
      "model_module": "@jupyter-widgets/controls",
      "model_module_version": "1.4.0",
      "model_name": "DescriptionStyleModel",
      "state": {
       "description_width": ""
      }
     },
     "2b94fe441852405eaa173c18af1b6e6a": {
      "model_module": "@jupyter-widgets/base",
      "model_module_version": "1.1.0",
      "model_name": "LayoutModel",
      "state": {}
     },
     "2c11eec8b85741e698abcd844211460a": {
      "model_module": "@jupyter-widgets/controls",
      "model_module_version": "1.4.0",
      "model_name": "DescriptionStyleModel",
      "state": {
       "description_width": ""
      }
     },
     "2c34c1eb374a43e5b925780ca67bee35": {
      "model_module": "@jupyter-widgets/output",
      "model_module_version": "1.0.0",
      "model_name": "OutputModel",
      "state": {
       "layout": "IPY_MODEL_31a125aa42fa4b77a67d4250a68ea8b1",
       "outputs": [
        {
         "ename": "NameError",
         "evalue": "name 'location' is not defined",
         "output_type": "error",
         "traceback": [
          "\u001b[0;31m---------------------------------------------------------------------------\u001b[0m",
          "\u001b[0;31mNameError\u001b[0m                                 Traceback (most recent call last)",
          "\u001b[0;32m/opt/conda/lib/python3.6/site-packages/ipywidgets/widgets/interaction.py\u001b[0m in \u001b[0;36mupdate\u001b[0;34m(self, *args)\u001b[0m\n\u001b[1;32m    249\u001b[0m                     \u001b[0mvalue\u001b[0m \u001b[0;34m=\u001b[0m \u001b[0mwidget\u001b[0m\u001b[0;34m.\u001b[0m\u001b[0mget_interact_value\u001b[0m\u001b[0;34m(\u001b[0m\u001b[0;34m)\u001b[0m\u001b[0;34m\u001b[0m\u001b[0m\n\u001b[1;32m    250\u001b[0m                     \u001b[0mself\u001b[0m\u001b[0;34m.\u001b[0m\u001b[0mkwargs\u001b[0m\u001b[0;34m[\u001b[0m\u001b[0mwidget\u001b[0m\u001b[0;34m.\u001b[0m\u001b[0m_kwarg\u001b[0m\u001b[0;34m]\u001b[0m \u001b[0;34m=\u001b[0m \u001b[0mvalue\u001b[0m\u001b[0;34m\u001b[0m\u001b[0m\n\u001b[0;32m--> 251\u001b[0;31m                 \u001b[0mself\u001b[0m\u001b[0;34m.\u001b[0m\u001b[0mresult\u001b[0m \u001b[0;34m=\u001b[0m \u001b[0mself\u001b[0m\u001b[0;34m.\u001b[0m\u001b[0mf\u001b[0m\u001b[0;34m(\u001b[0m\u001b[0;34m**\u001b[0m\u001b[0mself\u001b[0m\u001b[0;34m.\u001b[0m\u001b[0mkwargs\u001b[0m\u001b[0;34m)\u001b[0m\u001b[0;34m\u001b[0m\u001b[0m\n\u001b[0m\u001b[1;32m    252\u001b[0m                 \u001b[0mshow_inline_matplotlib_plots\u001b[0m\u001b[0;34m(\u001b[0m\u001b[0;34m)\u001b[0m\u001b[0;34m\u001b[0m\u001b[0m\n\u001b[1;32m    253\u001b[0m                 \u001b[0;32mif\u001b[0m \u001b[0mself\u001b[0m\u001b[0;34m.\u001b[0m\u001b[0mauto_display\u001b[0m \u001b[0;32mand\u001b[0m \u001b[0mself\u001b[0m\u001b[0;34m.\u001b[0m\u001b[0mresult\u001b[0m \u001b[0;32mis\u001b[0m \u001b[0;32mnot\u001b[0m \u001b[0;32mNone\u001b[0m\u001b[0;34m:\u001b[0m\u001b[0;34m\u001b[0m\u001b[0m\n",
          "\u001b[0;32m<ipython-input-23-ca6961188f97>\u001b[0m in \u001b[0;36mset_location\u001b[0;34m(x)\u001b[0m\n\u001b[1;32m      1\u001b[0m \u001b[0;32mdef\u001b[0m \u001b[0mset_location\u001b[0m\u001b[0;34m(\u001b[0m\u001b[0mx\u001b[0m\u001b[0;34m)\u001b[0m\u001b[0;34m:\u001b[0m\u001b[0;34m\u001b[0m\u001b[0m\n\u001b[0;32m----> 2\u001b[0;31m     \u001b[0mlocation_var\u001b[0m \u001b[0;34m=\u001b[0m \u001b[0mlocation\u001b[0m\u001b[0;34m\u001b[0m\u001b[0m\n\u001b[0m\u001b[1;32m      3\u001b[0m \u001b[0;34m\u001b[0m\u001b[0m\n\u001b[1;32m      4\u001b[0m \u001b[0;32mdef\u001b[0m \u001b[0mset_condition\u001b[0m\u001b[0;34m(\u001b[0m\u001b[0mx\u001b[0m\u001b[0;34m)\u001b[0m\u001b[0;34m:\u001b[0m\u001b[0;34m\u001b[0m\u001b[0m\n\u001b[1;32m      5\u001b[0m     \u001b[0mcondition_var\u001b[0m \u001b[0;34m=\u001b[0m \u001b[0mcondition\u001b[0m\u001b[0;34m\u001b[0m\u001b[0m\n",
          "\u001b[0;31mNameError\u001b[0m: name 'location' is not defined"
         ]
        }
       ]
      }
     },
     "2ddecedbb8f94ecbb85ae20adc70d262": {
      "model_module": "@jupyter-widgets/base",
      "model_module_version": "1.1.0",
      "model_name": "LayoutModel",
      "state": {}
     },
     "2e5247c91a48499292499fce6e915121": {
      "model_module": "@jupyter-widgets/controls",
      "model_module_version": "1.4.0",
      "model_name": "DropdownModel",
      "state": {
       "_options_labels": [
        "Stroke, hemorrhagic",
        "Total for all causes",
        "Poisoning (not alcohol)",
        "Cholelithiases",
        "Liver cancer",
        "Motor-vehicle nontraffic crashes",
        "Subtotal all causes",
        "Prostate cancer (males only)",
        "Chronic hepatitis",
        "Alcohol abuse",
        "Alcohol poisoning",
        "Ischemic heart disease",
        "Water transport",
        "Oropharyngeal cancer",
        "Liver cirrhosis, unspecified",
        "Firearm injuries",
        "Spontaneous abortion (females only)",
        "Child maltreatment",
        "Supraventricular cardiac dysrhythmia",
        "Esophageal cancer",
        "Suicide",
        "Gastroesophageal hemorrhage",
        "Other road vehicle crashes",
        "Air-space transport",
        "Motor-vehicle traffic crashes",
        "Alcoholic gastritis",
        "Aspiration",
        "Alcohol dependence syndrome",
        "Low birth weight, prematurity, IUGR, death",
        "Psoriasis",
        "Breast cancer (females only)",
        "Acute pancreatitis",
        "Homicide",
        "Stroke, ischemic",
        "Alcohol-induced chronic pancreatitis",
        "Alcohol polyneuropathy",
        "Laryngeal cancer",
        "Fall injuries",
        "Drowning",
        "Portal hypertension",
        "Chronic pancreatitis",
        "Alcohol cardiomyopathy",
        "Alcoholic liver disease",
        "Degeneration of nervous system due to alcohol",
        "Hypertension",
        "Occupational and machine injuries",
        "Epilepsy",
        "Hypothermia",
        "Esophageal varices",
        "Alcoholic psychosis",
        "Excessive blood alcohol level",
        "Fetal alcohol syndrome",
        "Fire injuries",
        "Fetus and newborn affected by maternal use of alcohol",
        "Suicide by and exposure to alcohol",
        "Alcoholic myopathy"
       ],
       "description": "condition",
       "index": 9,
       "layout": "IPY_MODEL_bb918abac94e4a7586a17b9a1b9a19d3",
       "style": "IPY_MODEL_20f7beb9fc494742a82ffcd397cde76a"
      }
     },
     "2e544bb46f9443b4a7f94d34eb8d73ea": {
      "model_module": "@jupyter-widgets/output",
      "model_module_version": "1.0.0",
      "model_name": "OutputModel",
      "state": {
       "layout": "IPY_MODEL_0fd00718b592413faa50a410f3ac26c9",
       "outputs": [
        {
         "data": {
          "text/plain": "10"
         },
         "metadata": {},
         "output_type": "display_data"
        }
       ]
      }
     },
     "2f1f1b4088924a1f9d719450b4f2a3ab": {
      "model_module": "@jupyter-widgets/output",
      "model_module_version": "1.0.0",
      "model_name": "OutputModel",
      "state": {
       "layout": "IPY_MODEL_93da26202e4846f886cf26fe9e3ea1e3",
       "outputs": [
        {
         "data": {
          "image/png": "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\n",
          "text/plain": "<Figure size 576x432 with 1 Axes>"
         },
         "metadata": {
          "needs_background": "light"
         },
         "output_type": "display_data"
        }
       ]
      }
     },
     "3005a9fee94b4ee1bbaf2a4bc3518705": {
      "model_module": "@jupyter-widgets/base",
      "model_module_version": "1.1.0",
      "model_name": "LayoutModel",
      "state": {}
     },
     "3130ee87574841d985d16051ebe75edb": {
      "model_module": "@jupyter-widgets/base",
      "model_module_version": "1.1.0",
      "model_name": "LayoutModel",
      "state": {}
     },
     "3195928f82a442b49d342f816e39311b": {
      "model_module": "@jupyter-widgets/controls",
      "model_module_version": "1.4.0",
      "model_name": "DropdownModel",
      "state": {
       "_options_labels": [
        "Stroke, hemorrhagic",
        "Total for all causes",
        "Poisoning (not alcohol)",
        "Cholelithiases",
        "Liver cancer",
        "Motor-vehicle nontraffic crashes",
        "Subtotal all causes",
        "Prostate cancer (males only)",
        "Chronic hepatitis",
        "Alcohol abuse",
        "Alcohol poisoning",
        "Ischemic heart disease",
        "Water transport",
        "Oropharyngeal cancer",
        "Liver cirrhosis, unspecified",
        "Firearm injuries",
        "Spontaneous abortion (females only)",
        "Child maltreatment",
        "Supraventricular cardiac dysrhythmia",
        "Esophageal cancer",
        "Suicide",
        "Gastroesophageal hemorrhage",
        "Other road vehicle crashes",
        "Air-space transport",
        "Motor-vehicle traffic crashes",
        "Alcoholic gastritis",
        "Aspiration",
        "Alcohol dependence syndrome",
        "Low birth weight, prematurity, IUGR, death",
        "Psoriasis",
        "Breast cancer (females only)",
        "Acute pancreatitis",
        "Homicide",
        "Stroke, ischemic",
        "Alcohol-induced chronic pancreatitis",
        "Alcohol polyneuropathy",
        "Laryngeal cancer",
        "Fall injuries",
        "Drowning",
        "Portal hypertension",
        "Chronic pancreatitis",
        "Alcohol cardiomyopathy",
        "Alcoholic liver disease",
        "Degeneration of nervous system due to alcohol",
        "Hypertension",
        "Occupational and machine injuries",
        "Epilepsy",
        "Hypothermia",
        "Esophageal varices",
        "Alcoholic psychosis",
        "Excessive blood alcohol level",
        "Fetal alcohol syndrome",
        "Fire injuries",
        "Fetus and newborn affected by maternal use of alcohol",
        "Suicide by and exposure to alcohol",
        "Alcoholic myopathy"
       ],
       "description": "condition",
       "index": 36,
       "layout": "IPY_MODEL_fc8fd070d7994c11bb9620a5e475c014",
       "style": "IPY_MODEL_510e3ecdc2de4ddcbf3ad1436ae3e0cc"
      }
     },
     "31a125aa42fa4b77a67d4250a68ea8b1": {
      "model_module": "@jupyter-widgets/base",
      "model_module_version": "1.1.0",
      "model_name": "LayoutModel",
      "state": {}
     },
     "32b7fe14a2df434cbae8eb892f852976": {
      "model_module": "@jupyter-widgets/base",
      "model_module_version": "1.1.0",
      "model_name": "LayoutModel",
      "state": {}
     },
     "3368c9f8821e4c4881253fe4da18b429": {
      "model_module": "@jupyter-widgets/controls",
      "model_module_version": "1.4.0",
      "model_name": "DropdownModel",
      "state": {
       "_options_labels": [
        "New York",
        "Utah",
        "Washington",
        "Illinois",
        "North Dakota",
        "Oklahoma",
        "New Mexico",
        "Arkansas",
        "New Hampshire",
        "California",
        "Montana",
        "Iowa",
        "Wyoming",
        "Minnesota",
        "Rhode Island",
        "Florida",
        "Louisiana",
        "Colorado",
        "Alabama",
        "Massachusetts",
        "Idaho",
        "Arizona",
        "Wisconsin",
        "Nevada",
        "Oregon",
        "South Dakota",
        "Maryland",
        "South Carolina",
        "Michigan",
        "Indiana",
        "Tennessee",
        "Connecticut",
        "Virginia",
        "Nebraska",
        "National",
        "West Virginia",
        "Hawaii",
        "Delaware",
        "Pennsylvania",
        "Vermont",
        "District of Columbia",
        "Maine",
        "New Jersey",
        "Kansas",
        "Georgia",
        "Missouri",
        "Texas",
        "Kentucky",
        "Ohio",
        "Alaska",
        "North Carolina",
        "Mississippi"
       ],
       "description": "x",
       "index": 0,
       "layout": "IPY_MODEL_22d8c22fc1cf4756b59b3fd0dcee0d22",
       "style": "IPY_MODEL_2af7499629f2477f9180da0b31924051"
      }
     },
     "353addb5d75542078b4457b88835947b": {
      "model_module": "@jupyter-widgets/output",
      "model_module_version": "1.0.0",
      "model_name": "OutputModel",
      "state": {
       "layout": "IPY_MODEL_8fb88b296e8c4c9ba8f193aa4d0b0b28",
       "outputs": [
        {
         "data": {
          "text/plain": "10"
         },
         "metadata": {},
         "output_type": "display_data"
        }
       ]
      }
     },
     "35d9bef40bb44e9386843497d014fda1": {
      "model_module": "@jupyter-widgets/controls",
      "model_module_version": "1.4.0",
      "model_name": "DropdownModel",
      "state": {
       "_options_labels": [
        "Stroke, hemorrhagic",
        "Total for all causes",
        "Poisoning (not alcohol)",
        "Cholelithiases",
        "Liver cancer",
        "Motor-vehicle nontraffic crashes",
        "Subtotal all causes",
        "Prostate cancer (males only)",
        "Chronic hepatitis",
        "Alcohol abuse",
        "Alcohol poisoning",
        "Ischemic heart disease",
        "Water transport",
        "Oropharyngeal cancer",
        "Liver cirrhosis, unspecified",
        "Firearm injuries",
        "Spontaneous abortion (females only)",
        "Child maltreatment",
        "Supraventricular cardiac dysrhythmia",
        "Esophageal cancer",
        "Suicide",
        "Gastroesophageal hemorrhage",
        "Other road vehicle crashes",
        "Air-space transport",
        "Motor-vehicle traffic crashes",
        "Alcoholic gastritis",
        "Aspiration",
        "Alcohol dependence syndrome",
        "Low birth weight, prematurity, IUGR, death",
        "Psoriasis",
        "Breast cancer (females only)",
        "Acute pancreatitis",
        "Homicide",
        "Stroke, ischemic",
        "Alcohol-induced chronic pancreatitis",
        "Alcohol polyneuropathy",
        "Laryngeal cancer",
        "Fall injuries",
        "Drowning",
        "Portal hypertension",
        "Chronic pancreatitis",
        "Alcohol cardiomyopathy",
        "Alcoholic liver disease",
        "Degeneration of nervous system due to alcohol",
        "Hypertension",
        "Occupational and machine injuries",
        "Epilepsy",
        "Hypothermia",
        "Esophageal varices",
        "Alcoholic psychosis",
        "Excessive blood alcohol level",
        "Fetal alcohol syndrome",
        "Fire injuries",
        "Fetus and newborn affected by maternal use of alcohol",
        "Suicide by and exposure to alcohol",
        "Alcoholic myopathy"
       ],
       "description": "x",
       "index": 5,
       "layout": "IPY_MODEL_7ef6ed216f2a43b3b158d6cd5522e0fa",
       "style": "IPY_MODEL_1e4e1df689064a68be4789296f2c8586"
      }
     },
     "36605c499c71446c9963ceae1c31ccd3": {
      "model_module": "@jupyter-widgets/controls",
      "model_module_version": "1.4.0",
      "model_name": "ButtonModel",
      "state": {
       "description": "Run Interact",
       "layout": "IPY_MODEL_05a799b700964269ac80f2932fa021c5",
       "style": "IPY_MODEL_f98c831cfae74e7788a7a7e96ec5ba2c"
      }
     },
     "36dda85031cf45249d07aa71d6a3175d": {
      "model_module": "@jupyter-widgets/base",
      "model_module_version": "1.1.0",
      "model_name": "LayoutModel",
      "state": {}
     },
     "3739163d374a4eafaef3c00ff4069a3b": {
      "model_module": "@jupyter-widgets/controls",
      "model_module_version": "1.4.0",
      "model_name": "DropdownModel",
      "state": {
       "_options_labels": [
        "blue",
        "green"
       ],
       "description": "x",
       "index": 0,
       "layout": "IPY_MODEL_d52bceb778e34b458561367355f660c7",
       "style": "IPY_MODEL_72885ea9d78944dbb7c0f90e71d42591"
      }
     },
     "374ef4ffbec64d4fb692dfe4afd4fdb2": {
      "model_module": "@jupyter-widgets/controls",
      "model_module_version": "1.4.0",
      "model_name": "IntSliderModel",
      "state": {
       "description": "x",
       "layout": "IPY_MODEL_f8bf1e98649444d18e917aff81a7b9cb",
       "max": 30,
       "min": -10,
       "step": 5,
       "style": "IPY_MODEL_c386b1a69a4948548204c93d0e8079cb",
       "value": 30
      }
     },
     "37e69189f82c4ff5ba7e0ee6fe98a39a": {
      "model_module": "@jupyter-widgets/controls",
      "model_module_version": "1.4.0",
      "model_name": "VBoxModel",
      "state": {
       "_dom_classes": [
        "widget-interact"
       ],
       "children": [
        "IPY_MODEL_b2bd73132f8d48ef83831b3a84e20444",
        "IPY_MODEL_c4e947f2ea304b41b396d2c653ae79de"
       ],
       "layout": "IPY_MODEL_723e81a67c814ef3aeb3bf4495f77432"
      }
     },
     "37fb6db1601f4f5db3fa41e4fb6d05dc": {
      "model_module": "@jupyter-widgets/base",
      "model_module_version": "1.1.0",
      "model_name": "LayoutModel",
      "state": {}
     },
     "38d40760ef294fd88c4237fe64a79250": {
      "model_module": "@jupyter-widgets/base",
      "model_module_version": "1.1.0",
      "model_name": "LayoutModel",
      "state": {}
     },
     "38d4d901d4ae4d15bdc2c2157ba7b425": {
      "model_module": "@jupyter-widgets/controls",
      "model_module_version": "1.4.0",
      "model_name": "DropdownModel",
      "state": {
       "_options_labels": [
        "Stroke, hemorrhagic",
        "Total for all causes",
        "Poisoning (not alcohol)",
        "Cholelithiases",
        "Liver cancer",
        "Motor-vehicle nontraffic crashes",
        "Subtotal all causes",
        "Prostate cancer (males only)",
        "Chronic hepatitis",
        "Alcohol abuse",
        "Alcohol poisoning",
        "Ischemic heart disease",
        "Water transport",
        "Oropharyngeal cancer",
        "Liver cirrhosis, unspecified",
        "Firearm injuries",
        "Spontaneous abortion (females only)",
        "Child maltreatment",
        "Supraventricular cardiac dysrhythmia",
        "Esophageal cancer",
        "Suicide",
        "Gastroesophageal hemorrhage",
        "Other road vehicle crashes",
        "Air-space transport",
        "Motor-vehicle traffic crashes",
        "Alcoholic gastritis",
        "Aspiration",
        "Alcohol dependence syndrome",
        "Low birth weight, prematurity, IUGR, death",
        "Psoriasis",
        "Breast cancer (females only)",
        "Acute pancreatitis",
        "Homicide",
        "Stroke, ischemic",
        "Alcohol-induced chronic pancreatitis",
        "Alcohol polyneuropathy",
        "Laryngeal cancer",
        "Fall injuries",
        "Drowning",
        "Portal hypertension",
        "Chronic pancreatitis",
        "Alcohol cardiomyopathy",
        "Alcoholic liver disease",
        "Degeneration of nervous system due to alcohol",
        "Hypertension",
        "Occupational and machine injuries",
        "Epilepsy",
        "Hypothermia",
        "Esophageal varices",
        "Alcoholic psychosis",
        "Excessive blood alcohol level",
        "Fetal alcohol syndrome",
        "Fire injuries",
        "Fetus and newborn affected by maternal use of alcohol",
        "Suicide by and exposure to alcohol",
        "Alcoholic myopathy"
       ],
       "description": "condition",
       "index": 4,
       "layout": "IPY_MODEL_0ebc7ffea5e54a948792fdda7688708b",
       "style": "IPY_MODEL_c7a7670598ff4812872c18b19bf4eaf8"
      }
     },
     "38df0a9c7739488cac4e524c9f0774d3": {
      "model_module": "@jupyter-widgets/controls",
      "model_module_version": "1.4.0",
      "model_name": "DropdownModel",
      "state": {
       "_options_labels": [
        "New York",
        "Utah",
        "Washington",
        "Illinois",
        "North Dakota",
        "Oklahoma",
        "New Mexico",
        "Arkansas",
        "New Hampshire",
        "California",
        "Montana",
        "Iowa",
        "Wyoming",
        "Minnesota",
        "Rhode Island",
        "Florida",
        "Louisiana",
        "Colorado",
        "Alabama",
        "Massachusetts",
        "Idaho",
        "Arizona",
        "Wisconsin",
        "Nevada",
        "Oregon",
        "South Dakota",
        "Maryland",
        "South Carolina",
        "Michigan",
        "Indiana",
        "Tennessee",
        "Connecticut",
        "Virginia",
        "Nebraska",
        "National",
        "West Virginia",
        "Hawaii",
        "Delaware",
        "Pennsylvania",
        "Vermont",
        "District of Columbia",
        "Maine",
        "New Jersey",
        "Kansas",
        "Georgia",
        "Missouri",
        "Texas",
        "Kentucky",
        "Ohio",
        "Alaska",
        "North Carolina",
        "Mississippi"
       ],
       "description": "location",
       "index": 0,
       "layout": "IPY_MODEL_5ae4ec0c57804eec84da8857fc8876f9",
       "style": "IPY_MODEL_484b82a3df284d44bd81303ad72aa349"
      }
     },
     "397baaa645504bd5b97ac3cb26e71775": {
      "model_module": "@jupyter-widgets/base",
      "model_module_version": "1.1.0",
      "model_name": "LayoutModel",
      "state": {}
     },
     "39ad1a5057be496d8391e2d0776f3d6c": {
      "model_module": "@jupyter-widgets/base",
      "model_module_version": "1.1.0",
      "model_name": "LayoutModel",
      "state": {}
     },
     "3a391c1a3e554c8ea7b5678d364a0ae0": {
      "model_module": "@jupyter-widgets/controls",
      "model_module_version": "1.4.0",
      "model_name": "ButtonModel",
      "state": {
       "description": "Run Interact",
       "layout": "IPY_MODEL_6b083406ab5b4ace8fcee89d08d4f8ad",
       "style": "IPY_MODEL_6c3b5f52150e41378c5848abd362efdd"
      }
     },
     "3be44fa1ec524d619629386e5f3556ae": {
      "model_module": "@jupyter-widgets/controls",
      "model_module_version": "1.4.0",
      "model_name": "DescriptionStyleModel",
      "state": {
       "description_width": ""
      }
     },
     "3c78c31bf4784bd6ae65e26e7356a32f": {
      "model_module": "@jupyter-widgets/controls",
      "model_module_version": "1.4.0",
      "model_name": "ButtonStyleModel",
      "state": {}
     },
     "3cb7355e7b94402ca1d7d374befc94ca": {
      "model_module": "@jupyter-widgets/controls",
      "model_module_version": "1.4.0",
      "model_name": "ButtonStyleModel",
      "state": {}
     },
     "3d68c608440f42318317a88ae4eb7190": {
      "model_module": "@jupyter-widgets/base",
      "model_module_version": "1.1.0",
      "model_name": "LayoutModel",
      "state": {}
     },
     "3e040fcc35c04f2d945b7e4856465f0b": {
      "model_module": "@jupyter-widgets/controls",
      "model_module_version": "1.4.0",
      "model_name": "DescriptionStyleModel",
      "state": {
       "description_width": ""
      }
     },
     "3e1350bb82174b2f8315b6023bc38e6d": {
      "model_module": "@jupyter-widgets/controls",
      "model_module_version": "1.4.0",
      "model_name": "DescriptionStyleModel",
      "state": {
       "description_width": ""
      }
     },
     "410353fe60f94d22b578747e647aad86": {
      "model_module": "@jupyter-widgets/output",
      "model_module_version": "1.0.0",
      "model_name": "OutputModel",
      "state": {
       "layout": "IPY_MODEL_44753f0de9a3469cb60d3b16d7ad18a8",
       "outputs": [
        {
         "name": "stdout",
         "output_type": "stream",
         "text": "Data value unit :number of alcohol attributable deaths\nData value type :Annual Average\n                  condition  agegroup      sex  data_value_alt\n27576   Stroke, hemorrhagic     35-49     Male             6.5\n28493   Stroke, hemorrhagic       65+  Overall            54.6\n31312   Stroke, hemorrhagic     20-34   Female             0.1\n34588   Stroke, hemorrhagic     35-49   Female             0.9\n50947   Stroke, hemorrhagic       65+     Male            44.5\n55623   Stroke, hemorrhagic     20-34     Male             1.0\n62259   Stroke, hemorrhagic     50-64     Male            14.8\n64092   Stroke, hemorrhagic  All Ages  Overall            80.1\n68112   Stroke, hemorrhagic     35-49  Overall             7.3\n74529   Stroke, hemorrhagic     0-<21  Overall             0.1\n75975   Stroke, hemorrhagic       65+   Female            10.1\n76517   Stroke, hemorrhagic     50-64  Overall            17.0\n82782   Stroke, hemorrhagic     20-34  Overall             1.1\n83520   Stroke, hemorrhagic     50-64   Female             2.2\n103382  Stroke, hemorrhagic  All Ages     Male            66.8\n103860  Stroke, hemorrhagic  All Ages   Female            13.3\n"
        }
       ]
      }
     },
     "415f421d7c8a4657bee575eec5cf7bf2": {
      "model_module": "@jupyter-widgets/base",
      "model_module_version": "1.1.0",
      "model_name": "LayoutModel",
      "state": {}
     },
     "41aeb5c9b39e46d7b3cf36f87adea892": {
      "model_module": "@jupyter-widgets/controls",
      "model_module_version": "1.4.0",
      "model_name": "SliderStyleModel",
      "state": {
       "description_width": ""
      }
     },
     "43f86ad8846444d399d83fde4219e946": {
      "model_module": "@jupyter-widgets/controls",
      "model_module_version": "1.4.0",
      "model_name": "DropdownModel",
      "state": {
       "_options_labels": [
        "Stroke, hemorrhagic",
        "Total for all causes",
        "Poisoning (not alcohol)",
        "Cholelithiases",
        "Liver cancer",
        "Motor-vehicle nontraffic crashes",
        "Subtotal all causes",
        "Prostate cancer (males only)",
        "Chronic hepatitis",
        "Alcohol abuse",
        "Alcohol poisoning",
        "Ischemic heart disease",
        "Water transport",
        "Oropharyngeal cancer",
        "Liver cirrhosis, unspecified",
        "Firearm injuries",
        "Spontaneous abortion (females only)",
        "Child maltreatment",
        "Supraventricular cardiac dysrhythmia",
        "Esophageal cancer",
        "Suicide",
        "Gastroesophageal hemorrhage",
        "Other road vehicle crashes",
        "Air-space transport",
        "Motor-vehicle traffic crashes",
        "Alcoholic gastritis",
        "Aspiration",
        "Alcohol dependence syndrome",
        "Low birth weight, prematurity, IUGR, death",
        "Psoriasis",
        "Breast cancer (females only)",
        "Acute pancreatitis",
        "Homicide",
        "Stroke, ischemic",
        "Alcohol-induced chronic pancreatitis",
        "Alcohol polyneuropathy",
        "Laryngeal cancer",
        "Fall injuries",
        "Drowning",
        "Portal hypertension",
        "Chronic pancreatitis",
        "Alcohol cardiomyopathy",
        "Alcoholic liver disease",
        "Degeneration of nervous system due to alcohol",
        "Hypertension",
        "Occupational and machine injuries",
        "Epilepsy",
        "Hypothermia",
        "Esophageal varices",
        "Alcoholic psychosis",
        "Excessive blood alcohol level",
        "Fetal alcohol syndrome",
        "Fire injuries",
        "Fetus and newborn affected by maternal use of alcohol",
        "Suicide by and exposure to alcohol",
        "Alcoholic myopathy"
       ],
       "description": "condition",
       "index": 0,
       "layout": "IPY_MODEL_83baa032ce1b490687e03ba9eba1ace3",
       "style": "IPY_MODEL_a6c2a4a88f7b4781a5ae3cb177d5f130"
      }
     },
     "44240a5926aa4e2b81916267f570feb6": {
      "model_module": "@jupyter-widgets/controls",
      "model_module_version": "1.4.0",
      "model_name": "ButtonStyleModel",
      "state": {}
     },
     "44753f0de9a3469cb60d3b16d7ad18a8": {
      "model_module": "@jupyter-widgets/base",
      "model_module_version": "1.1.0",
      "model_name": "LayoutModel",
      "state": {}
     },
     "44d98dc1574246f0b2c33a0d2b6ebf08": {
      "model_module": "@jupyter-widgets/controls",
      "model_module_version": "1.4.0",
      "model_name": "DropdownModel",
      "state": {
       "_options_labels": [
        "Stroke, hemorrhagic",
        "Total for all causes",
        "Poisoning (not alcohol)",
        "Cholelithiases",
        "Liver cancer",
        "Motor-vehicle nontraffic crashes",
        "Subtotal all causes",
        "Prostate cancer (males only)",
        "Chronic hepatitis",
        "Alcohol abuse",
        "Alcohol poisoning",
        "Ischemic heart disease",
        "Water transport",
        "Oropharyngeal cancer",
        "Liver cirrhosis, unspecified",
        "Firearm injuries",
        "Spontaneous abortion (females only)",
        "Child maltreatment",
        "Supraventricular cardiac dysrhythmia",
        "Esophageal cancer",
        "Suicide",
        "Gastroesophageal hemorrhage",
        "Other road vehicle crashes",
        "Air-space transport",
        "Motor-vehicle traffic crashes",
        "Alcoholic gastritis",
        "Aspiration",
        "Alcohol dependence syndrome",
        "Low birth weight, prematurity, IUGR, death",
        "Psoriasis",
        "Breast cancer (females only)",
        "Acute pancreatitis",
        "Homicide",
        "Stroke, ischemic",
        "Alcohol-induced chronic pancreatitis",
        "Alcohol polyneuropathy",
        "Laryngeal cancer",
        "Fall injuries",
        "Drowning",
        "Portal hypertension",
        "Chronic pancreatitis",
        "Alcohol cardiomyopathy",
        "Alcoholic liver disease",
        "Degeneration of nervous system due to alcohol",
        "Hypertension",
        "Occupational and machine injuries",
        "Epilepsy",
        "Hypothermia",
        "Esophageal varices",
        "Alcoholic psychosis",
        "Excessive blood alcohol level",
        "Fetal alcohol syndrome",
        "Fire injuries",
        "Fetus and newborn affected by maternal use of alcohol",
        "Suicide by and exposure to alcohol",
        "Alcoholic myopathy"
       ],
       "description": "x",
       "index": 0,
       "layout": "IPY_MODEL_7f91e5e3b9984c2bac83f60346b7bf40",
       "style": "IPY_MODEL_f0df04e7e943475fa1eaa04333121430"
      }
     },
     "451eba21cc9c4f3aaf6b1973276d62b2": {
      "model_module": "@jupyter-widgets/controls",
      "model_module_version": "1.4.0",
      "model_name": "DropdownModel",
      "state": {
       "_options_labels": [
        "Stroke, hemorrhagic",
        "Total for all causes",
        "Poisoning (not alcohol)",
        "Cholelithiases",
        "Liver cancer",
        "Motor-vehicle nontraffic crashes",
        "Subtotal all causes",
        "Prostate cancer (males only)",
        "Chronic hepatitis",
        "Alcohol abuse",
        "Alcohol poisoning",
        "Ischemic heart disease",
        "Water transport",
        "Oropharyngeal cancer",
        "Liver cirrhosis, unspecified",
        "Firearm injuries",
        "Spontaneous abortion (females only)",
        "Child maltreatment",
        "Supraventricular cardiac dysrhythmia",
        "Esophageal cancer",
        "Suicide",
        "Gastroesophageal hemorrhage",
        "Other road vehicle crashes",
        "Air-space transport",
        "Motor-vehicle traffic crashes",
        "Alcoholic gastritis",
        "Aspiration",
        "Alcohol dependence syndrome",
        "Low birth weight, prematurity, IUGR, death",
        "Psoriasis",
        "Breast cancer (females only)",
        "Acute pancreatitis",
        "Homicide",
        "Stroke, ischemic",
        "Alcohol-induced chronic pancreatitis",
        "Alcohol polyneuropathy",
        "Laryngeal cancer",
        "Fall injuries",
        "Drowning",
        "Portal hypertension",
        "Chronic pancreatitis",
        "Alcohol cardiomyopathy",
        "Alcoholic liver disease",
        "Degeneration of nervous system due to alcohol",
        "Hypertension",
        "Occupational and machine injuries",
        "Epilepsy",
        "Hypothermia",
        "Esophageal varices",
        "Alcoholic psychosis",
        "Excessive blood alcohol level",
        "Fetal alcohol syndrome",
        "Fire injuries",
        "Fetus and newborn affected by maternal use of alcohol",
        "Suicide by and exposure to alcohol",
        "Alcoholic myopathy"
       ],
       "description": "x",
       "index": 0,
       "layout": "IPY_MODEL_9aa86f1f6bcf48889735f86f68a2650d",
       "style": "IPY_MODEL_6a379135d6ab4518bd270a08acb7206b"
      }
     },
     "4536a6c00501434eb61c08b5f3a77866": {
      "model_module": "@jupyter-widgets/base",
      "model_module_version": "1.1.0",
      "model_name": "LayoutModel",
      "state": {}
     },
     "4536b68333814de381f71cf47504f052": {
      "model_module": "@jupyter-widgets/controls",
      "model_module_version": "1.4.0",
      "model_name": "DropdownModel",
      "state": {
       "_options_labels": [
        "New York",
        "Utah",
        "Washington",
        "Illinois",
        "North Dakota",
        "Oklahoma",
        "New Mexico",
        "Arkansas",
        "New Hampshire",
        "California",
        "Montana",
        "Iowa",
        "Wyoming",
        "Minnesota",
        "Rhode Island",
        "Florida",
        "Louisiana",
        "Colorado",
        "Alabama",
        "Massachusetts",
        "Idaho",
        "Arizona",
        "Wisconsin",
        "Nevada",
        "Oregon",
        "South Dakota",
        "Maryland",
        "South Carolina",
        "Michigan",
        "Indiana",
        "Tennessee",
        "Connecticut",
        "Virginia",
        "Nebraska",
        "National",
        "West Virginia",
        "Hawaii",
        "Delaware",
        "Pennsylvania",
        "Vermont",
        "District of Columbia",
        "Maine",
        "New Jersey",
        "Kansas",
        "Georgia",
        "Missouri",
        "Texas",
        "Kentucky",
        "Ohio",
        "Alaska",
        "North Carolina",
        "Mississippi"
       ],
       "description": "location",
       "index": 1,
       "layout": "IPY_MODEL_18ad88186eec4125884bb4ae6ac7c886",
       "style": "IPY_MODEL_4cab9d5f8aab4a8db85b53aa73c08920"
      }
     },
     "456aecba6b204c25ba8e5379426b22d6": {
      "model_module": "@jupyter-widgets/base",
      "model_module_version": "1.1.0",
      "model_name": "LayoutModel",
      "state": {}
     },
     "456f6b2acd3244d480f1c69b6bd2f67e": {
      "model_module": "@jupyter-widgets/controls",
      "model_module_version": "1.4.0",
      "model_name": "DescriptionStyleModel",
      "state": {
       "description_width": ""
      }
     },
     "45f29cbf8a584481a5216af3af6a2252": {
      "model_module": "@jupyter-widgets/base",
      "model_module_version": "1.1.0",
      "model_name": "LayoutModel",
      "state": {}
     },
     "46113b468d6746af9298d9865ebbf81b": {
      "model_module": "@jupyter-widgets/base",
      "model_module_version": "1.1.0",
      "model_name": "LayoutModel",
      "state": {}
     },
     "46b835700ac44b56af85e4a8bb6c8a76": {
      "model_module": "@jupyter-widgets/base",
      "model_module_version": "1.1.0",
      "model_name": "LayoutModel",
      "state": {}
     },
     "47a4a43e92074dbabd2f684c358dab7f": {
      "model_module": "@jupyter-widgets/controls",
      "model_module_version": "1.4.0",
      "model_name": "DropdownModel",
      "state": {
       "_options_labels": [
        "Stroke, hemorrhagic",
        "Total for all causes",
        "Poisoning (not alcohol)",
        "Cholelithiases",
        "Liver cancer",
        "Motor-vehicle nontraffic crashes",
        "Subtotal all causes",
        "Prostate cancer (males only)",
        "Chronic hepatitis",
        "Alcohol abuse",
        "Alcohol poisoning",
        "Ischemic heart disease",
        "Water transport",
        "Oropharyngeal cancer",
        "Liver cirrhosis, unspecified",
        "Firearm injuries",
        "Spontaneous abortion (females only)",
        "Child maltreatment",
        "Supraventricular cardiac dysrhythmia",
        "Esophageal cancer",
        "Suicide",
        "Gastroesophageal hemorrhage",
        "Other road vehicle crashes",
        "Air-space transport",
        "Motor-vehicle traffic crashes",
        "Alcoholic gastritis",
        "Aspiration",
        "Alcohol dependence syndrome",
        "Low birth weight, prematurity, IUGR, death",
        "Psoriasis",
        "Breast cancer (females only)",
        "Acute pancreatitis",
        "Homicide",
        "Stroke, ischemic",
        "Alcohol-induced chronic pancreatitis",
        "Alcohol polyneuropathy",
        "Laryngeal cancer",
        "Fall injuries",
        "Drowning",
        "Portal hypertension",
        "Chronic pancreatitis",
        "Alcohol cardiomyopathy",
        "Alcoholic liver disease",
        "Degeneration of nervous system due to alcohol",
        "Hypertension",
        "Occupational and machine injuries",
        "Epilepsy",
        "Hypothermia",
        "Esophageal varices",
        "Alcoholic psychosis",
        "Excessive blood alcohol level",
        "Fetal alcohol syndrome",
        "Fire injuries",
        "Fetus and newborn affected by maternal use of alcohol",
        "Suicide by and exposure to alcohol",
        "Alcoholic myopathy"
       ],
       "description": "condition",
       "index": 0,
       "layout": "IPY_MODEL_4536a6c00501434eb61c08b5f3a77866",
       "style": "IPY_MODEL_6dd2e3415a254cbead333eb510b8cab7"
      }
     },
     "484b82a3df284d44bd81303ad72aa349": {
      "model_module": "@jupyter-widgets/controls",
      "model_module_version": "1.4.0",
      "model_name": "DescriptionStyleModel",
      "state": {
       "description_width": ""
      }
     },
     "48684d8e45554661a270ec46c6dfdcf3": {
      "model_module": "@jupyter-widgets/output",
      "model_module_version": "1.0.0",
      "model_name": "OutputModel",
      "state": {
       "layout": "IPY_MODEL_54a3561107214fae822ee06a2a5dc524"
      }
     },
     "48f2f15fffa440c08b9cfbfbc2dfbb02": {
      "model_module": "@jupyter-widgets/controls",
      "model_module_version": "1.4.0",
      "model_name": "DropdownModel",
      "state": {
       "_options_labels": [
        "Stroke, hemorrhagic",
        "Total for all causes",
        "Poisoning (not alcohol)",
        "Cholelithiases",
        "Liver cancer",
        "Motor-vehicle nontraffic crashes",
        "Subtotal all causes",
        "Prostate cancer (males only)",
        "Chronic hepatitis",
        "Alcohol abuse",
        "Alcohol poisoning",
        "Ischemic heart disease",
        "Water transport",
        "Oropharyngeal cancer",
        "Liver cirrhosis, unspecified",
        "Firearm injuries",
        "Spontaneous abortion (females only)",
        "Child maltreatment",
        "Supraventricular cardiac dysrhythmia",
        "Esophageal cancer",
        "Suicide",
        "Gastroesophageal hemorrhage",
        "Other road vehicle crashes",
        "Air-space transport",
        "Motor-vehicle traffic crashes",
        "Alcoholic gastritis",
        "Aspiration",
        "Alcohol dependence syndrome",
        "Low birth weight, prematurity, IUGR, death",
        "Psoriasis",
        "Breast cancer (females only)",
        "Acute pancreatitis",
        "Homicide",
        "Stroke, ischemic",
        "Alcohol-induced chronic pancreatitis",
        "Alcohol polyneuropathy",
        "Laryngeal cancer",
        "Fall injuries",
        "Drowning",
        "Portal hypertension",
        "Chronic pancreatitis",
        "Alcohol cardiomyopathy",
        "Alcoholic liver disease",
        "Degeneration of nervous system due to alcohol",
        "Hypertension",
        "Occupational and machine injuries",
        "Epilepsy",
        "Hypothermia",
        "Esophageal varices",
        "Alcoholic psychosis",
        "Excessive blood alcohol level",
        "Fetal alcohol syndrome",
        "Fire injuries",
        "Fetus and newborn affected by maternal use of alcohol",
        "Suicide by and exposure to alcohol",
        "Alcoholic myopathy"
       ],
       "description": "condition",
       "index": 0,
       "layout": "IPY_MODEL_5642713bf140474aa26bed7d2eff016d",
       "style": "IPY_MODEL_bc17a605aea84ac980a1a51005d4dab0"
      }
     },
     "4a00e237439143868e9d20ae1f9e0430": {
      "model_module": "@jupyter-widgets/base",
      "model_module_version": "1.1.0",
      "model_name": "LayoutModel",
      "state": {}
     },
     "4a2f1aa013924b578db2209cb4091cfc": {
      "model_module": "@jupyter-widgets/controls",
      "model_module_version": "1.4.0",
      "model_name": "DropdownModel",
      "state": {
       "_options_labels": [
        "Stroke, hemorrhagic",
        "Total for all causes",
        "Poisoning (not alcohol)",
        "Cholelithiases",
        "Liver cancer",
        "Motor-vehicle nontraffic crashes",
        "Subtotal all causes",
        "Prostate cancer (males only)",
        "Chronic hepatitis",
        "Alcohol abuse",
        "Alcohol poisoning",
        "Ischemic heart disease",
        "Water transport",
        "Oropharyngeal cancer",
        "Liver cirrhosis, unspecified",
        "Firearm injuries",
        "Spontaneous abortion (females only)",
        "Child maltreatment",
        "Supraventricular cardiac dysrhythmia",
        "Esophageal cancer",
        "Suicide",
        "Gastroesophageal hemorrhage",
        "Other road vehicle crashes",
        "Air-space transport",
        "Motor-vehicle traffic crashes",
        "Alcoholic gastritis",
        "Aspiration",
        "Alcohol dependence syndrome",
        "Low birth weight, prematurity, IUGR, death",
        "Psoriasis",
        "Breast cancer (females only)",
        "Acute pancreatitis",
        "Homicide",
        "Stroke, ischemic",
        "Alcohol-induced chronic pancreatitis",
        "Alcohol polyneuropathy",
        "Laryngeal cancer",
        "Fall injuries",
        "Drowning",
        "Portal hypertension",
        "Chronic pancreatitis",
        "Alcohol cardiomyopathy",
        "Alcoholic liver disease",
        "Degeneration of nervous system due to alcohol",
        "Hypertension",
        "Occupational and machine injuries",
        "Epilepsy",
        "Hypothermia",
        "Esophageal varices",
        "Alcoholic psychosis",
        "Excessive blood alcohol level",
        "Fetal alcohol syndrome",
        "Fire injuries",
        "Fetus and newborn affected by maternal use of alcohol",
        "Suicide by and exposure to alcohol",
        "Alcoholic myopathy"
       ],
       "description": "x",
       "index": 0,
       "layout": "IPY_MODEL_8be2fb0fca104ff794c8625e129a95a1",
       "style": "IPY_MODEL_3e1350bb82174b2f8315b6023bc38e6d"
      }
     },
     "4c7b4e1acf7441e7a113273fe4139829": {
      "model_module": "@jupyter-widgets/controls",
      "model_module_version": "1.4.0",
      "model_name": "DescriptionStyleModel",
      "state": {
       "description_width": ""
      }
     },
     "4c809a6c562b42769d7f11c52529fe56": {
      "model_module": "@jupyter-widgets/base",
      "model_module_version": "1.1.0",
      "model_name": "LayoutModel",
      "state": {}
     },
     "4cab9d5f8aab4a8db85b53aa73c08920": {
      "model_module": "@jupyter-widgets/controls",
      "model_module_version": "1.4.0",
      "model_name": "DescriptionStyleModel",
      "state": {
       "description_width": ""
      }
     },
     "4e97f104abfa4a678ab158e41c1eb655": {
      "model_module": "@jupyter-widgets/base",
      "model_module_version": "1.1.0",
      "model_name": "LayoutModel",
      "state": {}
     },
     "4f16454508ef42c08c78d6e821bf061b": {
      "model_module": "@jupyter-widgets/base",
      "model_module_version": "1.1.0",
      "model_name": "LayoutModel",
      "state": {}
     },
     "50ea74518f264e1086e00dcddc5c467c": {
      "model_module": "@jupyter-widgets/base",
      "model_module_version": "1.1.0",
      "model_name": "LayoutModel",
      "state": {}
     },
     "50f18a6217644a7a83b777b705843b60": {
      "model_module": "@jupyter-widgets/base",
      "model_module_version": "1.1.0",
      "model_name": "LayoutModel",
      "state": {}
     },
     "510e3ecdc2de4ddcbf3ad1436ae3e0cc": {
      "model_module": "@jupyter-widgets/controls",
      "model_module_version": "1.4.0",
      "model_name": "DescriptionStyleModel",
      "state": {
       "description_width": ""
      }
     },
     "52dc95beb82a4084a5636cc7aefe9a05": {
      "model_module": "@jupyter-widgets/controls",
      "model_module_version": "1.4.0",
      "model_name": "VBoxModel",
      "state": {
       "_dom_classes": [
        "widget-interact"
       ],
       "children": [
        "IPY_MODEL_96af2756e270417e8c09f6c066c1deb2",
        "IPY_MODEL_ab2a8cce14d64544a5043f339a015703"
       ],
       "layout": "IPY_MODEL_0464375c8c7c4ebfafbc569d8d4c80c9"
      }
     },
     "53499ac1fbfd45c481f1674564391745": {
      "model_module": "@jupyter-widgets/controls",
      "model_module_version": "1.4.0",
      "model_name": "DropdownModel",
      "state": {
       "_options_labels": [
        "Stroke, hemorrhagic",
        "Total for all causes",
        "Poisoning (not alcohol)",
        "Cholelithiases",
        "Liver cancer",
        "Motor-vehicle nontraffic crashes",
        "Subtotal all causes",
        "Prostate cancer (males only)",
        "Chronic hepatitis",
        "Alcohol abuse",
        "Alcohol poisoning",
        "Ischemic heart disease",
        "Water transport",
        "Oropharyngeal cancer",
        "Liver cirrhosis, unspecified",
        "Firearm injuries",
        "Spontaneous abortion (females only)",
        "Child maltreatment",
        "Supraventricular cardiac dysrhythmia",
        "Esophageal cancer",
        "Suicide",
        "Gastroesophageal hemorrhage",
        "Other road vehicle crashes",
        "Air-space transport",
        "Motor-vehicle traffic crashes",
        "Alcoholic gastritis",
        "Aspiration",
        "Alcohol dependence syndrome",
        "Low birth weight, prematurity, IUGR, death",
        "Psoriasis",
        "Breast cancer (females only)",
        "Acute pancreatitis",
        "Homicide",
        "Stroke, ischemic",
        "Alcohol-induced chronic pancreatitis",
        "Alcohol polyneuropathy",
        "Laryngeal cancer",
        "Fall injuries",
        "Drowning",
        "Portal hypertension",
        "Chronic pancreatitis",
        "Alcohol cardiomyopathy",
        "Alcoholic liver disease",
        "Degeneration of nervous system due to alcohol",
        "Hypertension",
        "Occupational and machine injuries",
        "Epilepsy",
        "Hypothermia",
        "Esophageal varices",
        "Alcoholic psychosis",
        "Excessive blood alcohol level",
        "Fetal alcohol syndrome",
        "Fire injuries",
        "Fetus and newborn affected by maternal use of alcohol",
        "Suicide by and exposure to alcohol",
        "Alcoholic myopathy"
       ],
       "description": "condition",
       "index": 0,
       "layout": "IPY_MODEL_ae2ef044731c4d2ca37f817c3825d8fb",
       "style": "IPY_MODEL_c22e0aa8ba934e748038cb9ea2c640ab"
      }
     },
     "5380a500d4c049ca85c6e91fbb7340c3": {
      "model_module": "@jupyter-widgets/base",
      "model_module_version": "1.1.0",
      "model_name": "LayoutModel",
      "state": {}
     },
     "54761eccfa784465a7617715c4047b21": {
      "model_module": "@jupyter-widgets/controls",
      "model_module_version": "1.4.0",
      "model_name": "DropdownModel",
      "state": {
       "_options_labels": [
        "New York",
        "Utah",
        "Washington",
        "Illinois",
        "North Dakota",
        "Oklahoma",
        "New Mexico",
        "Arkansas",
        "New Hampshire",
        "California",
        "Montana",
        "Iowa",
        "Wyoming",
        "Minnesota",
        "Rhode Island",
        "Florida",
        "Louisiana",
        "Colorado",
        "Alabama",
        "Massachusetts",
        "Idaho",
        "Arizona",
        "Wisconsin",
        "Nevada",
        "Oregon",
        "South Dakota",
        "Maryland",
        "South Carolina",
        "Michigan",
        "Indiana",
        "Tennessee",
        "Connecticut",
        "Virginia",
        "Nebraska",
        "National",
        "West Virginia",
        "Hawaii",
        "Delaware",
        "Pennsylvania",
        "Vermont",
        "District of Columbia",
        "Maine",
        "New Jersey",
        "Kansas",
        "Georgia",
        "Missouri",
        "Texas",
        "Kentucky",
        "Ohio",
        "Alaska",
        "North Carolina",
        "Mississippi"
       ],
       "description": "x",
       "index": 6,
       "layout": "IPY_MODEL_af9b161ff6b84832aae19e69eaeaf8b2",
       "style": "IPY_MODEL_59c730cd177148d7919e4c62e8d35158"
      }
     },
     "54a3561107214fae822ee06a2a5dc524": {
      "model_module": "@jupyter-widgets/base",
      "model_module_version": "1.1.0",
      "model_name": "LayoutModel",
      "state": {}
     },
     "54b210af73ad40f09e6c917432d15555": {
      "model_module": "@jupyter-widgets/base",
      "model_module_version": "1.1.0",
      "model_name": "LayoutModel",
      "state": {}
     },
     "55114b58ded94e9cb2c78620d58f9e5c": {
      "model_module": "@jupyter-widgets/base",
      "model_module_version": "1.1.0",
      "model_name": "LayoutModel",
      "state": {}
     },
     "5525764823d6445996111709341138cc": {
      "model_module": "@jupyter-widgets/base",
      "model_module_version": "1.1.0",
      "model_name": "LayoutModel",
      "state": {}
     },
     "55ded3e0ed7b474f93473800801c683e": {
      "model_module": "@jupyter-widgets/base",
      "model_module_version": "1.1.0",
      "model_name": "LayoutModel",
      "state": {}
     },
     "562d72ed0f0049fd9b7e13a016202ec5": {
      "model_module": "@jupyter-widgets/controls",
      "model_module_version": "1.4.0",
      "model_name": "ButtonModel",
      "state": {
       "description": "Run Interact",
       "layout": "IPY_MODEL_6cee4d509b2840a5ab2c289979f65eb4",
       "style": "IPY_MODEL_f45ff8359d454796890d3e13444ac45e"
      }
     },
     "5642713bf140474aa26bed7d2eff016d": {
      "model_module": "@jupyter-widgets/base",
      "model_module_version": "1.1.0",
      "model_name": "LayoutModel",
      "state": {}
     },
     "56c013e761634964940cd670f858912b": {
      "model_module": "@jupyter-widgets/base",
      "model_module_version": "1.1.0",
      "model_name": "LayoutModel",
      "state": {}
     },
     "5755056c50ba400882852a5e02eb86dd": {
      "model_module": "@jupyter-widgets/controls",
      "model_module_version": "1.4.0",
      "model_name": "VBoxModel",
      "state": {
       "_dom_classes": [
        "widget-interact"
       ],
       "children": [
        "IPY_MODEL_5b0109e2f2064bd99a7f40c2df508181",
        "IPY_MODEL_43f86ad8846444d399d83fde4219e946",
        "IPY_MODEL_562d72ed0f0049fd9b7e13a016202ec5",
        "IPY_MODEL_d91b24c8c0104b5cb5f40eaa45fc8cc4"
       ],
       "layout": "IPY_MODEL_b4f59438345a41c19566ec080e8d8f1c"
      }
     },
     "5851609cb8b941019ef7084ccadc1fbf": {
      "model_module": "@jupyter-widgets/base",
      "model_module_version": "1.1.0",
      "model_name": "LayoutModel",
      "state": {}
     },
     "591344e73a2f4eb498ef1735a0fa8341": {
      "model_module": "@jupyter-widgets/base",
      "model_module_version": "1.1.0",
      "model_name": "LayoutModel",
      "state": {}
     },
     "59c730cd177148d7919e4c62e8d35158": {
      "model_module": "@jupyter-widgets/controls",
      "model_module_version": "1.4.0",
      "model_name": "DescriptionStyleModel",
      "state": {
       "description_width": ""
      }
     },
     "5a3ca514e97e495b824bdd2363262df2": {
      "model_module": "@jupyter-widgets/base",
      "model_module_version": "1.1.0",
      "model_name": "LayoutModel",
      "state": {}
     },
     "5aab6506e0244cb6bc2b9b9aa6f123af": {
      "model_module": "@jupyter-widgets/base",
      "model_module_version": "1.1.0",
      "model_name": "LayoutModel",
      "state": {}
     },
     "5ae4ec0c57804eec84da8857fc8876f9": {
      "model_module": "@jupyter-widgets/base",
      "model_module_version": "1.1.0",
      "model_name": "LayoutModel",
      "state": {}
     },
     "5b0109e2f2064bd99a7f40c2df508181": {
      "model_module": "@jupyter-widgets/controls",
      "model_module_version": "1.4.0",
      "model_name": "DropdownModel",
      "state": {
       "_options_labels": [
        "New York",
        "Utah",
        "Washington",
        "Illinois",
        "North Dakota",
        "Oklahoma",
        "New Mexico",
        "Arkansas",
        "New Hampshire",
        "California",
        "Montana",
        "Iowa",
        "Wyoming",
        "Minnesota",
        "Rhode Island",
        "Florida",
        "Louisiana",
        "Colorado",
        "Alabama",
        "Massachusetts",
        "Idaho",
        "Arizona",
        "Wisconsin",
        "Nevada",
        "Oregon",
        "South Dakota",
        "Maryland",
        "South Carolina",
        "Michigan",
        "Indiana",
        "Tennessee",
        "Connecticut",
        "Virginia",
        "Nebraska",
        "National",
        "West Virginia",
        "Hawaii",
        "Delaware",
        "Pennsylvania",
        "Vermont",
        "District of Columbia",
        "Maine",
        "New Jersey",
        "Kansas",
        "Georgia",
        "Missouri",
        "Texas",
        "Kentucky",
        "Ohio",
        "Alaska",
        "North Carolina",
        "Mississippi"
       ],
       "description": "location",
       "index": 0,
       "layout": "IPY_MODEL_29c947119fbb4147b97f33131744bad8",
       "style": "IPY_MODEL_78d824d2ee2b4126ae43aff7141874c7"
      }
     },
     "5b0135b4c9544fafabf70555465f1b98": {
      "model_module": "@jupyter-widgets/controls",
      "model_module_version": "1.4.0",
      "model_name": "DropdownModel",
      "state": {
       "_options_labels": [
        "blue",
        "red",
        "green"
       ],
       "description": "color",
       "index": 0,
       "layout": "IPY_MODEL_e947ec2f52da45928e792b3d0849b898",
       "style": "IPY_MODEL_08aa0960a65848d683646f62ee05f7cf"
      }
     },
     "5b4f12a8ad994d5682797808c22dee4c": {
      "model_module": "@jupyter-widgets/controls",
      "model_module_version": "1.4.0",
      "model_name": "DescriptionStyleModel",
      "state": {
       "description_width": ""
      }
     },
     "5c624d19c07f4595a2f9f6142b7767bb": {
      "model_module": "@jupyter-widgets/base",
      "model_module_version": "1.1.0",
      "model_name": "LayoutModel",
      "state": {}
     },
     "5c9cad07b3f14d3e8a8353c07590d6c8": {
      "model_module": "@jupyter-widgets/controls",
      "model_module_version": "1.4.0",
      "model_name": "DropdownModel",
      "state": {
       "_options_labels": [
        "New York",
        "Utah",
        "Washington",
        "Illinois",
        "North Dakota",
        "Oklahoma",
        "New Mexico",
        "Arkansas",
        "New Hampshire",
        "California",
        "Montana",
        "Iowa",
        "Wyoming",
        "Minnesota",
        "Rhode Island",
        "Florida",
        "Louisiana",
        "Colorado",
        "Alabama",
        "Massachusetts",
        "Idaho",
        "Arizona",
        "Wisconsin",
        "Nevada",
        "Oregon",
        "South Dakota",
        "Maryland",
        "South Carolina",
        "Michigan",
        "Indiana",
        "Tennessee",
        "Connecticut",
        "Virginia",
        "Nebraska",
        "National",
        "West Virginia",
        "Hawaii",
        "Delaware",
        "Pennsylvania",
        "Vermont",
        "District of Columbia",
        "Maine",
        "New Jersey",
        "Kansas",
        "Georgia",
        "Missouri",
        "Texas",
        "Kentucky",
        "Ohio",
        "Alaska",
        "North Carolina",
        "Mississippi"
       ],
       "description": "location",
       "index": 1,
       "layout": "IPY_MODEL_68ee13f632cd4cfeae47bb1523606b7d",
       "style": "IPY_MODEL_13fdf66aa3f24e5caa40b01f8fa4a21d"
      }
     },
     "5cb37cdb17784884a95dd1bdcdd8cb84": {
      "model_module": "@jupyter-widgets/output",
      "model_module_version": "1.0.0",
      "model_name": "OutputModel",
      "state": {
       "layout": "IPY_MODEL_bbc5c5b6dd0542899801a932122ffb36",
       "outputs": [
        {
         "name": "stdout",
         "output_type": "stream",
         "text": "Data value unit :number of alcohol attributable deaths\nData value type :Annual Average\n        agegroup      sex  data_value_alt\n2492       35-49     Male             2.0\n12244      50-64     Male             4.0\n29324      35-49  Overall             2.0\n35613   All Ages  Overall            11.0\n67761      20-34     Male             1.0\n85348        65+     Male             1.0\n89464      50-64  Overall             7.0\n96352        65+  Overall             1.0\n96693      20-34  Overall             1.0\n99854      50-64   Female             3.0\n103654  All Ages   Female             3.0\n103720  All Ages     Male             8.0\n"
        }
       ]
      }
     },
     "5cf88a5bf0844a5586ac48ec4f14eb1d": {
      "model_module": "@jupyter-widgets/output",
      "model_module_version": "1.0.0",
      "model_name": "OutputModel",
      "state": {
       "layout": "IPY_MODEL_56c013e761634964940cd670f858912b"
      }
     },
     "5da0249ec57d4477a687ab31bbbe2840": {
      "model_module": "@jupyter-widgets/controls",
      "model_module_version": "1.4.0",
      "model_name": "DropdownModel",
      "state": {
       "_options_labels": [
        "orange",
        "apple"
       ],
       "description": "x",
       "index": 0,
       "layout": "IPY_MODEL_831fd214aa684a2a8df0043ed9682944",
       "style": "IPY_MODEL_bb61ff8a8f6a4f8995cd836cc943e89a"
      }
     },
     "5e062350eace42db8c915754f6253961": {
      "model_module": "@jupyter-widgets/base",
      "model_module_version": "1.1.0",
      "model_name": "LayoutModel",
      "state": {}
     },
     "5e28790358a14be5bb75de8bdcd59e46": {
      "model_module": "@jupyter-widgets/controls",
      "model_module_version": "1.4.0",
      "model_name": "VBoxModel",
      "state": {
       "_dom_classes": [
        "widget-interact"
       ],
       "children": [
        "IPY_MODEL_00617f500dcb446dbfb1de087eead7c4",
        "IPY_MODEL_b404281e32e54d2ab304608a67610f75"
       ],
       "layout": "IPY_MODEL_f7452141b59b49c7bb87e75e08974f18"
      }
     },
     "5e3d4e3ad45c469482973f600fe90c64": {
      "model_module": "@jupyter-widgets/controls",
      "model_module_version": "1.4.0",
      "model_name": "SliderStyleModel",
      "state": {
       "description_width": ""
      }
     },
     "5e7e76e69a95459cb97d93d9c0d77770": {
      "model_module": "@jupyter-widgets/output",
      "model_module_version": "1.0.0",
      "model_name": "OutputModel",
      "state": {
       "layout": "IPY_MODEL_c2d765f3f2d142da9075ee25567c761a",
       "outputs": [
        {
         "name": "stdout",
         "output_type": "stream",
         "text": "Data value unit :number of alcohol attributable deaths\nData value type :Annual Average\n        agegroup      sex  data_value_alt\n27576      35-49     Male             6.5\n28493        65+  Overall            54.6\n31312      20-34   Female             0.1\n34588      35-49   Female             0.9\n50947        65+     Male            44.5\n55623      20-34     Male             1.0\n62259      50-64     Male            14.8\n64092   All Ages  Overall            80.1\n68112      35-49  Overall             7.3\n74529      0-<21  Overall             0.1\n75975        65+   Female            10.1\n76517      50-64  Overall            17.0\n82782      20-34  Overall             1.1\n83520      50-64   Female             2.2\n103382  All Ages     Male            66.8\n103860  All Ages   Female            13.3\n***** pivot *****\nsex       Female  Male  Overall\nagegroup                       \n0-<21        NaN   NaN      0.1\n20-34        0.1   1.0      1.1\n35-49        0.9   6.5      7.3\n50-64        2.2  14.8     17.0\n65+         10.1  44.5     54.6\nAll Ages    13.3  66.8     80.1\n"
        },
        {
         "data": {
          "image/png": "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\n",
          "text/plain": "<Figure size 432x288 with 1 Axes>"
         },
         "metadata": {
          "needs_background": "light"
         },
         "output_type": "display_data"
        }
       ]
      }
     },
     "5ebbba295ced4e6395d74e9606ffb3f1": {
      "model_module": "@jupyter-widgets/base",
      "model_module_version": "1.1.0",
      "model_name": "LayoutModel",
      "state": {}
     },
     "5f625b80ffd24b5c8f40630d484e384e": {
      "model_module": "@jupyter-widgets/base",
      "model_module_version": "1.1.0",
      "model_name": "LayoutModel",
      "state": {}
     },
     "5fdfc6dd4e2a419cbd3ac1ac5215635c": {
      "model_module": "@jupyter-widgets/controls",
      "model_module_version": "1.4.0",
      "model_name": "DescriptionStyleModel",
      "state": {
       "description_width": ""
      }
     },
     "60147e4b70a745e4a7d96ae9bb9ce3f9": {
      "model_module": "@jupyter-widgets/base",
      "model_module_version": "1.1.0",
      "model_name": "LayoutModel",
      "state": {}
     },
     "60e7a0cbfef541eb92a42702f58dcb00": {
      "model_module": "@jupyter-widgets/controls",
      "model_module_version": "1.4.0",
      "model_name": "IntSliderModel",
      "state": {
       "description": "x",
       "layout": "IPY_MODEL_bc7380a8b4fd40168a1830e4b55a3f7f",
       "max": 30,
       "min": -10,
       "style": "IPY_MODEL_0cea4290346d4182b9f9d1bb0e6347c0",
       "value": 10
      }
     },
     "60fd1499be4644b39634e76580034a97": {
      "model_module": "@jupyter-widgets/controls",
      "model_module_version": "1.4.0",
      "model_name": "VBoxModel",
      "state": {
       "_dom_classes": [
        "widget-interact"
       ],
       "children": [
        "IPY_MODEL_5da0249ec57d4477a687ab31bbbe2840",
        "IPY_MODEL_f849d0770f7142b09bf746a761b2a056"
       ],
       "layout": "IPY_MODEL_19262712a3c7486aab810ce861a7f2eb"
      }
     },
     "61bee65fcb7641ce89bdee23db7b3739": {
      "model_module": "@jupyter-widgets/base",
      "model_module_version": "1.1.0",
      "model_name": "LayoutModel",
      "state": {}
     },
     "62f9d82d5ee04f249edba0b1fadd40b1": {
      "model_module": "@jupyter-widgets/base",
      "model_module_version": "1.1.0",
      "model_name": "LayoutModel",
      "state": {}
     },
     "63bbabb7a867432b953a8713b189dc10": {
      "model_module": "@jupyter-widgets/controls",
      "model_module_version": "1.4.0",
      "model_name": "VBoxModel",
      "state": {
       "_dom_classes": [
        "widget-interact"
       ],
       "children": [
        "IPY_MODEL_35d9bef40bb44e9386843497d014fda1",
        "IPY_MODEL_99882669cc2c473ab8f7338578b5d962"
       ],
       "layout": "IPY_MODEL_5851609cb8b941019ef7084ccadc1fbf"
      }
     },
     "63bd82b37a3e4acaaddadc16d0febdda": {
      "model_module": "@jupyter-widgets/base",
      "model_module_version": "1.1.0",
      "model_name": "LayoutModel",
      "state": {}
     },
     "63e23f223b794a198ade50a143b92afd": {
      "model_module": "@jupyter-widgets/base",
      "model_module_version": "1.1.0",
      "model_name": "LayoutModel",
      "state": {}
     },
     "6403861171ee4923b335d7d1e272a616": {
      "model_module": "@jupyter-widgets/base",
      "model_module_version": "1.1.0",
      "model_name": "LayoutModel",
      "state": {}
     },
     "64373e80e0d0486aab41e41f95ac6d08": {
      "model_module": "@jupyter-widgets/base",
      "model_module_version": "1.1.0",
      "model_name": "LayoutModel",
      "state": {}
     },
     "64e242cfa4334d92b7f399fab6460f15": {
      "model_module": "@jupyter-widgets/base",
      "model_module_version": "1.1.0",
      "model_name": "LayoutModel",
      "state": {}
     },
     "64f98e68d2bb4ee1992a8f1cba2a5266": {
      "model_module": "@jupyter-widgets/controls",
      "model_module_version": "1.4.0",
      "model_name": "DescriptionStyleModel",
      "state": {
       "description_width": ""
      }
     },
     "650c540e3c7c4a3baaf746366208c742": {
      "model_module": "@jupyter-widgets/controls",
      "model_module_version": "1.4.0",
      "model_name": "DropdownModel",
      "state": {
       "_options_labels": [
        "Stroke, hemorrhagic",
        "Total for all causes",
        "Poisoning (not alcohol)",
        "Cholelithiases",
        "Liver cancer",
        "Motor-vehicle nontraffic crashes",
        "Subtotal all causes",
        "Prostate cancer (males only)",
        "Chronic hepatitis",
        "Alcohol abuse",
        "Alcohol poisoning",
        "Ischemic heart disease",
        "Water transport",
        "Oropharyngeal cancer",
        "Liver cirrhosis, unspecified",
        "Firearm injuries",
        "Spontaneous abortion (females only)",
        "Child maltreatment",
        "Supraventricular cardiac dysrhythmia",
        "Esophageal cancer",
        "Suicide",
        "Gastroesophageal hemorrhage",
        "Other road vehicle crashes",
        "Air-space transport",
        "Motor-vehicle traffic crashes",
        "Alcoholic gastritis",
        "Aspiration",
        "Alcohol dependence syndrome",
        "Low birth weight, prematurity, IUGR, death",
        "Psoriasis",
        "Breast cancer (females only)",
        "Acute pancreatitis",
        "Homicide",
        "Stroke, ischemic",
        "Alcohol-induced chronic pancreatitis",
        "Alcohol polyneuropathy",
        "Laryngeal cancer",
        "Fall injuries",
        "Drowning",
        "Portal hypertension",
        "Chronic pancreatitis",
        "Alcohol cardiomyopathy",
        "Alcoholic liver disease",
        "Degeneration of nervous system due to alcohol",
        "Hypertension",
        "Occupational and machine injuries",
        "Epilepsy",
        "Hypothermia",
        "Esophageal varices",
        "Alcoholic psychosis",
        "Excessive blood alcohol level",
        "Fetal alcohol syndrome",
        "Fire injuries",
        "Fetus and newborn affected by maternal use of alcohol",
        "Suicide by and exposure to alcohol",
        "Alcoholic myopathy"
       ],
       "description": "condition",
       "index": 0,
       "layout": "IPY_MODEL_18a7f22e9eca482c9aecb16beb2081bf",
       "style": "IPY_MODEL_6662387582c04f9c98c1b5d9abade013"
      }
     },
     "6523b5d6e82d42c8a310f3e0c035b78d": {
      "model_module": "@jupyter-widgets/controls",
      "model_module_version": "1.4.0",
      "model_name": "VBoxModel",
      "state": {
       "_dom_classes": [
        "widget-interact"
       ],
       "children": [
        "IPY_MODEL_8f9af4b6e31a423791ab669e4c2f822e",
        "IPY_MODEL_dcfba276564f49cea5ccf38010c09372"
       ],
       "layout": "IPY_MODEL_d4ac4cb199704dd1af5c81e8a7de2fcb"
      }
     },
     "6662387582c04f9c98c1b5d9abade013": {
      "model_module": "@jupyter-widgets/controls",
      "model_module_version": "1.4.0",
      "model_name": "DescriptionStyleModel",
      "state": {
       "description_width": ""
      }
     },
     "66ff433570ce4d1db705ec0265dc30d4": {
      "model_module": "@jupyter-widgets/base",
      "model_module_version": "1.1.0",
      "model_name": "LayoutModel",
      "state": {}
     },
     "68ee13f632cd4cfeae47bb1523606b7d": {
      "model_module": "@jupyter-widgets/base",
      "model_module_version": "1.1.0",
      "model_name": "LayoutModel",
      "state": {}
     },
     "693a56aec23c4660986a5bd6f0fdd2b4": {
      "model_module": "@jupyter-widgets/base",
      "model_module_version": "1.1.0",
      "model_name": "LayoutModel",
      "state": {}
     },
     "69b2057774504d0ea5f10ac534c304d4": {
      "model_module": "@jupyter-widgets/controls",
      "model_module_version": "1.4.0",
      "model_name": "ButtonStyleModel",
      "state": {}
     },
     "6a379135d6ab4518bd270a08acb7206b": {
      "model_module": "@jupyter-widgets/controls",
      "model_module_version": "1.4.0",
      "model_name": "DescriptionStyleModel",
      "state": {
       "description_width": ""
      }
     },
     "6b083406ab5b4ace8fcee89d08d4f8ad": {
      "model_module": "@jupyter-widgets/base",
      "model_module_version": "1.1.0",
      "model_name": "LayoutModel",
      "state": {}
     },
     "6b57844daae14373b5d389bbc14b9d64": {
      "model_module": "@jupyter-widgets/controls",
      "model_module_version": "1.4.0",
      "model_name": "ButtonModel",
      "state": {
       "description": "Run Interact",
       "layout": "IPY_MODEL_f3bb02b6166648fc956b576a0c4b4f95",
       "style": "IPY_MODEL_69b2057774504d0ea5f10ac534c304d4"
      }
     },
     "6b9da0b65480432886a4502971615046": {
      "model_module": "@jupyter-widgets/controls",
      "model_module_version": "1.4.0",
      "model_name": "VBoxModel",
      "state": {
       "_dom_classes": [
        "widget-interact"
       ],
       "children": [
        "IPY_MODEL_8d82955fc37847a7808ae7f95e420e9b",
        "IPY_MODEL_47a4a43e92074dbabd2f684c358dab7f",
        "IPY_MODEL_1bf98e830dc34b1e8623b54ba023d326",
        "IPY_MODEL_d29b190ee3ae483cb89e197f216abe41"
       ],
       "layout": "IPY_MODEL_19d0cdaadcf345b7b4d1d202483b7f8a"
      }
     },
     "6c3b5f52150e41378c5848abd362efdd": {
      "model_module": "@jupyter-widgets/controls",
      "model_module_version": "1.4.0",
      "model_name": "ButtonStyleModel",
      "state": {}
     },
     "6cee4d509b2840a5ab2c289979f65eb4": {
      "model_module": "@jupyter-widgets/base",
      "model_module_version": "1.1.0",
      "model_name": "LayoutModel",
      "state": {}
     },
     "6dd2e3415a254cbead333eb510b8cab7": {
      "model_module": "@jupyter-widgets/controls",
      "model_module_version": "1.4.0",
      "model_name": "DescriptionStyleModel",
      "state": {
       "description_width": ""
      }
     },
     "6e24ec1d44db4db899240a940e1c31f8": {
      "model_module": "@jupyter-widgets/base",
      "model_module_version": "1.1.0",
      "model_name": "LayoutModel",
      "state": {}
     },
     "6f8bc77af52a450b912cf027062fb18e": {
      "model_module": "@jupyter-widgets/controls",
      "model_module_version": "1.4.0",
      "model_name": "DescriptionStyleModel",
      "state": {
       "description_width": ""
      }
     },
     "723e81a67c814ef3aeb3bf4495f77432": {
      "model_module": "@jupyter-widgets/base",
      "model_module_version": "1.1.0",
      "model_name": "LayoutModel",
      "state": {}
     },
     "72885ea9d78944dbb7c0f90e71d42591": {
      "model_module": "@jupyter-widgets/controls",
      "model_module_version": "1.4.0",
      "model_name": "DescriptionStyleModel",
      "state": {
       "description_width": ""
      }
     },
     "72fdd6d310f04fcb86ea8aaf3a2de904": {
      "model_module": "@jupyter-widgets/controls",
      "model_module_version": "1.4.0",
      "model_name": "DropdownModel",
      "state": {
       "_options_labels": [
        "New York",
        "Utah",
        "Washington",
        "Illinois",
        "North Dakota",
        "Oklahoma",
        "New Mexico",
        "Arkansas",
        "New Hampshire",
        "California",
        "Montana",
        "Iowa",
        "Wyoming",
        "Minnesota",
        "Rhode Island",
        "Florida",
        "Louisiana",
        "Colorado",
        "Alabama",
        "Massachusetts",
        "Idaho",
        "Arizona",
        "Wisconsin",
        "Nevada",
        "Oregon",
        "South Dakota",
        "Maryland",
        "South Carolina",
        "Michigan",
        "Indiana",
        "Tennessee",
        "Connecticut",
        "Virginia",
        "Nebraska",
        "National",
        "West Virginia",
        "Hawaii",
        "Delaware",
        "Pennsylvania",
        "Vermont",
        "District of Columbia",
        "Maine",
        "New Jersey",
        "Kansas",
        "Georgia",
        "Missouri",
        "Texas",
        "Kentucky",
        "Ohio",
        "Alaska",
        "North Carolina",
        "Mississippi"
       ],
       "description": "location",
       "index": 0,
       "layout": "IPY_MODEL_3130ee87574841d985d16051ebe75edb",
       "style": "IPY_MODEL_e070f8d04ba54f5d875b5e37c45b76f0"
      }
     },
     "74fb394687384603bbe007d258788c82": {
      "model_module": "@jupyter-widgets/base",
      "model_module_version": "1.1.0",
      "model_name": "LayoutModel",
      "state": {}
     },
     "76ae48fd0cf84d4fba5f58afd3f3f5d0": {
      "model_module": "@jupyter-widgets/controls",
      "model_module_version": "1.4.0",
      "model_name": "ButtonModel",
      "state": {
       "description": "Run Interact",
       "layout": "IPY_MODEL_a7cd54aeb1ef4a3aa81acf03712f28c4",
       "style": "IPY_MODEL_0022ba52a81c4646bd383da6b9c1286d"
      }
     },
     "76e6b9cf48884bbd9cd1d4574ad3d7f3": {
      "model_module": "@jupyter-widgets/controls",
      "model_module_version": "1.4.0",
      "model_name": "VBoxModel",
      "state": {
       "_dom_classes": [
        "widget-interact"
       ],
       "children": [
        "IPY_MODEL_f0f41d369c394a7bb8bd6df8f8b8c112",
        "IPY_MODEL_53499ac1fbfd45c481f1674564391745",
        "IPY_MODEL_36605c499c71446c9963ceae1c31ccd3",
        "IPY_MODEL_b44364f1a0594ea4bbd4840d5932ecc8"
       ],
       "layout": "IPY_MODEL_9c563b9c17c341ae8f48090a3349681d"
      }
     },
     "7704fb910dda4bc5bf29cb65fc3282c4": {
      "model_module": "@jupyter-widgets/base",
      "model_module_version": "1.1.0",
      "model_name": "LayoutModel",
      "state": {}
     },
     "7754aa78bb8649e4b31c65f568f02691": {
      "model_module": "@jupyter-widgets/controls",
      "model_module_version": "1.4.0",
      "model_name": "DropdownModel",
      "state": {
       "_options_labels": [
        "yearstart",
        "yearend",
        "locationabbr",
        "locationdesc",
        "datasource",
        "consumptionpattern",
        "effect",
        "conditiontype",
        "condition",
        "sex",
        "agecategory",
        "agegroup",
        "data_value_unit",
        "data_value_type",
        "data_value",
        "data_value_alt",
        "locationid",
        "classid",
        "effectid",
        "conditionid",
        "consumptionid",
        "stratification1id",
        "agecategoryid",
        "stratification2id",
        "datavaluetypeid"
       ],
       "description": "Columns",
       "index": 8,
       "layout": "IPY_MODEL_c276677fc9bd484e8f92806a7c700617",
       "style": "IPY_MODEL_3e040fcc35c04f2d945b7e4856465f0b"
      }
     },
     "77cdf2ffd3864c60851ce4f290cfb9ba": {
      "model_module": "@jupyter-widgets/controls",
      "model_module_version": "1.4.0",
      "model_name": "DescriptionStyleModel",
      "state": {
       "description_width": ""
      }
     },
     "78a91d273e1b41bfbcf410b4a316bd50": {
      "model_module": "@jupyter-widgets/output",
      "model_module_version": "1.0.0",
      "model_name": "OutputModel",
      "state": {
       "layout": "IPY_MODEL_fa42b6f0fccc4ed0a3edd0f8504371bd",
       "outputs": [
        {
         "name": "stdout",
         "output_type": "stream",
         "text": "Data value unit :number of alcohol attributable deaths\nData value type :Annual Average\n        agegroup      sex  data_value_alt\n27576      35-49     Male             6.5\n28493        65+  Overall            54.6\n31312      20-34   Female             0.1\n34588      35-49   Female             0.9\n50947        65+     Male            44.5\n55623      20-34     Male             1.0\n62259      50-64     Male            14.8\n64092   All Ages  Overall            80.1\n68112      35-49  Overall             7.3\n74529      0-<21  Overall             0.1\n75975        65+   Female            10.1\n76517      50-64  Overall            17.0\n82782      20-34  Overall             1.1\n83520      50-64   Female             2.2\n103382  All Ages     Male            66.8\n103860  All Ages   Female            13.3\n"
        }
       ]
      }
     },
     "78c74e62fbe84cfe9ca82a71baf6c92a": {
      "model_module": "@jupyter-widgets/base",
      "model_module_version": "1.1.0",
      "model_name": "LayoutModel",
      "state": {}
     },
     "78d824d2ee2b4126ae43aff7141874c7": {
      "model_module": "@jupyter-widgets/controls",
      "model_module_version": "1.4.0",
      "model_name": "DescriptionStyleModel",
      "state": {
       "description_width": ""
      }
     },
     "7ab5eb733a424bb3805da8708a393b45": {
      "model_module": "@jupyter-widgets/output",
      "model_module_version": "1.0.0",
      "model_name": "OutputModel",
      "state": {
       "layout": "IPY_MODEL_d1fd874d26634156a1a33ae10ab9d001",
       "outputs": [
        {
         "data": {
          "image/png": "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\n",
          "text/plain": "<Figure size 432x288 with 1 Axes>"
         },
         "metadata": {
          "needs_background": "light"
         },
         "output_type": "display_data"
        }
       ]
      }
     },
     "7b6abfc61bea4fc4b32fdbf2c5911855": {
      "model_module": "@jupyter-widgets/controls",
      "model_module_version": "1.4.0",
      "model_name": "DropdownModel",
      "state": {
       "_options_labels": [
        "New York",
        "Utah",
        "Washington",
        "Illinois",
        "North Dakota",
        "Oklahoma",
        "New Mexico",
        "Arkansas",
        "New Hampshire",
        "California",
        "Montana",
        "Iowa",
        "Wyoming",
        "Minnesota",
        "Rhode Island",
        "Florida",
        "Louisiana",
        "Colorado",
        "Alabama",
        "Massachusetts",
        "Idaho",
        "Arizona",
        "Wisconsin",
        "Nevada",
        "Oregon",
        "South Dakota",
        "Maryland",
        "South Carolina",
        "Michigan",
        "Indiana",
        "Tennessee",
        "Connecticut",
        "Virginia",
        "Nebraska",
        "National",
        "West Virginia",
        "Hawaii",
        "Delaware",
        "Pennsylvania",
        "Vermont",
        "District of Columbia",
        "Maine",
        "New Jersey",
        "Kansas",
        "Georgia",
        "Missouri",
        "Texas",
        "Kentucky",
        "Ohio",
        "Alaska",
        "North Carolina",
        "Mississippi"
       ],
       "description": "location",
       "index": 0,
       "layout": "IPY_MODEL_82924ace88b249e7b3e49a04ba646ab9",
       "style": "IPY_MODEL_aab1ba9e144f4fb6b18702a06636af3a"
      }
     },
     "7c7408283dda4da39e0a5821556bd580": {
      "model_module": "@jupyter-widgets/base",
      "model_module_version": "1.1.0",
      "model_name": "LayoutModel",
      "state": {}
     },
     "7c9c583688184fd59182c0053c178595": {
      "model_module": "@jupyter-widgets/controls",
      "model_module_version": "1.4.0",
      "model_name": "VBoxModel",
      "state": {
       "_dom_classes": [
        "widget-interact"
       ],
       "children": [
        "IPY_MODEL_44d98dc1574246f0b2c33a0d2b6ebf08",
        "IPY_MODEL_5cf88a5bf0844a5586ac48ec4f14eb1d"
       ],
       "layout": "IPY_MODEL_b324c7d7892c41c3a71888c132dc339b"
      }
     },
     "7d517caf0cd84be89409393769085b39": {
      "model_module": "@jupyter-widgets/controls",
      "model_module_version": "1.4.0",
      "model_name": "VBoxModel",
      "state": {
       "_dom_classes": [
        "widget-interact"
       ],
       "children": [
        "IPY_MODEL_38df0a9c7739488cac4e524c9f0774d3",
        "IPY_MODEL_c343619d93f643e98593cb4c568f6b83",
        "IPY_MODEL_6b57844daae14373b5d389bbc14b9d64",
        "IPY_MODEL_410353fe60f94d22b578747e647aad86"
       ],
       "layout": "IPY_MODEL_55114b58ded94e9cb2c78620d58f9e5c"
      }
     },
     "7d60de1c46ec43df88d5e74ea032c783": {
      "model_module": "@jupyter-widgets/controls",
      "model_module_version": "1.4.0",
      "model_name": "VBoxModel",
      "state": {
       "_dom_classes": [
        "widget-interact"
       ],
       "children": [
        "IPY_MODEL_274501d52f3446c0a50c882ecd11eb2d",
        "IPY_MODEL_83f173656f77413c951795a337f007c0",
        "IPY_MODEL_bece67a3f5604479a228304fc630e92e",
        "IPY_MODEL_f9cb3f447d4c43b99fd7675ad4da7113"
       ],
       "layout": "IPY_MODEL_e2ce2a94372f4b958b3c9a2d8c7ef42e"
      }
     },
     "7e59927679cb46739175d619c3bec84f": {
      "model_module": "@jupyter-widgets/base",
      "model_module_version": "1.1.0",
      "model_name": "LayoutModel",
      "state": {}
     },
     "7ef6ed216f2a43b3b158d6cd5522e0fa": {
      "model_module": "@jupyter-widgets/base",
      "model_module_version": "1.1.0",
      "model_name": "LayoutModel",
      "state": {}
     },
     "7f91e5e3b9984c2bac83f60346b7bf40": {
      "model_module": "@jupyter-widgets/base",
      "model_module_version": "1.1.0",
      "model_name": "LayoutModel",
      "state": {}
     },
     "7fdf643294e94855ac5b0d08b8a063dc": {
      "model_module": "@jupyter-widgets/controls",
      "model_module_version": "1.4.0",
      "model_name": "SliderStyleModel",
      "state": {
       "description_width": ""
      }
     },
     "7fe2798d7129445398651abbc505457f": {
      "model_module": "@jupyter-widgets/controls",
      "model_module_version": "1.4.0",
      "model_name": "DropdownModel",
      "state": {
       "_options_labels": [
        "New York",
        "Utah",
        "Washington",
        "Illinois",
        "North Dakota",
        "Oklahoma",
        "New Mexico",
        "Arkansas",
        "New Hampshire",
        "California",
        "Montana",
        "Iowa",
        "Wyoming",
        "Minnesota",
        "Rhode Island",
        "Florida",
        "Louisiana",
        "Colorado",
        "Alabama",
        "Massachusetts",
        "Idaho",
        "Arizona",
        "Wisconsin",
        "Nevada",
        "Oregon",
        "South Dakota",
        "Maryland",
        "South Carolina",
        "Michigan",
        "Indiana",
        "Tennessee",
        "Connecticut",
        "Virginia",
        "Nebraska",
        "National",
        "West Virginia",
        "Hawaii",
        "Delaware",
        "Pennsylvania",
        "Vermont",
        "District of Columbia",
        "Maine",
        "New Jersey",
        "Kansas",
        "Georgia",
        "Missouri",
        "Texas",
        "Kentucky",
        "Ohio",
        "Alaska",
        "North Carolina",
        "Mississippi"
       ],
       "description": "location",
       "index": 0,
       "layout": "IPY_MODEL_5c624d19c07f4595a2f9f6142b7767bb",
       "style": "IPY_MODEL_b470396b38434c279ac4134ca0e71377"
      }
     },
     "803bbbf8a48e47d789c2eebe71f7dd19": {
      "model_module": "@jupyter-widgets/controls",
      "model_module_version": "1.4.0",
      "model_name": "VBoxModel",
      "state": {
       "_dom_classes": [
        "widget-interact"
       ],
       "children": [
        "IPY_MODEL_c1682e468e784001933d8973195a2908",
        "IPY_MODEL_9677487a95c040c39271022c53ded599"
       ],
       "layout": "IPY_MODEL_63bd82b37a3e4acaaddadc16d0febdda"
      }
     },
     "82347dc119eb4bb580556cdc5c2b1f15": {
      "model_module": "@jupyter-widgets/controls",
      "model_module_version": "1.4.0",
      "model_name": "DropdownModel",
      "state": {
       "_options_labels": [
        "Stroke, hemorrhagic",
        "Total for all causes",
        "Poisoning (not alcohol)",
        "Cholelithiases",
        "Liver cancer",
        "Motor-vehicle nontraffic crashes",
        "Subtotal all causes",
        "Prostate cancer (males only)",
        "Chronic hepatitis",
        "Alcohol abuse",
        "Alcohol poisoning",
        "Ischemic heart disease",
        "Water transport",
        "Oropharyngeal cancer",
        "Liver cirrhosis, unspecified",
        "Firearm injuries",
        "Spontaneous abortion (females only)",
        "Child maltreatment",
        "Supraventricular cardiac dysrhythmia",
        "Esophageal cancer",
        "Suicide",
        "Gastroesophageal hemorrhage",
        "Other road vehicle crashes",
        "Air-space transport",
        "Motor-vehicle traffic crashes",
        "Alcoholic gastritis",
        "Aspiration",
        "Alcohol dependence syndrome",
        "Low birth weight, prematurity, IUGR, death",
        "Psoriasis",
        "Breast cancer (females only)",
        "Acute pancreatitis",
        "Homicide",
        "Stroke, ischemic",
        "Alcohol-induced chronic pancreatitis",
        "Alcohol polyneuropathy",
        "Laryngeal cancer",
        "Fall injuries",
        "Drowning",
        "Portal hypertension",
        "Chronic pancreatitis",
        "Alcohol cardiomyopathy",
        "Alcoholic liver disease",
        "Degeneration of nervous system due to alcohol",
        "Hypertension",
        "Occupational and machine injuries",
        "Epilepsy",
        "Hypothermia",
        "Esophageal varices",
        "Alcoholic psychosis",
        "Excessive blood alcohol level",
        "Fetal alcohol syndrome",
        "Fire injuries",
        "Fetus and newborn affected by maternal use of alcohol",
        "Suicide by and exposure to alcohol",
        "Alcoholic myopathy"
       ],
       "description": "condition",
       "index": 0,
       "layout": "IPY_MODEL_0b4b6be414244d2188629e348518f385",
       "style": "IPY_MODEL_8f30b5f2b4544fc2873e4a2af6cb4997"
      }
     },
     "82924ace88b249e7b3e49a04ba646ab9": {
      "model_module": "@jupyter-widgets/base",
      "model_module_version": "1.1.0",
      "model_name": "LayoutModel",
      "state": {}
     },
     "831fd214aa684a2a8df0043ed9682944": {
      "model_module": "@jupyter-widgets/base",
      "model_module_version": "1.1.0",
      "model_name": "LayoutModel",
      "state": {}
     },
     "83baa032ce1b490687e03ba9eba1ace3": {
      "model_module": "@jupyter-widgets/base",
      "model_module_version": "1.1.0",
      "model_name": "LayoutModel",
      "state": {}
     },
     "83f173656f77413c951795a337f007c0": {
      "model_module": "@jupyter-widgets/controls",
      "model_module_version": "1.4.0",
      "model_name": "DropdownModel",
      "state": {
       "_options_labels": [
        "Stroke, hemorrhagic",
        "Total for all causes",
        "Poisoning (not alcohol)",
        "Cholelithiases",
        "Liver cancer",
        "Motor-vehicle nontraffic crashes",
        "Subtotal all causes",
        "Prostate cancer (males only)",
        "Chronic hepatitis",
        "Alcohol abuse",
        "Alcohol poisoning",
        "Ischemic heart disease",
        "Water transport",
        "Oropharyngeal cancer",
        "Liver cirrhosis, unspecified",
        "Firearm injuries",
        "Spontaneous abortion (females only)",
        "Child maltreatment",
        "Supraventricular cardiac dysrhythmia",
        "Esophageal cancer",
        "Suicide",
        "Gastroesophageal hemorrhage",
        "Other road vehicle crashes",
        "Air-space transport",
        "Motor-vehicle traffic crashes",
        "Alcoholic gastritis",
        "Aspiration",
        "Alcohol dependence syndrome",
        "Low birth weight, prematurity, IUGR, death",
        "Psoriasis",
        "Breast cancer (females only)",
        "Acute pancreatitis",
        "Homicide",
        "Stroke, ischemic",
        "Alcohol-induced chronic pancreatitis",
        "Alcohol polyneuropathy",
        "Laryngeal cancer",
        "Fall injuries",
        "Drowning",
        "Portal hypertension",
        "Chronic pancreatitis",
        "Alcohol cardiomyopathy",
        "Alcoholic liver disease",
        "Degeneration of nervous system due to alcohol",
        "Hypertension",
        "Occupational and machine injuries",
        "Epilepsy",
        "Hypothermia",
        "Esophageal varices",
        "Alcoholic psychosis",
        "Excessive blood alcohol level",
        "Fetal alcohol syndrome",
        "Fire injuries",
        "Fetus and newborn affected by maternal use of alcohol",
        "Suicide by and exposure to alcohol",
        "Alcoholic myopathy"
       ],
       "description": "condition",
       "index": 0,
       "layout": "IPY_MODEL_23f8ba5409fa4446830be4789239405d",
       "style": "IPY_MODEL_c5bc5b7d44e0428a8f0f58b1d6dc115e"
      }
     },
     "844acb4e8a6c466f8f6c324778c2df33": {
      "model_module": "@jupyter-widgets/base",
      "model_module_version": "1.1.0",
      "model_name": "LayoutModel",
      "state": {}
     },
     "85309445d6574a9d81ae0446697da9aa": {
      "model_module": "@jupyter-widgets/controls",
      "model_module_version": "1.4.0",
      "model_name": "IntSliderModel",
      "state": {
       "description": "x",
       "layout": "IPY_MODEL_e38326796b6d4b6e9281e7d659acddab",
       "max": 30,
       "min": -10,
       "step": 5,
       "style": "IPY_MODEL_41aeb5c9b39e46d7b3cf36f87adea892",
       "value": 10
      }
     },
     "866e28e22d374bd2a6efafef48d4beee": {
      "model_module": "@jupyter-widgets/controls",
      "model_module_version": "1.4.0",
      "model_name": "VBoxModel",
      "state": {
       "_dom_classes": [
        "widget-interact"
       ],
       "children": [
        "IPY_MODEL_85309445d6574a9d81ae0446697da9aa",
        "IPY_MODEL_353addb5d75542078b4457b88835947b"
       ],
       "layout": "IPY_MODEL_e7d175d88e75417eac84619011e011f5"
      }
     },
     "873e5b1541de403f9f2cd3e6c6e58910": {
      "model_module": "@jupyter-widgets/controls",
      "model_module_version": "1.4.0",
      "model_name": "DescriptionStyleModel",
      "state": {
       "description_width": ""
      }
     },
     "8914b5fcaa8f41b192608ddd4e3d2998": {
      "model_module": "@jupyter-widgets/base",
      "model_module_version": "1.1.0",
      "model_name": "LayoutModel",
      "state": {}
     },
     "898c3831745d43a3a8c07a978861b8b1": {
      "model_module": "@jupyter-widgets/controls",
      "model_module_version": "1.4.0",
      "model_name": "DescriptionStyleModel",
      "state": {
       "description_width": ""
      }
     },
     "8aca6fd5e82446ecaa9e49e3d65eba5f": {
      "model_module": "@jupyter-widgets/controls",
      "model_module_version": "1.4.0",
      "model_name": "DropdownModel",
      "state": {
       "_options_labels": [
        "New York",
        "Utah",
        "Washington",
        "Illinois",
        "North Dakota",
        "Oklahoma",
        "New Mexico",
        "Arkansas",
        "New Hampshire",
        "California",
        "Montana",
        "Iowa",
        "Wyoming",
        "Minnesota",
        "Rhode Island",
        "Florida",
        "Louisiana",
        "Colorado",
        "Alabama",
        "Massachusetts",
        "Idaho",
        "Arizona",
        "Wisconsin",
        "Nevada",
        "Oregon",
        "South Dakota",
        "Maryland",
        "South Carolina",
        "Michigan",
        "Indiana",
        "Tennessee",
        "Connecticut",
        "Virginia",
        "Nebraska",
        "National",
        "West Virginia",
        "Hawaii",
        "Delaware",
        "Pennsylvania",
        "Vermont",
        "District of Columbia",
        "Maine",
        "New Jersey",
        "Kansas",
        "Georgia",
        "Missouri",
        "Texas",
        "Kentucky",
        "Ohio",
        "Alaska",
        "North Carolina",
        "Mississippi"
       ],
       "description": "x",
       "index": 0,
       "layout": "IPY_MODEL_8c087f879263424facc3bdceba775309",
       "style": "IPY_MODEL_9341a58f5a304a96a9f1e01fd2b8f74a"
      }
     },
     "8b7bf5ad742b485e846bdff312d3c39b": {
      "model_module": "@jupyter-widgets/controls",
      "model_module_version": "1.4.0",
      "model_name": "DescriptionStyleModel",
      "state": {
       "description_width": ""
      }
     },
     "8b8e64a5226d4696814cea7a738319cc": {
      "model_module": "@jupyter-widgets/controls",
      "model_module_version": "1.4.0",
      "model_name": "VBoxModel",
      "state": {
       "_dom_classes": [
        "widget-interact"
       ],
       "children": [
        "IPY_MODEL_7fe2798d7129445398651abbc505457f",
        "IPY_MODEL_82347dc119eb4bb580556cdc5c2b1f15",
        "IPY_MODEL_3a391c1a3e554c8ea7b5678d364a0ae0",
        "IPY_MODEL_5e7e76e69a95459cb97d93d9c0d77770"
       ],
       "layout": "IPY_MODEL_4a00e237439143868e9d20ae1f9e0430"
      }
     },
     "8bcbe974c0bf4be3bc1fd015f7f93606": {
      "model_module": "@jupyter-widgets/base",
      "model_module_version": "1.1.0",
      "model_name": "LayoutModel",
      "state": {}
     },
     "8be2fb0fca104ff794c8625e129a95a1": {
      "model_module": "@jupyter-widgets/base",
      "model_module_version": "1.1.0",
      "model_name": "LayoutModel",
      "state": {}
     },
     "8c087f879263424facc3bdceba775309": {
      "model_module": "@jupyter-widgets/base",
      "model_module_version": "1.1.0",
      "model_name": "LayoutModel",
      "state": {}
     },
     "8d82955fc37847a7808ae7f95e420e9b": {
      "model_module": "@jupyter-widgets/controls",
      "model_module_version": "1.4.0",
      "model_name": "DropdownModel",
      "state": {
       "_options_labels": [
        "New York",
        "Utah",
        "Washington",
        "Illinois",
        "North Dakota",
        "Oklahoma",
        "New Mexico",
        "Arkansas",
        "New Hampshire",
        "California",
        "Montana",
        "Iowa",
        "Wyoming",
        "Minnesota",
        "Rhode Island",
        "Florida",
        "Louisiana",
        "Colorado",
        "Alabama",
        "Massachusetts",
        "Idaho",
        "Arizona",
        "Wisconsin",
        "Nevada",
        "Oregon",
        "South Dakota",
        "Maryland",
        "South Carolina",
        "Michigan",
        "Indiana",
        "Tennessee",
        "Connecticut",
        "Virginia",
        "Nebraska",
        "National",
        "West Virginia",
        "Hawaii",
        "Delaware",
        "Pennsylvania",
        "Vermont",
        "District of Columbia",
        "Maine",
        "New Jersey",
        "Kansas",
        "Georgia",
        "Missouri",
        "Texas",
        "Kentucky",
        "Ohio",
        "Alaska",
        "North Carolina",
        "Mississippi"
       ],
       "description": "location",
       "index": 0,
       "layout": "IPY_MODEL_60147e4b70a745e4a7d96ae9bb9ce3f9",
       "style": "IPY_MODEL_9e87ad58f687471b905b9894b914ea0c"
      }
     },
     "8f30b5f2b4544fc2873e4a2af6cb4997": {
      "model_module": "@jupyter-widgets/controls",
      "model_module_version": "1.4.0",
      "model_name": "DescriptionStyleModel",
      "state": {
       "description_width": ""
      }
     },
     "8f6f4a5d65164cc58da93f0e11b47b05": {
      "model_module": "@jupyter-widgets/controls",
      "model_module_version": "1.4.0",
      "model_name": "VBoxModel",
      "state": {
       "_dom_classes": [
        "widget-interact"
       ],
       "children": [
        "IPY_MODEL_bc239d383f3f4fd4a8d291d39700d886",
        "IPY_MODEL_25ceb13aac864054b094f161c4769c1f"
       ],
       "layout": "IPY_MODEL_bb3292a38a22443392794c919457ec47"
      }
     },
     "8f9af4b6e31a423791ab669e4c2f822e": {
      "model_module": "@jupyter-widgets/controls",
      "model_module_version": "1.4.0",
      "model_name": "DropdownModel",
      "state": {
       "_options_labels": [
        "orange",
        "apple"
       ],
       "description": "x",
       "index": 0,
       "layout": "IPY_MODEL_1f5d5b852d7d475cb41c5eade29b3246",
       "style": "IPY_MODEL_9c2bb7bde8564a8294b3cc03b9bf0a3e"
      }
     },
     "8fb88b296e8c4c9ba8f193aa4d0b0b28": {
      "model_module": "@jupyter-widgets/base",
      "model_module_version": "1.1.0",
      "model_name": "LayoutModel",
      "state": {}
     },
     "90f8ddd61330458392359704dfa945cf": {
      "model_module": "@jupyter-widgets/output",
      "model_module_version": "1.0.0",
      "model_name": "OutputModel",
      "state": {
       "layout": "IPY_MODEL_9fc671b2d34c4a42a7c4f590220947f7"
      }
     },
     "928cb53fa77b4acfbc97bf96242f60dc": {
      "model_module": "@jupyter-widgets/base",
      "model_module_version": "1.1.0",
      "model_name": "LayoutModel",
      "state": {}
     },
     "9341a58f5a304a96a9f1e01fd2b8f74a": {
      "model_module": "@jupyter-widgets/controls",
      "model_module_version": "1.4.0",
      "model_name": "DescriptionStyleModel",
      "state": {
       "description_width": ""
      }
     },
     "93da26202e4846f886cf26fe9e3ea1e3": {
      "model_module": "@jupyter-widgets/base",
      "model_module_version": "1.1.0",
      "model_name": "LayoutModel",
      "state": {}
     },
     "941c2462a4424ea8b445876a21524642": {
      "model_module": "@jupyter-widgets/base",
      "model_module_version": "1.1.0",
      "model_name": "LayoutModel",
      "state": {}
     },
     "9497970a1b9e4ae99593e32183dd6bfb": {
      "model_module": "@jupyter-widgets/controls",
      "model_module_version": "1.4.0",
      "model_name": "DropdownModel",
      "state": {
       "_options_labels": [
        "orange",
        "apple"
       ],
       "description": "x",
       "index": 1,
       "layout": "IPY_MODEL_d4e4afe7b8334563881258aa3e85ca8e",
       "style": "IPY_MODEL_5fdfc6dd4e2a419cbd3ac1ac5215635c"
      }
     },
     "95517546be6744c68031c07b12bc021f": {
      "model_module": "@jupyter-widgets/output",
      "model_module_version": "1.0.0",
      "model_name": "OutputModel",
      "state": {
       "layout": "IPY_MODEL_d820bc0727724857832a1cb9add87c4d",
       "outputs": [
        {
         "data": {
          "text/plain": "'New Mexico'"
         },
         "metadata": {},
         "output_type": "display_data"
        }
       ]
      }
     },
     "95862a03821046858533dbf6b5846c44": {
      "model_module": "@jupyter-widgets/controls",
      "model_module_version": "1.4.0",
      "model_name": "IntSliderModel",
      "state": {
       "description": "b",
       "layout": "IPY_MODEL_f980d111d77a460d9df3916d23ca1e42",
       "max": 60,
       "min": -20,
       "style": "IPY_MODEL_5e3d4e3ad45c469482973f600fe90c64",
       "value": 52
      }
     },
     "962367947a224dfeb9ec6092b15f617a": {
      "model_module": "@jupyter-widgets/base",
      "model_module_version": "1.1.0",
      "model_name": "LayoutModel",
      "state": {}
     },
     "9677487a95c040c39271022c53ded599": {
      "model_module": "@jupyter-widgets/output",
      "model_module_version": "1.0.0",
      "model_name": "OutputModel",
      "state": {
       "layout": "IPY_MODEL_9c17b8798b8e4de98f68d3015e8569f2",
       "outputs": [
        {
         "data": {
          "text/plain": "'California'"
         },
         "metadata": {},
         "output_type": "display_data"
        }
       ]
      }
     },
     "967fc6dedb75482b9e3c96499ad7f32c": {
      "model_module": "@jupyter-widgets/controls",
      "model_module_version": "1.4.0",
      "model_name": "DescriptionStyleModel",
      "state": {
       "description_width": ""
      }
     },
     "968421f0c8f74e1585a3815b640af791": {
      "model_module": "@jupyter-widgets/controls",
      "model_module_version": "1.4.0",
      "model_name": "VBoxModel",
      "state": {
       "_dom_classes": [
        "widget-interact"
       ],
       "children": [
        "IPY_MODEL_dbcff6b82c95405daacb3ecd21063004",
        "IPY_MODEL_d92db64618144f749ed2a9359db6101f",
        "IPY_MODEL_05803c52c4de4f88bf4d4f168854e22a",
        "IPY_MODEL_f25ab9ad776048b983ef9e535c073919"
       ],
       "layout": "IPY_MODEL_5380a500d4c049ca85c6e91fbb7340c3"
      }
     },
     "96af2756e270417e8c09f6c066c1deb2": {
      "model_module": "@jupyter-widgets/controls",
      "model_module_version": "1.4.0",
      "model_name": "IntSliderModel",
      "state": {
       "description": "x",
       "layout": "IPY_MODEL_997cd113132a42ccb31ef97913628f30",
       "max": 30,
       "min": -10,
       "style": "IPY_MODEL_13f8c72bd8224957866a0c7ce905b923",
       "value": 22
      }
     },
     "97a89935c4a24e9e9bd728e4532ada1a": {
      "model_module": "@jupyter-widgets/controls",
      "model_module_version": "1.4.0",
      "model_name": "SliderStyleModel",
      "state": {
       "description_width": ""
      }
     },
     "97dd9c3aa22743da835aba856d6f6075": {
      "model_module": "@jupyter-widgets/controls",
      "model_module_version": "1.4.0",
      "model_name": "VBoxModel",
      "state": {
       "_dom_classes": [
        "widget-interact"
       ],
       "children": [
        "IPY_MODEL_4a2f1aa013924b578db2209cb4091cfc",
        "IPY_MODEL_f9cd337b39804a0e8cacb411d9038f4e"
       ],
       "layout": "IPY_MODEL_962367947a224dfeb9ec6092b15f617a"
      }
     },
     "985622efec2a4c04815e1fa5ae10e40c": {
      "model_module": "@jupyter-widgets/controls",
      "model_module_version": "1.4.0",
      "model_name": "VBoxModel",
      "state": {
       "_dom_classes": [
        "widget-interact"
       ],
       "children": [
        "IPY_MODEL_4536b68333814de381f71cf47504f052",
        "IPY_MODEL_3195928f82a442b49d342f816e39311b",
        "IPY_MODEL_17a6e0e46fab44d2a6d6a7673a0ba464",
        "IPY_MODEL_da5f4c5240d34503aa977dc074ef4141"
       ],
       "layout": "IPY_MODEL_4c809a6c562b42769d7f11c52529fe56"
      }
     },
     "990226eb7f9f468d837affc3b5fd0372": {
      "model_module": "@jupyter-widgets/controls",
      "model_module_version": "1.4.0",
      "model_name": "CheckboxModel",
      "state": {
       "description": "grid",
       "disabled": false,
       "layout": "IPY_MODEL_fb8f36c87427462cb4754771a996974c",
       "style": "IPY_MODEL_64f98e68d2bb4ee1992a8f1cba2a5266",
       "value": true
      }
     },
     "9974014a7fcb4415aee5e534ba2075c3": {
      "model_module": "@jupyter-widgets/controls",
      "model_module_version": "1.4.0",
      "model_name": "DropdownModel",
      "state": {
       "_options_labels": [
        "Stroke, hemorrhagic",
        "Total for all causes",
        "Poisoning (not alcohol)",
        "Cholelithiases",
        "Liver cancer",
        "Motor-vehicle nontraffic crashes",
        "Subtotal all causes",
        "Prostate cancer (males only)",
        "Chronic hepatitis",
        "Alcohol abuse",
        "Alcohol poisoning",
        "Ischemic heart disease",
        "Water transport",
        "Oropharyngeal cancer",
        "Liver cirrhosis, unspecified",
        "Firearm injuries",
        "Spontaneous abortion (females only)",
        "Child maltreatment",
        "Supraventricular cardiac dysrhythmia",
        "Esophageal cancer",
        "Suicide",
        "Gastroesophageal hemorrhage",
        "Other road vehicle crashes",
        "Air-space transport",
        "Motor-vehicle traffic crashes",
        "Alcoholic gastritis",
        "Aspiration",
        "Alcohol dependence syndrome",
        "Low birth weight, prematurity, IUGR, death",
        "Psoriasis",
        "Breast cancer (females only)",
        "Acute pancreatitis",
        "Homicide",
        "Stroke, ischemic",
        "Alcohol-induced chronic pancreatitis",
        "Alcohol polyneuropathy",
        "Laryngeal cancer",
        "Fall injuries",
        "Drowning",
        "Portal hypertension",
        "Chronic pancreatitis",
        "Alcohol cardiomyopathy",
        "Alcoholic liver disease",
        "Degeneration of nervous system due to alcohol",
        "Hypertension",
        "Occupational and machine injuries",
        "Epilepsy",
        "Hypothermia",
        "Esophageal varices",
        "Alcoholic psychosis",
        "Excessive blood alcohol level",
        "Fetal alcohol syndrome",
        "Fire injuries",
        "Fetus and newborn affected by maternal use of alcohol",
        "Suicide by and exposure to alcohol",
        "Alcoholic myopathy"
       ],
       "description": "condition",
       "index": 3,
       "layout": "IPY_MODEL_1a11ce3d458041179981cfefb40726ff",
       "style": "IPY_MODEL_be9095dc4a9e468bbb90db2ca9cb6b18"
      }
     },
     "997cd113132a42ccb31ef97913628f30": {
      "model_module": "@jupyter-widgets/base",
      "model_module_version": "1.1.0",
      "model_name": "LayoutModel",
      "state": {}
     },
     "99882669cc2c473ab8f7338578b5d962": {
      "model_module": "@jupyter-widgets/output",
      "model_module_version": "1.0.0",
      "model_name": "OutputModel",
      "state": {
       "layout": "IPY_MODEL_45f29cbf8a584481a5216af3af6a2252",
       "outputs": [
        {
         "data": {
          "text/plain": "'Motor-vehicle nontraffic crashes'"
         },
         "metadata": {},
         "output_type": "display_data"
        }
       ]
      }
     },
     "9a240b8c5fc342c1bcfe273a460e64e1": {
      "model_module": "@jupyter-widgets/base",
      "model_module_version": "1.1.0",
      "model_name": "LayoutModel",
      "state": {}
     },
     "9a84a5a005ec482b904ff42924138e1c": {
      "model_module": "@jupyter-widgets/controls",
      "model_module_version": "1.4.0",
      "model_name": "DropdownModel",
      "state": {
       "_options_labels": [
        "Stroke, hemorrhagic",
        "Total for all causes",
        "Poisoning (not alcohol)",
        "Cholelithiases",
        "Liver cancer",
        "Motor-vehicle nontraffic crashes",
        "Subtotal all causes",
        "Prostate cancer (males only)",
        "Chronic hepatitis",
        "Alcohol abuse",
        "Alcohol poisoning",
        "Ischemic heart disease",
        "Water transport",
        "Oropharyngeal cancer",
        "Liver cirrhosis, unspecified",
        "Firearm injuries",
        "Spontaneous abortion (females only)",
        "Child maltreatment",
        "Supraventricular cardiac dysrhythmia",
        "Esophageal cancer",
        "Suicide",
        "Gastroesophageal hemorrhage",
        "Other road vehicle crashes",
        "Air-space transport",
        "Motor-vehicle traffic crashes",
        "Alcoholic gastritis",
        "Aspiration",
        "Alcohol dependence syndrome",
        "Low birth weight, prematurity, IUGR, death",
        "Psoriasis",
        "Breast cancer (females only)",
        "Acute pancreatitis",
        "Homicide",
        "Stroke, ischemic",
        "Alcohol-induced chronic pancreatitis",
        "Alcohol polyneuropathy",
        "Laryngeal cancer",
        "Fall injuries",
        "Drowning",
        "Portal hypertension",
        "Chronic pancreatitis",
        "Alcohol cardiomyopathy",
        "Alcoholic liver disease",
        "Degeneration of nervous system due to alcohol",
        "Hypertension",
        "Occupational and machine injuries",
        "Epilepsy",
        "Hypothermia",
        "Esophageal varices",
        "Alcoholic psychosis",
        "Excessive blood alcohol level",
        "Fetal alcohol syndrome",
        "Fire injuries",
        "Fetus and newborn affected by maternal use of alcohol",
        "Suicide by and exposure to alcohol",
        "Alcoholic myopathy"
       ],
       "description": "x",
       "index": 0,
       "layout": "IPY_MODEL_08761b2652a84ad7b313d2eeb5975375",
       "style": "IPY_MODEL_4c7b4e1acf7441e7a113273fe4139829"
      }
     },
     "9aa86f1f6bcf48889735f86f68a2650d": {
      "model_module": "@jupyter-widgets/base",
      "model_module_version": "1.1.0",
      "model_name": "LayoutModel",
      "state": {}
     },
     "9b60c681dc6c4e268d5feef46b4e4177": {
      "model_module": "@jupyter-widgets/controls",
      "model_module_version": "1.4.0",
      "model_name": "SliderStyleModel",
      "state": {
       "description_width": ""
      }
     },
     "9b61e18e2d7b48fd8831bfb9af40755e": {
      "model_module": "@jupyter-widgets/base",
      "model_module_version": "1.1.0",
      "model_name": "LayoutModel",
      "state": {}
     },
     "9b7895ef9c9c4d15bdbd7863947f2e02": {
      "model_module": "@jupyter-widgets/controls",
      "model_module_version": "1.4.0",
      "model_name": "IntSliderModel",
      "state": {
       "description": "a",
       "layout": "IPY_MODEL_d61943400f524e19a8fce13171281ae1",
       "max": 30,
       "min": -10,
       "style": "IPY_MODEL_d54dd134785c4be880b447e8f63ab6e2",
       "value": 10
      }
     },
     "9b95a2cc8a3540218f7dce2d358468bc": {
      "model_module": "@jupyter-widgets/controls",
      "model_module_version": "1.4.0",
      "model_name": "ButtonModel",
      "state": {
       "description": "Run Interact",
       "layout": "IPY_MODEL_3005a9fee94b4ee1bbaf2a4bc3518705",
       "style": "IPY_MODEL_1c13ae8f8f1f4b3f8c0df1e8b1ebaa76"
      }
     },
     "9b9c3bc7f6a042939c2b7a42ce8b2e5c": {
      "model_module": "@jupyter-widgets/base",
      "model_module_version": "1.1.0",
      "model_name": "LayoutModel",
      "state": {}
     },
     "9c17b8798b8e4de98f68d3015e8569f2": {
      "model_module": "@jupyter-widgets/base",
      "model_module_version": "1.1.0",
      "model_name": "LayoutModel",
      "state": {}
     },
     "9c2bb7bde8564a8294b3cc03b9bf0a3e": {
      "model_module": "@jupyter-widgets/controls",
      "model_module_version": "1.4.0",
      "model_name": "DescriptionStyleModel",
      "state": {
       "description_width": ""
      }
     },
     "9c563b9c17c341ae8f48090a3349681d": {
      "model_module": "@jupyter-widgets/base",
      "model_module_version": "1.1.0",
      "model_name": "LayoutModel",
      "state": {}
     },
     "9e2f827ea6024ff1a69910cf945392e4": {
      "model_module": "@jupyter-widgets/controls",
      "model_module_version": "1.4.0",
      "model_name": "DropdownModel",
      "state": {
       "_options_labels": [
        "New York",
        "Utah",
        "Washington",
        "Illinois",
        "North Dakota",
        "Oklahoma",
        "New Mexico",
        "Arkansas",
        "New Hampshire",
        "California",
        "Montana",
        "Iowa",
        "Wyoming",
        "Minnesota",
        "Rhode Island",
        "Florida",
        "Louisiana",
        "Colorado",
        "Alabama",
        "Massachusetts",
        "Idaho",
        "Arizona",
        "Wisconsin",
        "Nevada",
        "Oregon",
        "South Dakota",
        "Maryland",
        "South Carolina",
        "Michigan",
        "Indiana",
        "Tennessee",
        "Connecticut",
        "Virginia",
        "Nebraska",
        "National",
        "West Virginia",
        "Hawaii",
        "Delaware",
        "Pennsylvania",
        "Vermont",
        "District of Columbia",
        "Maine",
        "New Jersey",
        "Kansas",
        "Georgia",
        "Missouri",
        "Texas",
        "Kentucky",
        "Ohio",
        "Alaska",
        "North Carolina",
        "Mississippi"
       ],
       "description": "Locations",
       "index": 0,
       "layout": "IPY_MODEL_415f421d7c8a4657bee575eec5cf7bf2",
       "style": "IPY_MODEL_ca219aa752bb48f28c15f766b30a049b"
      }
     },
     "9e87ad58f687471b905b9894b914ea0c": {
      "model_module": "@jupyter-widgets/controls",
      "model_module_version": "1.4.0",
      "model_name": "DescriptionStyleModel",
      "state": {
       "description_width": ""
      }
     },
     "9f492e3af6d4417196a915a59039a468": {
      "model_module": "@jupyter-widgets/base",
      "model_module_version": "1.1.0",
      "model_name": "LayoutModel",
      "state": {}
     },
     "9fc671b2d34c4a42a7c4f590220947f7": {
      "model_module": "@jupyter-widgets/base",
      "model_module_version": "1.1.0",
      "model_name": "LayoutModel",
      "state": {}
     },
     "9fc76fbad6c943cba2b1f73c1cbaa205": {
      "model_module": "@jupyter-widgets/controls",
      "model_module_version": "1.4.0",
      "model_name": "DropdownModel",
      "state": {
       "_options_labels": [
        "New York",
        "Utah",
        "Washington",
        "Illinois",
        "North Dakota",
        "Oklahoma",
        "New Mexico",
        "Arkansas",
        "New Hampshire",
        "California",
        "Montana",
        "Iowa",
        "Wyoming",
        "Minnesota",
        "Rhode Island",
        "Florida",
        "Louisiana",
        "Colorado",
        "Alabama",
        "Massachusetts",
        "Idaho",
        "Arizona",
        "Wisconsin",
        "Nevada",
        "Oregon",
        "South Dakota",
        "Maryland",
        "South Carolina",
        "Michigan",
        "Indiana",
        "Tennessee",
        "Connecticut",
        "Virginia",
        "Nebraska",
        "National",
        "West Virginia",
        "Hawaii",
        "Delaware",
        "Pennsylvania",
        "Vermont",
        "District of Columbia",
        "Maine",
        "New Jersey",
        "Kansas",
        "Georgia",
        "Missouri",
        "Texas",
        "Kentucky",
        "Ohio",
        "Alaska",
        "North Carolina",
        "Mississippi"
       ],
       "description": "x",
       "index": 0,
       "layout": "IPY_MODEL_928cb53fa77b4acfbc97bf96242f60dc",
       "style": "IPY_MODEL_0c2197056e4448b2899e722e759be706"
      }
     },
     "a090b9897c5745ddb06b1621493e53b2": {
      "model_module": "@jupyter-widgets/base",
      "model_module_version": "1.1.0",
      "model_name": "LayoutModel",
      "state": {}
     },
     "a26145c7eb1142b9b1fd1015efc1af8e": {
      "model_module": "@jupyter-widgets/controls",
      "model_module_version": "1.4.0",
      "model_name": "IntSliderModel",
      "state": {
       "description": "b",
       "layout": "IPY_MODEL_66ff433570ce4d1db705ec0265dc30d4",
       "max": 60,
       "min": -20,
       "style": "IPY_MODEL_dbbb90e269ef4c90ac94adf4b60fadfd",
       "value": 20
      }
     },
     "a3502f056ee2482bb9340e7a62c26ee7": {
      "model_module": "@jupyter-widgets/controls",
      "model_module_version": "1.4.0",
      "model_name": "DropdownModel",
      "state": {
       "_options_labels": [
        "New York",
        "Utah",
        "Washington",
        "Illinois",
        "North Dakota",
        "Oklahoma",
        "New Mexico",
        "Arkansas",
        "New Hampshire",
        "California",
        "Montana",
        "Iowa",
        "Wyoming",
        "Minnesota",
        "Rhode Island",
        "Florida",
        "Louisiana",
        "Colorado",
        "Alabama",
        "Massachusetts",
        "Idaho",
        "Arizona",
        "Wisconsin",
        "Nevada",
        "Oregon",
        "South Dakota",
        "Maryland",
        "South Carolina",
        "Michigan",
        "Indiana",
        "Tennessee",
        "Connecticut",
        "Virginia",
        "Nebraska",
        "National",
        "West Virginia",
        "Hawaii",
        "Delaware",
        "Pennsylvania",
        "Vermont",
        "District of Columbia",
        "Maine",
        "New Jersey",
        "Kansas",
        "Georgia",
        "Missouri",
        "Texas",
        "Kentucky",
        "Ohio",
        "Alaska",
        "North Carolina",
        "Mississippi"
       ],
       "description": "x",
       "index": 0,
       "layout": "IPY_MODEL_b32fb5a7c81c4b6f9d04bbdf7bf388a1",
       "style": "IPY_MODEL_967fc6dedb75482b9e3c96499ad7f32c"
      }
     },
     "a36d3f0f030845f493e783f1054792af": {
      "model_module": "@jupyter-widgets/base",
      "model_module_version": "1.1.0",
      "model_name": "LayoutModel",
      "state": {}
     },
     "a36f89f8e7d146d59d4f710cebb89777": {
      "model_module": "@jupyter-widgets/controls",
      "model_module_version": "1.4.0",
      "model_name": "DropdownModel",
      "state": {
       "_options_labels": [
        "Stroke, hemorrhagic",
        "Total for all causes",
        "Poisoning (not alcohol)",
        "Cholelithiases",
        "Liver cancer",
        "Motor-vehicle nontraffic crashes",
        "Subtotal all causes",
        "Prostate cancer (males only)",
        "Chronic hepatitis",
        "Alcohol abuse",
        "Alcohol poisoning",
        "Ischemic heart disease",
        "Water transport",
        "Oropharyngeal cancer",
        "Liver cirrhosis, unspecified",
        "Firearm injuries",
        "Spontaneous abortion (females only)",
        "Child maltreatment",
        "Supraventricular cardiac dysrhythmia",
        "Esophageal cancer",
        "Suicide",
        "Gastroesophageal hemorrhage",
        "Other road vehicle crashes",
        "Air-space transport",
        "Motor-vehicle traffic crashes",
        "Alcoholic gastritis",
        "Aspiration",
        "Alcohol dependence syndrome",
        "Low birth weight, prematurity, IUGR, death",
        "Psoriasis",
        "Breast cancer (females only)",
        "Acute pancreatitis",
        "Homicide",
        "Stroke, ischemic",
        "Alcohol-induced chronic pancreatitis",
        "Alcohol polyneuropathy",
        "Laryngeal cancer",
        "Fall injuries",
        "Drowning",
        "Portal hypertension",
        "Chronic pancreatitis",
        "Alcohol cardiomyopathy",
        "Alcoholic liver disease",
        "Degeneration of nervous system due to alcohol",
        "Hypertension",
        "Occupational and machine injuries",
        "Epilepsy",
        "Hypothermia",
        "Esophageal varices",
        "Alcoholic psychosis",
        "Excessive blood alcohol level",
        "Fetal alcohol syndrome",
        "Fire injuries",
        "Fetus and newborn affected by maternal use of alcohol",
        "Suicide by and exposure to alcohol",
        "Alcoholic myopathy"
       ],
       "description": "condition",
       "index": 0,
       "layout": "IPY_MODEL_e53c259e58434ea8b7329a74a5ae2e3f",
       "style": "IPY_MODEL_5b4f12a8ad994d5682797808c22dee4c"
      }
     },
     "a37d37a6301748eca23c5eb382d074e3": {
      "model_module": "@jupyter-widgets/controls",
      "model_module_version": "1.4.0",
      "model_name": "VBoxModel",
      "state": {
       "_dom_classes": [
        "widget-interact"
       ],
       "children": [
        "IPY_MODEL_72fdd6d310f04fcb86ea8aaf3a2de904",
        "IPY_MODEL_bccb9c1be9d64eba820478db1d326e8f",
        "IPY_MODEL_b7441033061c454fb2b632d50a3f2f8f",
        "IPY_MODEL_fabc44eeb23b4dc28f7d18e23332a298"
       ],
       "layout": "IPY_MODEL_c3880c54001342928ba8d4eb9e742ef5"
      }
     },
     "a6c2a4a88f7b4781a5ae3cb177d5f130": {
      "model_module": "@jupyter-widgets/controls",
      "model_module_version": "1.4.0",
      "model_name": "DescriptionStyleModel",
      "state": {
       "description_width": ""
      }
     },
     "a6e376583ee14749a918a7de7b98ada9": {
      "model_module": "@jupyter-widgets/output",
      "model_module_version": "1.0.0",
      "model_name": "OutputModel",
      "state": {
       "layout": "IPY_MODEL_37fb6db1601f4f5db3fa41e4fb6d05dc",
       "outputs": [
        {
         "data": {
          "text/plain": "'apple'"
         },
         "metadata": {},
         "output_type": "display_data"
        }
       ]
      }
     },
     "a7cd54aeb1ef4a3aa81acf03712f28c4": {
      "model_module": "@jupyter-widgets/base",
      "model_module_version": "1.1.0",
      "model_name": "LayoutModel",
      "state": {}
     },
     "a8c809ffd1204223a2c065d138d09ca1": {
      "model_module": "@jupyter-widgets/controls",
      "model_module_version": "1.4.0",
      "model_name": "DescriptionStyleModel",
      "state": {
       "description_width": ""
      }
     },
     "a9265cc3f17f498eb4dd2c7baf71ebbf": {
      "model_module": "@jupyter-widgets/base",
      "model_module_version": "1.1.0",
      "model_name": "LayoutModel",
      "state": {}
     },
     "a93308e383ca42249999eefe2fd02deb": {
      "model_module": "@jupyter-widgets/controls",
      "model_module_version": "1.4.0",
      "model_name": "DescriptionStyleModel",
      "state": {
       "description_width": ""
      }
     },
     "a98f282d32a349edb740c11e263f19f6": {
      "model_module": "@jupyter-widgets/base",
      "model_module_version": "1.1.0",
      "model_name": "LayoutModel",
      "state": {}
     },
     "a991850397224655bc8cf4b5feaeee95": {
      "model_module": "@jupyter-widgets/output",
      "model_module_version": "1.0.0",
      "model_name": "OutputModel",
      "state": {
       "layout": "IPY_MODEL_f1631eab03f24a5e8e91a2118606b30a",
       "outputs": [
        {
         "data": {
          "text/plain": "'Stroke, hemorrhagic'"
         },
         "metadata": {},
         "output_type": "display_data"
        }
       ]
      }
     },
     "a9cac6fa4b944e02b0da588a39dceeee": {
      "model_module": "@jupyter-widgets/controls",
      "model_module_version": "1.4.0",
      "model_name": "DescriptionStyleModel",
      "state": {
       "description_width": ""
      }
     },
     "aa226bcaaa544b268c1f783105352abe": {
      "model_module": "@jupyter-widgets/controls",
      "model_module_version": "1.4.0",
      "model_name": "ButtonModel",
      "state": {
       "description": "Run Interact",
       "layout": "IPY_MODEL_8bcbe974c0bf4be3bc1fd015f7f93606",
       "style": "IPY_MODEL_ef0f93397f464a8f97c03f3a7bf58f17"
      }
     },
     "aab1ba9e144f4fb6b18702a06636af3a": {
      "model_module": "@jupyter-widgets/controls",
      "model_module_version": "1.4.0",
      "model_name": "DescriptionStyleModel",
      "state": {
       "description_width": ""
      }
     },
     "ab2a8cce14d64544a5043f339a015703": {
      "model_module": "@jupyter-widgets/output",
      "model_module_version": "1.0.0",
      "model_name": "OutputModel",
      "state": {
       "layout": "IPY_MODEL_f586d2a535f543b09556ad7939e8c620",
       "outputs": [
        {
         "data": {
          "text/plain": "22"
         },
         "metadata": {},
         "output_type": "display_data"
        }
       ]
      }
     },
     "ab8b56f676b9407a89f9b5417f6f06bd": {
      "model_module": "@jupyter-widgets/base",
      "model_module_version": "1.1.0",
      "model_name": "LayoutModel",
      "state": {}
     },
     "ac3b7bf8845b42d8a4f0b46e2c965325": {
      "model_module": "@jupyter-widgets/controls",
      "model_module_version": "1.4.0",
      "model_name": "DescriptionStyleModel",
      "state": {
       "description_width": ""
      }
     },
     "ac7ece8a1eb14547a4b53d92eea7ca79": {
      "model_module": "@jupyter-widgets/controls",
      "model_module_version": "1.4.0",
      "model_name": "DescriptionStyleModel",
      "state": {
       "description_width": ""
      }
     },
     "ac9a4f1bfbc346e898406ffa4ab07c67": {
      "model_module": "@jupyter-widgets/controls",
      "model_module_version": "1.4.0",
      "model_name": "ButtonStyleModel",
      "state": {}
     },
     "adc1decf9f534d108a2564f5849477e9": {
      "model_module": "@jupyter-widgets/controls",
      "model_module_version": "1.4.0",
      "model_name": "VBoxModel",
      "state": {
       "_dom_classes": [
        "widget-interact"
       ],
       "children": [
        "IPY_MODEL_b546bf8a9fcd4108b6fb409b98e1420d",
        "IPY_MODEL_95862a03821046858533dbf6b5846c44",
        "IPY_MODEL_f8b161039f3a42d591d10b93dff313ea"
       ],
       "layout": "IPY_MODEL_f32cba909dbc4fbd9f2675197ac99bec"
      }
     },
     "ae2ef044731c4d2ca37f817c3825d8fb": {
      "model_module": "@jupyter-widgets/base",
      "model_module_version": "1.1.0",
      "model_name": "LayoutModel",
      "state": {}
     },
     "af9b161ff6b84832aae19e69eaeaf8b2": {
      "model_module": "@jupyter-widgets/base",
      "model_module_version": "1.1.0",
      "model_name": "LayoutModel",
      "state": {}
     },
     "b2558cd725b4428ea920e18c6afa513b": {
      "model_module": "@jupyter-widgets/base",
      "model_module_version": "1.1.0",
      "model_name": "LayoutModel",
      "state": {}
     },
     "b2a31909e23b413cb31f3ed365629b30": {
      "model_module": "@jupyter-widgets/controls",
      "model_module_version": "1.4.0",
      "model_name": "DropdownModel",
      "state": {
       "_options_labels": [
        "Stroke, hemorrhagic",
        "Total for all causes",
        "Poisoning (not alcohol)",
        "Cholelithiases",
        "Liver cancer",
        "Motor-vehicle nontraffic crashes",
        "Subtotal all causes",
        "Prostate cancer (males only)",
        "Chronic hepatitis",
        "Alcohol abuse",
        "Alcohol poisoning",
        "Ischemic heart disease",
        "Water transport",
        "Oropharyngeal cancer",
        "Liver cirrhosis, unspecified",
        "Firearm injuries",
        "Spontaneous abortion (females only)",
        "Child maltreatment",
        "Supraventricular cardiac dysrhythmia",
        "Esophageal cancer",
        "Suicide",
        "Gastroesophageal hemorrhage",
        "Other road vehicle crashes",
        "Air-space transport",
        "Motor-vehicle traffic crashes",
        "Alcoholic gastritis",
        "Aspiration",
        "Alcohol dependence syndrome",
        "Low birth weight, prematurity, IUGR, death",
        "Psoriasis",
        "Breast cancer (females only)",
        "Acute pancreatitis",
        "Homicide",
        "Stroke, ischemic",
        "Alcohol-induced chronic pancreatitis",
        "Alcohol polyneuropathy",
        "Laryngeal cancer",
        "Fall injuries",
        "Drowning",
        "Portal hypertension",
        "Chronic pancreatitis",
        "Alcohol cardiomyopathy",
        "Alcoholic liver disease",
        "Degeneration of nervous system due to alcohol",
        "Hypertension",
        "Occupational and machine injuries",
        "Epilepsy",
        "Hypothermia",
        "Esophageal varices",
        "Alcoholic psychosis",
        "Excessive blood alcohol level",
        "Fetal alcohol syndrome",
        "Fire injuries",
        "Fetus and newborn affected by maternal use of alcohol",
        "Suicide by and exposure to alcohol",
        "Alcoholic myopathy"
       ],
       "description": "x",
       "index": 0,
       "layout": "IPY_MODEL_4e97f104abfa4a678ab158e41c1eb655",
       "style": "IPY_MODEL_d01654811bdc4a3ea0703565f10df2d9"
      }
     },
     "b2bd73132f8d48ef83831b3a84e20444": {
      "model_module": "@jupyter-widgets/controls",
      "model_module_version": "1.4.0",
      "model_name": "DropdownModel",
      "state": {
       "_options_labels": [
        "New York",
        "Utah",
        "Washington",
        "Illinois",
        "North Dakota",
        "Oklahoma",
        "New Mexico",
        "Arkansas",
        "New Hampshire",
        "California",
        "Montana",
        "Iowa",
        "Wyoming",
        "Minnesota",
        "Rhode Island",
        "Florida",
        "Louisiana",
        "Colorado",
        "Alabama",
        "Massachusetts",
        "Idaho",
        "Arizona",
        "Wisconsin",
        "Nevada",
        "Oregon",
        "South Dakota",
        "Maryland",
        "South Carolina",
        "Michigan",
        "Indiana",
        "Tennessee",
        "Connecticut",
        "Virginia",
        "Nebraska",
        "National",
        "West Virginia",
        "Hawaii",
        "Delaware",
        "Pennsylvania",
        "Vermont",
        "District of Columbia",
        "Maine",
        "New Jersey",
        "Kansas",
        "Georgia",
        "Missouri",
        "Texas",
        "Kentucky",
        "Ohio",
        "Alaska",
        "North Carolina",
        "Mississippi"
       ],
       "description": "x",
       "index": 0,
       "layout": "IPY_MODEL_16494ec7178148968957eabbcba8e953",
       "style": "IPY_MODEL_d639d900db6f47d2aa8c6068f54eb075"
      }
     },
     "b324c7d7892c41c3a71888c132dc339b": {
      "model_module": "@jupyter-widgets/base",
      "model_module_version": "1.1.0",
      "model_name": "LayoutModel",
      "state": {}
     },
     "b32fb5a7c81c4b6f9d04bbdf7bf388a1": {
      "model_module": "@jupyter-widgets/base",
      "model_module_version": "1.1.0",
      "model_name": "LayoutModel",
      "state": {}
     },
     "b404281e32e54d2ab304608a67610f75": {
      "model_module": "@jupyter-widgets/output",
      "model_module_version": "1.0.0",
      "model_name": "OutputModel",
      "state": {
       "layout": "IPY_MODEL_f52de981c4fd42b9887cbe5c01d125fb",
       "outputs": [
        {
         "data": {
          "text/plain": "'blue'"
         },
         "metadata": {},
         "output_type": "display_data"
        }
       ]
      }
     },
     "b44364f1a0594ea4bbd4840d5932ecc8": {
      "model_module": "@jupyter-widgets/output",
      "model_module_version": "1.0.0",
      "model_name": "OutputModel",
      "state": {
       "layout": "IPY_MODEL_e33caa313fc0451c8c2ecfb6d6b608b0",
       "outputs": [
        {
         "name": "stdout",
         "output_type": "stream",
         "text": "Location : New York\nCondition : Stroke, hemorrhagic\nData value unit : number of alcohol attributable deaths\nData value type : Annual Average\n        agegroup      sex  data_value_alt\n27576      35-49     Male             6.5\n28493        65+  Overall            54.6\n31312      20-34   Female             0.1\n34588      35-49   Female             0.9\n50947        65+     Male            44.5\n55623      20-34     Male             1.0\n62259      50-64     Male            14.8\n64092   All Ages  Overall            80.1\n68112      35-49  Overall             7.3\n74529      0-<21  Overall             0.1\n75975        65+   Female            10.1\n76517      50-64  Overall            17.0\n82782      20-34  Overall             1.1\n83520      50-64   Female             2.2\n103382  All Ages     Male            66.8\n103860  All Ages   Female            13.3\n***** pivot *****\nsex       Female  Male  Overall\nagegroup                       \n0-<21        NaN   NaN      0.1\n20-34        0.1   1.0      1.1\n35-49        0.9   6.5      7.3\n50-64        2.2  14.8     17.0\n65+         10.1  44.5     54.6\nAll Ages    13.3  66.8     80.1\n"
        },
        {
         "data": {
          "image/png": "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\n",
          "text/plain": "<Figure size 432x288 with 1 Axes>"
         },
         "metadata": {
          "needs_background": "light"
         },
         "output_type": "display_data"
        }
       ]
      }
     },
     "b470396b38434c279ac4134ca0e71377": {
      "model_module": "@jupyter-widgets/controls",
      "model_module_version": "1.4.0",
      "model_name": "DescriptionStyleModel",
      "state": {
       "description_width": ""
      }
     },
     "b4d8ce62a1a44be3a5275a4a7a8350e3": {
      "model_module": "@jupyter-widgets/base",
      "model_module_version": "1.1.0",
      "model_name": "LayoutModel",
      "state": {}
     },
     "b4f59438345a41c19566ec080e8d8f1c": {
      "model_module": "@jupyter-widgets/base",
      "model_module_version": "1.1.0",
      "model_name": "LayoutModel",
      "state": {}
     },
     "b54677e772f14dc5a09ff4e9e3adfa84": {
      "model_module": "@jupyter-widgets/controls",
      "model_module_version": "1.4.0",
      "model_name": "VBoxModel",
      "state": {
       "_dom_classes": [
        "widget-interact"
       ],
       "children": [
        "IPY_MODEL_0d03c2f84e2041c98ce19af9cf75c7c9",
        "IPY_MODEL_9974014a7fcb4415aee5e534ba2075c3",
        "IPY_MODEL_aa226bcaaa544b268c1f783105352abe",
        "IPY_MODEL_123665226a224418941d83df3b70edab"
       ],
       "layout": "IPY_MODEL_456aecba6b204c25ba8e5379426b22d6"
      }
     },
     "b546bf8a9fcd4108b6fb409b98e1420d": {
      "model_module": "@jupyter-widgets/controls",
      "model_module_version": "1.4.0",
      "model_name": "IntSliderModel",
      "state": {
       "description": "a",
       "layout": "IPY_MODEL_0add1e63738d4b68a6adcf5690b2ab74",
       "max": 30,
       "min": -10,
       "style": "IPY_MODEL_7fdf643294e94855ac5b0d08b8a063dc",
       "value": 21
      }
     },
     "b55129f8f1db4025a2841b94adc7b58a": {
      "model_module": "@jupyter-widgets/base",
      "model_module_version": "1.1.0",
      "model_name": "LayoutModel",
      "state": {}
     },
     "b5b7a57b12544bbfb2ed730972728c62": {
      "model_module": "@jupyter-widgets/controls",
      "model_module_version": "1.4.0",
      "model_name": "DescriptionStyleModel",
      "state": {
       "description_width": ""
      }
     },
     "b5c6f81ddac34e3b841dddc9e79f6f3a": {
      "model_module": "@jupyter-widgets/base",
      "model_module_version": "1.1.0",
      "model_name": "LayoutModel",
      "state": {}
     },
     "b69dcbfeb5b44672873791ed51fd7155": {
      "model_module": "@jupyter-widgets/base",
      "model_module_version": "1.1.0",
      "model_name": "LayoutModel",
      "state": {}
     },
     "b7441033061c454fb2b632d50a3f2f8f": {
      "model_module": "@jupyter-widgets/controls",
      "model_module_version": "1.4.0",
      "model_name": "ButtonModel",
      "state": {
       "description": "Run Interact",
       "layout": "IPY_MODEL_05fda82d6cd246298b235a2e6349c021",
       "style": "IPY_MODEL_ac9a4f1bfbc346e898406ffa4ab07c67"
      }
     },
     "bae8d23355da457c985b55ad3ba0b1f0": {
      "model_module": "@jupyter-widgets/controls",
      "model_module_version": "1.4.0",
      "model_name": "VBoxModel",
      "state": {
       "_dom_classes": [
        "widget-interact"
       ],
       "children": [
        "IPY_MODEL_7b6abfc61bea4fc4b32fdbf2c5911855",
        "IPY_MODEL_a36f89f8e7d146d59d4f710cebb89777",
        "IPY_MODEL_1410f73394454012a8c44b7815dbfa68",
        "IPY_MODEL_78a91d273e1b41bfbcf410b4a316bd50"
       ],
       "layout": "IPY_MODEL_693a56aec23c4660986a5bd6f0fdd2b4"
      }
     },
     "baef38d89efe4b23ac4217a984de55ec": {
      "model_module": "@jupyter-widgets/base",
      "model_module_version": "1.1.0",
      "model_name": "LayoutModel",
      "state": {}
     },
     "bb3292a38a22443392794c919457ec47": {
      "model_module": "@jupyter-widgets/base",
      "model_module_version": "1.1.0",
      "model_name": "LayoutModel",
      "state": {}
     },
     "bb61ff8a8f6a4f8995cd836cc943e89a": {
      "model_module": "@jupyter-widgets/controls",
      "model_module_version": "1.4.0",
      "model_name": "DescriptionStyleModel",
      "state": {
       "description_width": ""
      }
     },
     "bb918abac94e4a7586a17b9a1b9a19d3": {
      "model_module": "@jupyter-widgets/base",
      "model_module_version": "1.1.0",
      "model_name": "LayoutModel",
      "state": {}
     },
     "bbc5c5b6dd0542899801a932122ffb36": {
      "model_module": "@jupyter-widgets/base",
      "model_module_version": "1.1.0",
      "model_name": "LayoutModel",
      "state": {}
     },
     "bc17a605aea84ac980a1a51005d4dab0": {
      "model_module": "@jupyter-widgets/controls",
      "model_module_version": "1.4.0",
      "model_name": "DescriptionStyleModel",
      "state": {
       "description_width": ""
      }
     },
     "bc239d383f3f4fd4a8d291d39700d886": {
      "model_module": "@jupyter-widgets/controls",
      "model_module_version": "1.4.0",
      "model_name": "DropdownModel",
      "state": {
       "_options_labels": [
        "Stroke, hemorrhagic",
        "Total for all causes",
        "Poisoning (not alcohol)",
        "Cholelithiases",
        "Liver cancer",
        "Motor-vehicle nontraffic crashes",
        "Subtotal all causes",
        "Prostate cancer (males only)",
        "Chronic hepatitis",
        "Alcohol abuse",
        "Alcohol poisoning",
        "Ischemic heart disease",
        "Water transport",
        "Oropharyngeal cancer",
        "Liver cirrhosis, unspecified",
        "Firearm injuries",
        "Spontaneous abortion (females only)",
        "Child maltreatment",
        "Supraventricular cardiac dysrhythmia",
        "Esophageal cancer",
        "Suicide",
        "Gastroesophageal hemorrhage",
        "Other road vehicle crashes",
        "Air-space transport",
        "Motor-vehicle traffic crashes",
        "Alcoholic gastritis",
        "Aspiration",
        "Alcohol dependence syndrome",
        "Low birth weight, prematurity, IUGR, death",
        "Psoriasis",
        "Breast cancer (females only)",
        "Acute pancreatitis",
        "Homicide",
        "Stroke, ischemic",
        "Alcohol-induced chronic pancreatitis",
        "Alcohol polyneuropathy",
        "Laryngeal cancer",
        "Fall injuries",
        "Drowning",
        "Portal hypertension",
        "Chronic pancreatitis",
        "Alcohol cardiomyopathy",
        "Alcoholic liver disease",
        "Degeneration of nervous system due to alcohol",
        "Hypertension",
        "Occupational and machine injuries",
        "Epilepsy",
        "Hypothermia",
        "Esophageal varices",
        "Alcoholic psychosis",
        "Excessive blood alcohol level",
        "Fetal alcohol syndrome",
        "Fire injuries",
        "Fetus and newborn affected by maternal use of alcohol",
        "Suicide by and exposure to alcohol",
        "Alcoholic myopathy"
       ],
       "description": "x",
       "index": 0,
       "layout": "IPY_MODEL_c7f9d59f1d32483e8b8096c4b617cd61",
       "style": "IPY_MODEL_898c3831745d43a3a8c07a978861b8b1"
      }
     },
     "bc7380a8b4fd40168a1830e4b55a3f7f": {
      "model_module": "@jupyter-widgets/base",
      "model_module_version": "1.1.0",
      "model_name": "LayoutModel",
      "state": {}
     },
     "bccb9c1be9d64eba820478db1d326e8f": {
      "model_module": "@jupyter-widgets/controls",
      "model_module_version": "1.4.0",
      "model_name": "DropdownModel",
      "state": {
       "_options_labels": [
        "Stroke, hemorrhagic",
        "Total for all causes",
        "Poisoning (not alcohol)",
        "Cholelithiases",
        "Liver cancer",
        "Motor-vehicle nontraffic crashes",
        "Subtotal all causes",
        "Prostate cancer (males only)",
        "Chronic hepatitis",
        "Alcohol abuse",
        "Alcohol poisoning",
        "Ischemic heart disease",
        "Water transport",
        "Oropharyngeal cancer",
        "Liver cirrhosis, unspecified",
        "Firearm injuries",
        "Spontaneous abortion (females only)",
        "Child maltreatment",
        "Supraventricular cardiac dysrhythmia",
        "Esophageal cancer",
        "Suicide",
        "Gastroesophageal hemorrhage",
        "Other road vehicle crashes",
        "Air-space transport",
        "Motor-vehicle traffic crashes",
        "Alcoholic gastritis",
        "Aspiration",
        "Alcohol dependence syndrome",
        "Low birth weight, prematurity, IUGR, death",
        "Psoriasis",
        "Breast cancer (females only)",
        "Acute pancreatitis",
        "Homicide",
        "Stroke, ischemic",
        "Alcohol-induced chronic pancreatitis",
        "Alcohol polyneuropathy",
        "Laryngeal cancer",
        "Fall injuries",
        "Drowning",
        "Portal hypertension",
        "Chronic pancreatitis",
        "Alcohol cardiomyopathy",
        "Alcoholic liver disease",
        "Degeneration of nervous system due to alcohol",
        "Hypertension",
        "Occupational and machine injuries",
        "Epilepsy",
        "Hypothermia",
        "Esophageal varices",
        "Alcoholic psychosis",
        "Excessive blood alcohol level",
        "Fetal alcohol syndrome",
        "Fire injuries",
        "Fetus and newborn affected by maternal use of alcohol",
        "Suicide by and exposure to alcohol",
        "Alcoholic myopathy"
       ],
       "description": "condition",
       "index": 0,
       "layout": "IPY_MODEL_c1b8696c83a8404884f18407511c936f",
       "style": "IPY_MODEL_e7a98bf4c8534aea88f5c2be35f76f6e"
      }
     },
     "be3ba978d576455eb5a33559a852259f": {
      "model_module": "@jupyter-widgets/controls",
      "model_module_version": "1.4.0",
      "model_name": "DropdownModel",
      "state": {
       "_options_labels": [
        "New York",
        "Utah",
        "Washington",
        "Illinois",
        "North Dakota",
        "Oklahoma",
        "New Mexico",
        "Arkansas",
        "New Hampshire",
        "California",
        "Montana",
        "Iowa",
        "Wyoming",
        "Minnesota",
        "Rhode Island",
        "Florida",
        "Louisiana",
        "Colorado",
        "Alabama",
        "Massachusetts",
        "Idaho",
        "Arizona",
        "Wisconsin",
        "Nevada",
        "Oregon",
        "South Dakota",
        "Maryland",
        "South Carolina",
        "Michigan",
        "Indiana",
        "Tennessee",
        "Connecticut",
        "Virginia",
        "Nebraska",
        "National",
        "West Virginia",
        "Hawaii",
        "Delaware",
        "Pennsylvania",
        "Vermont",
        "District of Columbia",
        "Maine",
        "New Jersey",
        "Kansas",
        "Georgia",
        "Missouri",
        "Texas",
        "Kentucky",
        "Ohio",
        "Alaska",
        "North Carolina",
        "Mississippi"
       ],
       "description": "location",
       "index": 0,
       "layout": "IPY_MODEL_ab8b56f676b9407a89f9b5417f6f06bd",
       "style": "IPY_MODEL_f3ec01b34f0d4ecdb581b34f201da71c"
      }
     },
     "be9095dc4a9e468bbb90db2ca9cb6b18": {
      "model_module": "@jupyter-widgets/controls",
      "model_module_version": "1.4.0",
      "model_name": "DescriptionStyleModel",
      "state": {
       "description_width": ""
      }
     },
     "bece67a3f5604479a228304fc630e92e": {
      "model_module": "@jupyter-widgets/controls",
      "model_module_version": "1.4.0",
      "model_name": "ButtonModel",
      "state": {
       "description": "Run Interact",
       "layout": "IPY_MODEL_64373e80e0d0486aab41e41f95ac6d08",
       "style": "IPY_MODEL_44240a5926aa4e2b81916267f570feb6"
      }
     },
     "bf771754e3734443ad536f35d1fcf8e7": {
      "model_module": "@jupyter-widgets/base",
      "model_module_version": "1.1.0",
      "model_name": "LayoutModel",
      "state": {}
     },
     "bf8c04f637ca476087b52757911a19ee": {
      "model_module": "@jupyter-widgets/controls",
      "model_module_version": "1.4.0",
      "model_name": "DropdownModel",
      "state": {
       "_options_labels": [
        "New York",
        "Utah",
        "Washington",
        "Illinois",
        "North Dakota",
        "Oklahoma",
        "New Mexico",
        "Arkansas",
        "New Hampshire",
        "California",
        "Montana",
        "Iowa",
        "Wyoming",
        "Minnesota",
        "Rhode Island",
        "Florida",
        "Louisiana",
        "Colorado",
        "Alabama",
        "Massachusetts",
        "Idaho",
        "Arizona",
        "Wisconsin",
        "Nevada",
        "Oregon",
        "South Dakota",
        "Maryland",
        "South Carolina",
        "Michigan",
        "Indiana",
        "Tennessee",
        "Connecticut",
        "Virginia",
        "Nebraska",
        "National",
        "West Virginia",
        "Hawaii",
        "Delaware",
        "Pennsylvania",
        "Vermont",
        "District of Columbia",
        "Maine",
        "New Jersey",
        "Kansas",
        "Georgia",
        "Missouri",
        "Texas",
        "Kentucky",
        "Ohio",
        "Alaska",
        "North Carolina",
        "Mississippi"
       ],
       "description": "location",
       "index": 0,
       "layout": "IPY_MODEL_4f16454508ef42c08c78d6e821bf061b",
       "style": "IPY_MODEL_a93308e383ca42249999eefe2fd02deb"
      }
     },
     "c1682e468e784001933d8973195a2908": {
      "model_module": "@jupyter-widgets/controls",
      "model_module_version": "1.4.0",
      "model_name": "DropdownModel",
      "state": {
       "_options_labels": [
        "New York",
        "Utah",
        "Washington",
        "Illinois",
        "North Dakota",
        "Oklahoma",
        "New Mexico",
        "Arkansas",
        "New Hampshire",
        "California",
        "Montana",
        "Iowa",
        "Wyoming",
        "Minnesota",
        "Rhode Island",
        "Florida",
        "Louisiana",
        "Colorado",
        "Alabama",
        "Massachusetts",
        "Idaho",
        "Arizona",
        "Wisconsin",
        "Nevada",
        "Oregon",
        "South Dakota",
        "Maryland",
        "South Carolina",
        "Michigan",
        "Indiana",
        "Tennessee",
        "Connecticut",
        "Virginia",
        "Nebraska",
        "National",
        "West Virginia",
        "Hawaii",
        "Delaware",
        "Pennsylvania",
        "Vermont",
        "District of Columbia",
        "Maine",
        "New Jersey",
        "Kansas",
        "Georgia",
        "Missouri",
        "Texas",
        "Kentucky",
        "Ohio",
        "Alaska",
        "North Carolina",
        "Mississippi"
       ],
       "description": "x",
       "index": 9,
       "layout": "IPY_MODEL_e9821c6b8d8c442a84e199d684bd4a24",
       "style": "IPY_MODEL_b5b7a57b12544bbfb2ed730972728c62"
      }
     },
     "c1b8696c83a8404884f18407511c936f": {
      "model_module": "@jupyter-widgets/base",
      "model_module_version": "1.1.0",
      "model_name": "LayoutModel",
      "state": {}
     },
     "c22e0aa8ba934e748038cb9ea2c640ab": {
      "model_module": "@jupyter-widgets/controls",
      "model_module_version": "1.4.0",
      "model_name": "DescriptionStyleModel",
      "state": {
       "description_width": ""
      }
     },
     "c276677fc9bd484e8f92806a7c700617": {
      "model_module": "@jupyter-widgets/base",
      "model_module_version": "1.1.0",
      "model_name": "LayoutModel",
      "state": {}
     },
     "c2d765f3f2d142da9075ee25567c761a": {
      "model_module": "@jupyter-widgets/base",
      "model_module_version": "1.1.0",
      "model_name": "LayoutModel",
      "state": {}
     },
     "c2dd5c18831e49ecb34614128b67b91f": {
      "model_module": "@jupyter-widgets/controls",
      "model_module_version": "1.4.0",
      "model_name": "DropdownModel",
      "state": {
       "_options_labels": [
        "yearstart",
        "yearend",
        "locationabbr",
        "locationdesc",
        "datasource",
        "consumptionpattern",
        "effect",
        "conditiontype",
        "condition",
        "sex",
        "agecategory",
        "agegroup",
        "data_value_unit",
        "data_value_type",
        "data_value",
        "data_value_alt",
        "locationid",
        "classid",
        "effectid",
        "conditionid",
        "consumptionid",
        "stratification1id",
        "agecategoryid",
        "stratification2id",
        "datavaluetypeid"
       ],
       "description": "Columns",
       "index": 8,
       "layout": "IPY_MODEL_b69dcbfeb5b44672873791ed51fd7155",
       "style": "IPY_MODEL_3be44fa1ec524d619629386e5f3556ae"
      }
     },
     "c343619d93f643e98593cb4c568f6b83": {
      "model_module": "@jupyter-widgets/controls",
      "model_module_version": "1.4.0",
      "model_name": "DropdownModel",
      "state": {
       "_options_labels": [
        "Stroke, hemorrhagic",
        "Total for all causes",
        "Poisoning (not alcohol)",
        "Cholelithiases",
        "Liver cancer",
        "Motor-vehicle nontraffic crashes",
        "Subtotal all causes",
        "Prostate cancer (males only)",
        "Chronic hepatitis",
        "Alcohol abuse",
        "Alcohol poisoning",
        "Ischemic heart disease",
        "Water transport",
        "Oropharyngeal cancer",
        "Liver cirrhosis, unspecified",
        "Firearm injuries",
        "Spontaneous abortion (females only)",
        "Child maltreatment",
        "Supraventricular cardiac dysrhythmia",
        "Esophageal cancer",
        "Suicide",
        "Gastroesophageal hemorrhage",
        "Other road vehicle crashes",
        "Air-space transport",
        "Motor-vehicle traffic crashes",
        "Alcoholic gastritis",
        "Aspiration",
        "Alcohol dependence syndrome",
        "Low birth weight, prematurity, IUGR, death",
        "Psoriasis",
        "Breast cancer (females only)",
        "Acute pancreatitis",
        "Homicide",
        "Stroke, ischemic",
        "Alcohol-induced chronic pancreatitis",
        "Alcohol polyneuropathy",
        "Laryngeal cancer",
        "Fall injuries",
        "Drowning",
        "Portal hypertension",
        "Chronic pancreatitis",
        "Alcohol cardiomyopathy",
        "Alcoholic liver disease",
        "Degeneration of nervous system due to alcohol",
        "Hypertension",
        "Occupational and machine injuries",
        "Epilepsy",
        "Hypothermia",
        "Esophageal varices",
        "Alcoholic psychosis",
        "Excessive blood alcohol level",
        "Fetal alcohol syndrome",
        "Fire injuries",
        "Fetus and newborn affected by maternal use of alcohol",
        "Suicide by and exposure to alcohol",
        "Alcoholic myopathy"
       ],
       "description": "condition",
       "index": 0,
       "layout": "IPY_MODEL_8914b5fcaa8f41b192608ddd4e3d2998",
       "style": "IPY_MODEL_eb5eb7ca1ab94e9ba039531094dcb561"
      }
     },
     "c386b1a69a4948548204c93d0e8079cb": {
      "model_module": "@jupyter-widgets/controls",
      "model_module_version": "1.4.0",
      "model_name": "SliderStyleModel",
      "state": {
       "description_width": ""
      }
     },
     "c3880c54001342928ba8d4eb9e742ef5": {
      "model_module": "@jupyter-widgets/base",
      "model_module_version": "1.1.0",
      "model_name": "LayoutModel",
      "state": {}
     },
     "c3919d6ce0f845a1a39be089c50bc3fb": {
      "model_module": "@jupyter-widgets/controls",
      "model_module_version": "1.4.0",
      "model_name": "VBoxModel",
      "state": {
       "_dom_classes": [
        "widget-interact"
       ],
       "children": [
        "IPY_MODEL_3739163d374a4eafaef3c00ff4069a3b",
        "IPY_MODEL_0631e77e312b45e08568c109a60856e4"
       ],
       "layout": "IPY_MODEL_5f625b80ffd24b5c8f40630d484e384e"
      }
     },
     "c4e947f2ea304b41b396d2c653ae79de": {
      "model_module": "@jupyter-widgets/output",
      "model_module_version": "1.0.0",
      "model_name": "OutputModel",
      "state": {
       "layout": "IPY_MODEL_dd3b548390b149bd8d38867a0cf363e8"
      }
     },
     "c573559330fc486eb4aba108fa035b6e": {
      "model_module": "@jupyter-widgets/output",
      "model_module_version": "1.0.0",
      "model_name": "OutputModel",
      "state": {
       "layout": "IPY_MODEL_03078ab6b9854410854db64c8ebd9331",
       "outputs": [
        {
         "data": {
          "text/plain": "30"
         },
         "metadata": {},
         "output_type": "display_data"
        }
       ]
      }
     },
     "c5bc5b7d44e0428a8f0f58b1d6dc115e": {
      "model_module": "@jupyter-widgets/controls",
      "model_module_version": "1.4.0",
      "model_name": "DescriptionStyleModel",
      "state": {
       "description_width": ""
      }
     },
     "c6827bffe662474c9ce376d30bc26cf1": {
      "model_module": "@jupyter-widgets/controls",
      "model_module_version": "1.4.0",
      "model_name": "VBoxModel",
      "state": {
       "_dom_classes": [
        "widget-interact"
       ],
       "children": [
        "IPY_MODEL_db3e54b084324658a5b006fe82a62015",
        "IPY_MODEL_5b0135b4c9544fafabf70555465f1b98",
        "IPY_MODEL_184e23c5eb824d2b87a0102d03d6320a",
        "IPY_MODEL_990226eb7f9f468d837affc3b5fd0372",
        "IPY_MODEL_161058692d0e4726b7c562e046c17d65",
        "IPY_MODEL_2f1f1b4088924a1f9d719450b4f2a3ab"
       ],
       "layout": "IPY_MODEL_1dad2e640c0a46f3806bded1781f3918"
      }
     },
     "c7a7670598ff4812872c18b19bf4eaf8": {
      "model_module": "@jupyter-widgets/controls",
      "model_module_version": "1.4.0",
      "model_name": "DescriptionStyleModel",
      "state": {
       "description_width": ""
      }
     },
     "c7f9d59f1d32483e8b8096c4b617cd61": {
      "model_module": "@jupyter-widgets/base",
      "model_module_version": "1.1.0",
      "model_name": "LayoutModel",
      "state": {}
     },
     "c930a13f890a4aa985c1416d717bc733": {
      "model_module": "@jupyter-widgets/controls",
      "model_module_version": "1.4.0",
      "model_name": "ButtonStyleModel",
      "state": {}
     },
     "c9c5246d95ef44af9e7153d3ead51e39": {
      "model_module": "@jupyter-widgets/controls",
      "model_module_version": "1.4.0",
      "model_name": "VBoxModel",
      "state": {
       "_dom_classes": [
        "widget-interact"
       ],
       "children": [
        "IPY_MODEL_be3ba978d576455eb5a33559a852259f",
        "IPY_MODEL_cf42d371b61c40d8bc6ae798d4470ead",
        "IPY_MODEL_e0bd121265df4164ae168cb639053542",
        "IPY_MODEL_48684d8e45554661a270ec46c6dfdcf3"
       ],
       "layout": "IPY_MODEL_a36d3f0f030845f493e783f1054792af"
      }
     },
     "c9ff99c8634d482a8013e9d6faa09a22": {
      "model_module": "@jupyter-widgets/base",
      "model_module_version": "1.1.0",
      "model_name": "LayoutModel",
      "state": {}
     },
     "ca219aa752bb48f28c15f766b30a049b": {
      "model_module": "@jupyter-widgets/controls",
      "model_module_version": "1.4.0",
      "model_name": "DescriptionStyleModel",
      "state": {
       "description_width": ""
      }
     },
     "cba86c441c2549baaadecd48fb1e9a30": {
      "model_module": "@jupyter-widgets/controls",
      "model_module_version": "1.4.0",
      "model_name": "ButtonStyleModel",
      "state": {}
     },
     "ccd8e0b593ea43a39b7d70aef9593ba0": {
      "model_module": "@jupyter-widgets/controls",
      "model_module_version": "1.4.0",
      "model_name": "IntSliderModel",
      "state": {
       "description": "x",
       "layout": "IPY_MODEL_c9ff99c8634d482a8013e9d6faa09a22",
       "max": 30,
       "min": -10,
       "style": "IPY_MODEL_134b065d64374cc0b310247650b30954",
       "value": -10
      }
     },
     "cd8d632658874b4b8733b036aac25797": {
      "model_module": "@jupyter-widgets/base",
      "model_module_version": "1.1.0",
      "model_name": "LayoutModel",
      "state": {}
     },
     "ce3a0d7a91d1431d91c1b97ebe24aba2": {
      "model_module": "@jupyter-widgets/controls",
      "model_module_version": "1.4.0",
      "model_name": "ButtonStyleModel",
      "state": {}
     },
     "ce71ee3205bc42c5b509b8957cce90e9": {
      "model_module": "@jupyter-widgets/controls",
      "model_module_version": "1.4.0",
      "model_name": "VBoxModel",
      "state": {
       "_dom_classes": [
        "widget-interact"
       ],
       "children": [
        "IPY_MODEL_451eba21cc9c4f3aaf6b1973276d62b2",
        "IPY_MODEL_a991850397224655bc8cf4b5feaeee95"
       ],
       "layout": "IPY_MODEL_d50475b6005c44f6a1ce000be742fa6c"
      }
     },
     "cf42d371b61c40d8bc6ae798d4470ead": {
      "model_module": "@jupyter-widgets/controls",
      "model_module_version": "1.4.0",
      "model_name": "DropdownModel",
      "state": {
       "_options_labels": [
        "Stroke, hemorrhagic",
        "Total for all causes",
        "Poisoning (not alcohol)",
        "Cholelithiases",
        "Liver cancer",
        "Motor-vehicle nontraffic crashes",
        "Subtotal all causes",
        "Prostate cancer (males only)",
        "Chronic hepatitis",
        "Alcohol abuse",
        "Alcohol poisoning",
        "Ischemic heart disease",
        "Water transport",
        "Oropharyngeal cancer",
        "Liver cirrhosis, unspecified",
        "Firearm injuries",
        "Spontaneous abortion (females only)",
        "Child maltreatment",
        "Supraventricular cardiac dysrhythmia",
        "Esophageal cancer",
        "Suicide",
        "Gastroesophageal hemorrhage",
        "Other road vehicle crashes",
        "Air-space transport",
        "Motor-vehicle traffic crashes",
        "Alcoholic gastritis",
        "Aspiration",
        "Alcohol dependence syndrome",
        "Low birth weight, prematurity, IUGR, death",
        "Psoriasis",
        "Breast cancer (females only)",
        "Acute pancreatitis",
        "Homicide",
        "Stroke, ischemic",
        "Alcohol-induced chronic pancreatitis",
        "Alcohol polyneuropathy",
        "Laryngeal cancer",
        "Fall injuries",
        "Drowning",
        "Portal hypertension",
        "Chronic pancreatitis",
        "Alcohol cardiomyopathy",
        "Alcoholic liver disease",
        "Degeneration of nervous system due to alcohol",
        "Hypertension",
        "Occupational and machine injuries",
        "Epilepsy",
        "Hypothermia",
        "Esophageal varices",
        "Alcoholic psychosis",
        "Excessive blood alcohol level",
        "Fetal alcohol syndrome",
        "Fire injuries",
        "Fetus and newborn affected by maternal use of alcohol",
        "Suicide by and exposure to alcohol",
        "Alcoholic myopathy"
       ],
       "description": "condition",
       "index": 0,
       "layout": "IPY_MODEL_e904cf88255b4c72bf243f4b13091f8c",
       "style": "IPY_MODEL_a9cac6fa4b944e02b0da588a39dceeee"
      }
     },
     "cf93871151ca4e36bdd28dfa216466a7": {
      "model_module": "@jupyter-widgets/controls",
      "model_module_version": "1.4.0",
      "model_name": "VBoxModel",
      "state": {
       "_dom_classes": [
        "widget-interact"
       ],
       "children": [
        "IPY_MODEL_9a84a5a005ec482b904ff42924138e1c",
        "IPY_MODEL_04c203119ca1428aa52cc6a82f183204"
       ],
       "layout": "IPY_MODEL_baef38d89efe4b23ac4217a984de55ec"
      }
     },
     "d01654811bdc4a3ea0703565f10df2d9": {
      "model_module": "@jupyter-widgets/controls",
      "model_module_version": "1.4.0",
      "model_name": "DescriptionStyleModel",
      "state": {
       "description_width": ""
      }
     },
     "d0b60c551db34b45906871a96732a0c7": {
      "model_module": "@jupyter-widgets/base",
      "model_module_version": "1.1.0",
      "model_name": "LayoutModel",
      "state": {}
     },
     "d1fd874d26634156a1a33ae10ab9d001": {
      "model_module": "@jupyter-widgets/base",
      "model_module_version": "1.1.0",
      "model_name": "LayoutModel",
      "state": {
       "height": "350px"
      }
     },
     "d29b190ee3ae483cb89e197f216abe41": {
      "model_module": "@jupyter-widgets/output",
      "model_module_version": "1.0.0",
      "model_name": "OutputModel",
      "state": {
       "layout": "IPY_MODEL_1d6ab7d379a747968357b93872e25ce8",
       "outputs": [
        {
         "name": "stdout",
         "output_type": "stream",
         "text": "Data value unit :number of alcohol attributable deaths\nData value type :Annual Average\n        agegroup      sex  data_value_alt\n27576      35-49     Male             6.5\n28493        65+  Overall            54.6\n31312      20-34   Female             0.1\n34588      35-49   Female             0.9\n50947        65+     Male            44.5\n55623      20-34     Male             1.0\n62259      50-64     Male            14.8\n64092   All Ages  Overall            80.1\n68112      35-49  Overall             7.3\n74529      0-<21  Overall             0.1\n75975        65+   Female            10.1\n76517      50-64  Overall            17.0\n82782      20-34  Overall             1.1\n83520      50-64   Female             2.2\n103382  All Ages     Male            66.8\n103860  All Ages   Female            13.3\n"
        }
       ]
      }
     },
     "d3dd05f864cb45d0a447e4ba90543bae": {
      "model_module": "@jupyter-widgets/controls",
      "model_module_version": "1.4.0",
      "model_name": "SliderStyleModel",
      "state": {
       "description_width": ""
      }
     },
     "d416021701d142969d371210baa7ee8a": {
      "model_module": "@jupyter-widgets/controls",
      "model_module_version": "1.4.0",
      "model_name": "VBoxModel",
      "state": {
       "_dom_classes": [
        "widget-interact"
       ],
       "children": [
        "IPY_MODEL_180c89999326467b8f2cd81e0d4ee663",
        "IPY_MODEL_650c540e3c7c4a3baaf746366208c742",
        "IPY_MODEL_075791d6aef84ca092283d754c7e8e12",
        "IPY_MODEL_17bd04b3b1c44bfa9c912f4c3d4527ec"
       ],
       "layout": "IPY_MODEL_6403861171ee4923b335d7d1e272a616"
      }
     },
     "d4ac4cb199704dd1af5c81e8a7de2fcb": {
      "model_module": "@jupyter-widgets/base",
      "model_module_version": "1.1.0",
      "model_name": "LayoutModel",
      "state": {}
     },
     "d4e4afe7b8334563881258aa3e85ca8e": {
      "model_module": "@jupyter-widgets/base",
      "model_module_version": "1.1.0",
      "model_name": "LayoutModel",
      "state": {}
     },
     "d50475b6005c44f6a1ce000be742fa6c": {
      "model_module": "@jupyter-widgets/base",
      "model_module_version": "1.1.0",
      "model_name": "LayoutModel",
      "state": {}
     },
     "d52bceb778e34b458561367355f660c7": {
      "model_module": "@jupyter-widgets/base",
      "model_module_version": "1.1.0",
      "model_name": "LayoutModel",
      "state": {}
     },
     "d54dd134785c4be880b447e8f63ab6e2": {
      "model_module": "@jupyter-widgets/controls",
      "model_module_version": "1.4.0",
      "model_name": "SliderStyleModel",
      "state": {
       "description_width": ""
      }
     },
     "d61943400f524e19a8fce13171281ae1": {
      "model_module": "@jupyter-widgets/base",
      "model_module_version": "1.1.0",
      "model_name": "LayoutModel",
      "state": {}
     },
     "d639d900db6f47d2aa8c6068f54eb075": {
      "model_module": "@jupyter-widgets/controls",
      "model_module_version": "1.4.0",
      "model_name": "DescriptionStyleModel",
      "state": {
       "description_width": ""
      }
     },
     "d6b1bcb9e6bd4e56adc385b41960e58b": {
      "model_module": "@jupyter-widgets/controls",
      "model_module_version": "1.4.0",
      "model_name": "VBoxModel",
      "state": {
       "_dom_classes": [
        "widget-interact"
       ],
       "children": [
        "IPY_MODEL_54761eccfa784465a7617715c4047b21",
        "IPY_MODEL_95517546be6744c68031c07b12bc021f"
       ],
       "layout": "IPY_MODEL_844acb4e8a6c466f8f6c324778c2df33"
      }
     },
     "d820bc0727724857832a1cb9add87c4d": {
      "model_module": "@jupyter-widgets/base",
      "model_module_version": "1.1.0",
      "model_name": "LayoutModel",
      "state": {}
     },
     "d839a13a96524d1f9f664dcc8d8d766f": {
      "model_module": "@jupyter-widgets/base",
      "model_module_version": "1.1.0",
      "model_name": "LayoutModel",
      "state": {}
     },
     "d91b24c8c0104b5cb5f40eaa45fc8cc4": {
      "model_module": "@jupyter-widgets/output",
      "model_module_version": "1.0.0",
      "model_name": "OutputModel",
      "state": {
       "layout": "IPY_MODEL_2b94fe441852405eaa173c18af1b6e6a",
       "outputs": [
        {
         "name": "stdout",
         "output_type": "stream",
         "text": "Data value unit :number of alcohol attributable deaths\nData value type :Annual Average\n        agegroup      sex  data_value_alt\n27576      35-49     Male             6.5\n28493        65+  Overall            54.6\n31312      20-34   Female             0.1\n34588      35-49   Female             0.9\n50947        65+     Male            44.5\n55623      20-34     Male             1.0\n62259      50-64     Male            14.8\n64092   All Ages  Overall            80.1\n68112      35-49  Overall             7.3\n74529      0-<21  Overall             0.1\n75975        65+   Female            10.1\n76517      50-64  Overall            17.0\n82782      20-34  Overall             1.1\n83520      50-64   Female             2.2\n103382  All Ages     Male            66.8\n103860  All Ages   Female            13.3\n***** pivot *****\nsex       Female  Male  Overall\nagegroup                       \n0-<21        NaN   NaN      0.1\n20-34        0.1   1.0      1.1\n35-49        0.9   6.5      7.3\n50-64        2.2  14.8     17.0\n65+         10.1  44.5     54.6\nAll Ages    13.3  66.8     80.1\n"
        }
       ]
      }
     },
     "d92db64618144f749ed2a9359db6101f": {
      "model_module": "@jupyter-widgets/controls",
      "model_module_version": "1.4.0",
      "model_name": "DropdownModel",
      "state": {
       "_options_labels": [
        "Stroke, hemorrhagic",
        "Total for all causes",
        "Poisoning (not alcohol)",
        "Cholelithiases",
        "Liver cancer",
        "Motor-vehicle nontraffic crashes",
        "Subtotal all causes",
        "Prostate cancer (males only)",
        "Chronic hepatitis",
        "Alcohol abuse",
        "Alcohol poisoning",
        "Ischemic heart disease",
        "Water transport",
        "Oropharyngeal cancer",
        "Liver cirrhosis, unspecified",
        "Firearm injuries",
        "Spontaneous abortion (females only)",
        "Child maltreatment",
        "Supraventricular cardiac dysrhythmia",
        "Esophageal cancer",
        "Suicide",
        "Gastroesophageal hemorrhage",
        "Other road vehicle crashes",
        "Air-space transport",
        "Motor-vehicle traffic crashes",
        "Alcoholic gastritis",
        "Aspiration",
        "Alcohol dependence syndrome",
        "Low birth weight, prematurity, IUGR, death",
        "Psoriasis",
        "Breast cancer (females only)",
        "Acute pancreatitis",
        "Homicide",
        "Stroke, ischemic",
        "Alcohol-induced chronic pancreatitis",
        "Alcohol polyneuropathy",
        "Laryngeal cancer",
        "Fall injuries",
        "Drowning",
        "Portal hypertension",
        "Chronic pancreatitis",
        "Alcohol cardiomyopathy",
        "Alcoholic liver disease",
        "Degeneration of nervous system due to alcohol",
        "Hypertension",
        "Occupational and machine injuries",
        "Epilepsy",
        "Hypothermia",
        "Esophageal varices",
        "Alcoholic psychosis",
        "Excessive blood alcohol level",
        "Fetal alcohol syndrome",
        "Fire injuries",
        "Fetus and newborn affected by maternal use of alcohol",
        "Suicide by and exposure to alcohol",
        "Alcoholic myopathy"
       ],
       "description": "condition",
       "index": 5,
       "layout": "IPY_MODEL_63e23f223b794a198ade50a143b92afd",
       "style": "IPY_MODEL_2c11eec8b85741e698abcd844211460a"
      }
     },
     "da5bd64d06684c89bfbb92a4f3ff7b7d": {
      "model_module": "@jupyter-widgets/base",
      "model_module_version": "1.1.0",
      "model_name": "LayoutModel",
      "state": {}
     },
     "da5f4c5240d34503aa977dc074ef4141": {
      "model_module": "@jupyter-widgets/output",
      "model_module_version": "1.0.0",
      "model_name": "OutputModel",
      "state": {
       "layout": "IPY_MODEL_397baaa645504bd5b97ac3cb26e71775",
       "outputs": [
        {
         "name": "stdout",
         "output_type": "stream",
         "text": "Data value unit :number of alcohol attributable deaths\nData value type :Annual Average\n        agegroup      sex  data_value_alt\n3534       50-64  Overall             0.1\n22259        65+  Overall             0.2\n45517        65+     Male             0.2\n46341      50-64     Male             0.1\n52026   All Ages  Overall             0.3\n105062  All Ages     Male             0.3\n***** pivot *****\nsex       Male  Overall\nagegroup               \n50-64      0.1      0.1\n65+        0.2      0.2\nAll Ages   0.3      0.3\n"
        },
        {
         "data": {
          "image/png": "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\n",
          "text/plain": "<Figure size 432x288 with 1 Axes>"
         },
         "metadata": {
          "needs_background": "light"
         },
         "output_type": "display_data"
        }
       ]
      }
     },
     "db3e54b084324658a5b006fe82a62015": {
      "model_module": "@jupyter-widgets/controls",
      "model_module_version": "1.4.0",
      "model_name": "FloatSliderModel",
      "state": {
       "description": "freq",
       "layout": "IPY_MODEL_25813841dbbd45d29dcd997064e10815",
       "max": 3,
       "min": -1,
       "step": 0.1,
       "style": "IPY_MODEL_9b60c681dc6c4e268d5feef46b4e4177",
       "value": 1
      }
     },
     "dbbb90e269ef4c90ac94adf4b60fadfd": {
      "model_module": "@jupyter-widgets/controls",
      "model_module_version": "1.4.0",
      "model_name": "SliderStyleModel",
      "state": {
       "description_width": ""
      }
     },
     "dbcff6b82c95405daacb3ecd21063004": {
      "model_module": "@jupyter-widgets/controls",
      "model_module_version": "1.4.0",
      "model_name": "DropdownModel",
      "state": {
       "_options_labels": [
        "New York",
        "Utah",
        "Washington",
        "Illinois",
        "North Dakota",
        "Oklahoma",
        "New Mexico",
        "Arkansas",
        "New Hampshire",
        "California",
        "Montana",
        "Iowa",
        "Wyoming",
        "Minnesota",
        "Rhode Island",
        "Florida",
        "Louisiana",
        "Colorado",
        "Alabama",
        "Massachusetts",
        "Idaho",
        "Arizona",
        "Wisconsin",
        "Nevada",
        "Oregon",
        "South Dakota",
        "Maryland",
        "South Carolina",
        "Michigan",
        "Indiana",
        "Tennessee",
        "Connecticut",
        "Virginia",
        "Nebraska",
        "National",
        "West Virginia",
        "Hawaii",
        "Delaware",
        "Pennsylvania",
        "Vermont",
        "District of Columbia",
        "Maine",
        "New Jersey",
        "Kansas",
        "Georgia",
        "Missouri",
        "Texas",
        "Kentucky",
        "Ohio",
        "Alaska",
        "North Carolina",
        "Mississippi"
       ],
       "description": "location",
       "index": 0,
       "layout": "IPY_MODEL_05d2d6102cad49b697b1708db57af7bc",
       "style": "IPY_MODEL_6f8bc77af52a450b912cf027062fb18e"
      }
     },
     "dcfba276564f49cea5ccf38010c09372": {
      "model_module": "@jupyter-widgets/output",
      "model_module_version": "1.0.0",
      "model_name": "OutputModel",
      "state": {
       "layout": "IPY_MODEL_5525764823d6445996111709341138cc",
       "outputs": [
        {
         "data": {
          "text/plain": "'orange'"
         },
         "metadata": {},
         "output_type": "display_data"
        }
       ]
      }
     },
     "dd3b548390b149bd8d38867a0cf363e8": {
      "model_module": "@jupyter-widgets/base",
      "model_module_version": "1.1.0",
      "model_name": "LayoutModel",
      "state": {}
     },
     "dd65d77c43d246c889fa1b52364619b1": {
      "model_module": "@jupyter-widgets/controls",
      "model_module_version": "1.4.0",
      "model_name": "DropdownModel",
      "state": {
       "_options_labels": [
        "New York",
        "Utah",
        "Washington",
        "Illinois",
        "North Dakota",
        "Oklahoma",
        "New Mexico",
        "Arkansas",
        "New Hampshire",
        "California",
        "Montana",
        "Iowa",
        "Wyoming",
        "Minnesota",
        "Rhode Island",
        "Florida",
        "Louisiana",
        "Colorado",
        "Alabama",
        "Massachusetts",
        "Idaho",
        "Arizona",
        "Wisconsin",
        "Nevada",
        "Oregon",
        "South Dakota",
        "Maryland",
        "South Carolina",
        "Michigan",
        "Indiana",
        "Tennessee",
        "Connecticut",
        "Virginia",
        "Nebraska",
        "National",
        "West Virginia",
        "Hawaii",
        "Delaware",
        "Pennsylvania",
        "Vermont",
        "District of Columbia",
        "Maine",
        "New Jersey",
        "Kansas",
        "Georgia",
        "Missouri",
        "Texas",
        "Kentucky",
        "Ohio",
        "Alaska",
        "North Carolina",
        "Mississippi"
       ],
       "description": "location",
       "index": 0,
       "layout": "IPY_MODEL_f416541548eb4ee7bbce491a74878e65",
       "style": "IPY_MODEL_1cfe1a5b613e468db463e3fa2f7523de"
      }
     },
     "ddc3df51d1f8475d9131e423fe03f494": {
      "model_module": "@jupyter-widgets/controls",
      "model_module_version": "1.4.0",
      "model_name": "VBoxModel",
      "state": {
       "_dom_classes": [
        "widget-interact"
       ],
       "children": [
        "IPY_MODEL_bf8c04f637ca476087b52757911a19ee",
        "IPY_MODEL_48f2f15fffa440c08b9cfbfbc2dfbb02",
        "IPY_MODEL_9b95a2cc8a3540218f7dce2d358468bc",
        "IPY_MODEL_eeb7282f8f3b485a83cd041d13e8ccc1"
       ],
       "layout": "IPY_MODEL_3d68c608440f42318317a88ae4eb7190"
      }
     },
     "ded750057ec04569926efad688a91dd7": {
      "model_module": "@jupyter-widgets/output",
      "model_module_version": "1.0.0",
      "model_name": "OutputModel",
      "state": {
       "layout": "IPY_MODEL_50ea74518f264e1086e00dcddc5c467c",
       "outputs": [
        {
         "name": "stdout",
         "output_type": "stream",
         "text": "Data value unit :number of alcohol attributable deaths\nData value type :Annual Average\n        agegroup      sex  data_value_alt\n5589       50-64  Overall            20.4\n30055      35-49   Female             0.6\n36992      35-49  Overall             3.3\n40591        65+   Female            11.9\n46288      20-34  Overall             0.4\n53103      20-34     Male             0.3\n61947        65+     Male            22.1\n63882      50-64   Female             3.7\n70693   All Ages  Overall            58.0\n77669      50-64     Male            16.7\n85884      20-34   Female             0.1\n93099      35-49     Male             2.7\n101155       65+  Overall            33.9\n103768  All Ages   Female            16.3\n104812  All Ages     Male            41.7\n***** pivot *****\nsex       Female  Male  Overall\nagegroup                       \n20-34        0.1   0.3      0.4\n35-49        0.6   2.7      3.3\n50-64        3.7  16.7     20.4\n65+         11.9  22.1     33.9\nAll Ages    16.3  41.7     58.0\n"
        },
        {
         "data": {
          "image/png": "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\n",
          "text/plain": "<Figure size 432x288 with 1 Axes>"
         },
         "metadata": {
          "needs_background": "light"
         },
         "output_type": "display_data"
        }
       ]
      }
     },
     "e070f8d04ba54f5d875b5e37c45b76f0": {
      "model_module": "@jupyter-widgets/controls",
      "model_module_version": "1.4.0",
      "model_name": "DescriptionStyleModel",
      "state": {
       "description_width": ""
      }
     },
     "e0bd121265df4164ae168cb639053542": {
      "model_module": "@jupyter-widgets/controls",
      "model_module_version": "1.4.0",
      "model_name": "ButtonModel",
      "state": {
       "description": "Run Interact",
       "layout": "IPY_MODEL_e65dba4189a4421eb14b85019a5dd198",
       "style": "IPY_MODEL_ff0ab1d3c58a418690ea68ba5877f10e"
      }
     },
     "e2ce2a94372f4b958b3c9a2d8c7ef42e": {
      "model_module": "@jupyter-widgets/base",
      "model_module_version": "1.1.0",
      "model_name": "LayoutModel",
      "state": {}
     },
     "e33caa313fc0451c8c2ecfb6d6b608b0": {
      "model_module": "@jupyter-widgets/base",
      "model_module_version": "1.1.0",
      "model_name": "LayoutModel",
      "state": {}
     },
     "e38326796b6d4b6e9281e7d659acddab": {
      "model_module": "@jupyter-widgets/base",
      "model_module_version": "1.1.0",
      "model_name": "LayoutModel",
      "state": {}
     },
     "e40b4ae5f74744328add093b650191f5": {
      "model_module": "@jupyter-widgets/controls",
      "model_module_version": "1.4.0",
      "model_name": "DescriptionStyleModel",
      "state": {
       "description_width": ""
      }
     },
     "e48a45775bdf416480dd1b1f2c0bc75b": {
      "model_module": "@jupyter-widgets/controls",
      "model_module_version": "1.4.0",
      "model_name": "DescriptionStyleModel",
      "state": {
       "description_width": ""
      }
     },
     "e4917ea838be48448f7b7f653112ca15": {
      "model_module": "@jupyter-widgets/controls",
      "model_module_version": "1.4.0",
      "model_name": "VBoxModel",
      "state": {
       "_dom_classes": [
        "widget-interact"
       ],
       "children": [
        "IPY_MODEL_9fc76fbad6c943cba2b1f73c1cbaa205",
        "IPY_MODEL_06a53a32a6014cee80c970a8e0de29e7"
       ],
       "layout": "IPY_MODEL_12b014dc12c64d0088c4c33f55751360"
      }
     },
     "e53c259e58434ea8b7329a74a5ae2e3f": {
      "model_module": "@jupyter-widgets/base",
      "model_module_version": "1.1.0",
      "model_name": "LayoutModel",
      "state": {}
     },
     "e55ec4adc2964b0fb2a6e6ece56182a8": {
      "model_module": "@jupyter-widgets/base",
      "model_module_version": "1.1.0",
      "model_name": "LayoutModel",
      "state": {}
     },
     "e65dba4189a4421eb14b85019a5dd198": {
      "model_module": "@jupyter-widgets/base",
      "model_module_version": "1.1.0",
      "model_name": "LayoutModel",
      "state": {}
     },
     "e780a15f4c8c418c8f793ef56df549a1": {
      "model_module": "@jupyter-widgets/output",
      "model_module_version": "1.0.0",
      "model_name": "OutputModel",
      "state": {
       "layout": "IPY_MODEL_50f18a6217644a7a83b777b705843b60",
       "outputs": [
        {
         "data": {
          "text/plain": "'New York'"
         },
         "metadata": {},
         "output_type": "display_data"
        }
       ]
      }
     },
     "e7a98bf4c8534aea88f5c2be35f76f6e": {
      "model_module": "@jupyter-widgets/controls",
      "model_module_version": "1.4.0",
      "model_name": "DescriptionStyleModel",
      "state": {
       "description_width": ""
      }
     },
     "e7d175d88e75417eac84619011e011f5": {
      "model_module": "@jupyter-widgets/base",
      "model_module_version": "1.1.0",
      "model_name": "LayoutModel",
      "state": {}
     },
     "e904cf88255b4c72bf243f4b13091f8c": {
      "model_module": "@jupyter-widgets/base",
      "model_module_version": "1.1.0",
      "model_name": "LayoutModel",
      "state": {}
     },
     "e917f592bad04b31a9fcf5154c259d7e": {
      "model_module": "@jupyter-widgets/controls",
      "model_module_version": "1.4.0",
      "model_name": "FloatSliderModel",
      "state": {
       "description": "m",
       "layout": "IPY_MODEL_2ddecedbb8f94ecbb85ae20adc70d262",
       "max": 2,
       "min": -2,
       "step": 0.1,
       "style": "IPY_MODEL_124a72cf55034921adca0935a1679fa3",
       "value": 0.9
      }
     },
     "e947ec2f52da45928e792b3d0849b898": {
      "model_module": "@jupyter-widgets/base",
      "model_module_version": "1.1.0",
      "model_name": "LayoutModel",
      "state": {}
     },
     "e9821c6b8d8c442a84e199d684bd4a24": {
      "model_module": "@jupyter-widgets/base",
      "model_module_version": "1.1.0",
      "model_name": "LayoutModel",
      "state": {}
     },
     "e9cee34d2d314c6db5130fe3971b4df2": {
      "model_module": "@jupyter-widgets/controls",
      "model_module_version": "1.4.0",
      "model_name": "DropdownModel",
      "state": {
       "_options_labels": [
        "yearstart",
        "yearend",
        "locationabbr",
        "locationdesc",
        "datasource",
        "consumptionpattern",
        "effect",
        "conditiontype",
        "condition",
        "sex",
        "agecategory",
        "agegroup",
        "data_value_unit",
        "data_value_type",
        "data_value",
        "data_value_alt",
        "locationid",
        "classid",
        "effectid",
        "conditionid",
        "consumptionid",
        "stratification1id",
        "agecategoryid",
        "stratification2id",
        "datavaluetypeid"
       ],
       "description": "Columns",
       "index": 0,
       "layout": "IPY_MODEL_08b3934a41134164a9c5be04440881d8",
       "style": "IPY_MODEL_e48a45775bdf416480dd1b1f2c0bc75b"
      }
     },
     "eab0e834c1e04e398c129907ca104135": {
      "model_module": "@jupyter-widgets/controls",
      "model_module_version": "1.4.0",
      "model_name": "VBoxModel",
      "state": {
       "_dom_classes": [
        "widget-interact"
       ],
       "children": [
        "IPY_MODEL_dd65d77c43d246c889fa1b52364619b1",
        "IPY_MODEL_38d4d901d4ae4d15bdc2c2157ba7b425",
        "IPY_MODEL_76ae48fd0cf84d4fba5f58afd3f3f5d0",
        "IPY_MODEL_ded750057ec04569926efad688a91dd7"
       ],
       "layout": "IPY_MODEL_0c56b441ab0b45c2bb08d2bf48d325cd"
      }
     },
     "eb5eb7ca1ab94e9ba039531094dcb561": {
      "model_module": "@jupyter-widgets/controls",
      "model_module_version": "1.4.0",
      "model_name": "DescriptionStyleModel",
      "state": {
       "description_width": ""
      }
     },
     "edc45bb34671452e9b272548495e4738": {
      "model_module": "@jupyter-widgets/base",
      "model_module_version": "1.1.0",
      "model_name": "LayoutModel",
      "state": {}
     },
     "eeb7282f8f3b485a83cd041d13e8ccc1": {
      "model_module": "@jupyter-widgets/output",
      "model_module_version": "1.0.0",
      "model_name": "OutputModel",
      "state": {
       "layout": "IPY_MODEL_bf771754e3734443ad536f35d1fcf8e7",
       "outputs": [
        {
         "name": "stdout",
         "output_type": "stream",
         "text": "Data value unit :number of alcohol attributable deaths\nData value type :Annual Average\n        agegroup      sex  data_value_alt\n27576      35-49     Male             6.5\n28493        65+  Overall            54.6\n31312      20-34   Female             0.1\n34588      35-49   Female             0.9\n50947        65+     Male            44.5\n55623      20-34     Male             1.0\n62259      50-64     Male            14.8\n64092   All Ages  Overall            80.1\n68112      35-49  Overall             7.3\n74529      0-<21  Overall             0.1\n75975        65+   Female            10.1\n76517      50-64  Overall            17.0\n82782      20-34  Overall             1.1\n83520      50-64   Female             2.2\n103382  All Ages     Male            66.8\n103860  All Ages   Female            13.3\nsex       Female  Male  Overall\nagegroup                       \n0-<21        NaN   NaN      0.1\n20-34        0.1   1.0      1.1\n35-49        0.9   6.5      7.3\n50-64        2.2  14.8     17.0\n65+         10.1  44.5     54.6\nAll Ages    13.3  66.8     80.1\n"
        }
       ]
      }
     },
     "ef0f93397f464a8f97c03f3a7bf58f17": {
      "model_module": "@jupyter-widgets/controls",
      "model_module_version": "1.4.0",
      "model_name": "ButtonStyleModel",
      "state": {}
     },
     "ef39f8181a7349e4861745dbfb013567": {
      "model_module": "@jupyter-widgets/controls",
      "model_module_version": "1.4.0",
      "model_name": "VBoxModel",
      "state": {
       "_dom_classes": [
        "widget-interact"
       ],
       "children": [
        "IPY_MODEL_374ef4ffbec64d4fb692dfe4afd4fdb2",
        "IPY_MODEL_c573559330fc486eb4aba108fa035b6e"
       ],
       "layout": "IPY_MODEL_f89f17537c274a3b8a0916f0f46009f4"
      }
     },
     "f0df04e7e943475fa1eaa04333121430": {
      "model_module": "@jupyter-widgets/controls",
      "model_module_version": "1.4.0",
      "model_name": "DescriptionStyleModel",
      "state": {
       "description_width": ""
      }
     },
     "f0f41d369c394a7bb8bd6df8f8b8c112": {
      "model_module": "@jupyter-widgets/controls",
      "model_module_version": "1.4.0",
      "model_name": "DropdownModel",
      "state": {
       "_options_labels": [
        "New York",
        "Utah",
        "Washington",
        "Illinois",
        "North Dakota",
        "Oklahoma",
        "New Mexico",
        "Arkansas",
        "New Hampshire",
        "California",
        "Montana",
        "Iowa",
        "Wyoming",
        "Minnesota",
        "Rhode Island",
        "Florida",
        "Louisiana",
        "Colorado",
        "Alabama",
        "Massachusetts",
        "Idaho",
        "Arizona",
        "Wisconsin",
        "Nevada",
        "Oregon",
        "South Dakota",
        "Maryland",
        "South Carolina",
        "Michigan",
        "Indiana",
        "Tennessee",
        "Connecticut",
        "Virginia",
        "Nebraska",
        "National",
        "West Virginia",
        "Hawaii",
        "Delaware",
        "Pennsylvania",
        "Vermont",
        "District of Columbia",
        "Maine",
        "New Jersey",
        "Kansas",
        "Georgia",
        "Missouri",
        "Texas",
        "Kentucky",
        "Ohio",
        "Alaska",
        "North Carolina",
        "Mississippi"
       ],
       "description": "location",
       "index": 0,
       "layout": "IPY_MODEL_26ed75c5a31d4a8a9aebcbf00c69f5b9",
       "style": "IPY_MODEL_e40b4ae5f74744328add093b650191f5"
      }
     },
     "f141ea259b1b45a0859fc49fd3463c44": {
      "model_module": "@jupyter-widgets/controls",
      "model_module_version": "1.4.0",
      "model_name": "VBoxModel",
      "state": {
       "_dom_classes": [
        "widget-interact"
       ],
       "children": [
        "IPY_MODEL_a3502f056ee2482bb9340e7a62c26ee7",
        "IPY_MODEL_2c34c1eb374a43e5b925780ca67bee35"
       ],
       "layout": "IPY_MODEL_64e242cfa4334d92b7f399fab6460f15"
      }
     },
     "f1631eab03f24a5e8e91a2118606b30a": {
      "model_module": "@jupyter-widgets/base",
      "model_module_version": "1.1.0",
      "model_name": "LayoutModel",
      "state": {}
     },
     "f23da5b3d7b1404ba8ee9c85cda5bc7a": {
      "model_module": "@jupyter-widgets/controls",
      "model_module_version": "1.4.0",
      "model_name": "FloatSliderModel",
      "state": {
       "description": "b",
       "layout": "IPY_MODEL_b5c6f81ddac34e3b841dddc9e79f6f3a",
       "max": 3,
       "min": -3,
       "step": 0.5,
       "style": "IPY_MODEL_97a89935c4a24e9e9bd728e4532ada1a",
       "value": -2
      }
     },
     "f25ab9ad776048b983ef9e535c073919": {
      "model_module": "@jupyter-widgets/output",
      "model_module_version": "1.0.0",
      "model_name": "OutputModel",
      "state": {
       "layout": "IPY_MODEL_9b61e18e2d7b48fd8831bfb9af40755e",
       "outputs": [
        {
         "name": "stdout",
         "output_type": "stream",
         "text": "Data value unit :number of alcohol attributable deaths\nData value type :Annual Average\n        agegroup      sex  data_value_alt\n921         0-19     Male             0.2\n5329        0-19  Overall             0.2\n5770         65+     Male             0.9\n12253      35-49     Male             0.9\n18251      35-49  Overall             1.1\n24323   All Ages  Overall             4.5\n27908      50-64   Female             0.2\n29835      50-64  Overall             0.9\n39753        65+   Female             0.5\n51902      50-64     Male             0.7\n60879      0-<21     Male             0.3\n61810      0-<21  Overall             0.3\n63628      20-34     Male             0.7\n64323      20-34   Female             0.2\n72303      20-34  Overall             0.9\n85651        65+  Overall             1.4\n89261      35-49   Female             0.2\n103838  All Ages     Male             3.4\n104753  All Ages   Female             1.1\n"
        }
       ]
      }
     },
     "f32cba909dbc4fbd9f2675197ac99bec": {
      "model_module": "@jupyter-widgets/base",
      "model_module_version": "1.1.0",
      "model_name": "LayoutModel",
      "state": {}
     },
     "f3bb02b6166648fc956b576a0c4b4f95": {
      "model_module": "@jupyter-widgets/base",
      "model_module_version": "1.1.0",
      "model_name": "LayoutModel",
      "state": {}
     },
     "f3ec01b34f0d4ecdb581b34f201da71c": {
      "model_module": "@jupyter-widgets/controls",
      "model_module_version": "1.4.0",
      "model_name": "DescriptionStyleModel",
      "state": {
       "description_width": ""
      }
     },
     "f416541548eb4ee7bbce491a74878e65": {
      "model_module": "@jupyter-widgets/base",
      "model_module_version": "1.1.0",
      "model_name": "LayoutModel",
      "state": {}
     },
     "f45ff8359d454796890d3e13444ac45e": {
      "model_module": "@jupyter-widgets/controls",
      "model_module_version": "1.4.0",
      "model_name": "ButtonStyleModel",
      "state": {}
     },
     "f52de981c4fd42b9887cbe5c01d125fb": {
      "model_module": "@jupyter-widgets/base",
      "model_module_version": "1.1.0",
      "model_name": "LayoutModel",
      "state": {}
     },
     "f586d2a535f543b09556ad7939e8c620": {
      "model_module": "@jupyter-widgets/base",
      "model_module_version": "1.1.0",
      "model_name": "LayoutModel",
      "state": {}
     },
     "f6213e9abcc749ddbcc33c0f74eab16f": {
      "model_module": "@jupyter-widgets/controls",
      "model_module_version": "1.4.0",
      "model_name": "ButtonModel",
      "state": {
       "description": "Run Interact",
       "layout": "IPY_MODEL_55ded3e0ed7b474f93473800801c683e",
       "style": "IPY_MODEL_10ff4ce110854a669ada17ab55e81432"
      }
     },
     "f7452141b59b49c7bb87e75e08974f18": {
      "model_module": "@jupyter-widgets/base",
      "model_module_version": "1.1.0",
      "model_name": "LayoutModel",
      "state": {}
     },
     "f849d0770f7142b09bf746a761b2a056": {
      "model_module": "@jupyter-widgets/output",
      "model_module_version": "1.0.0",
      "model_name": "OutputModel",
      "state": {
       "layout": "IPY_MODEL_cd8d632658874b4b8733b036aac25797",
       "outputs": [
        {
         "data": {
          "text/plain": "'orange'"
         },
         "metadata": {},
         "output_type": "display_data"
        }
       ]
      }
     },
     "f89f17537c274a3b8a0916f0f46009f4": {
      "model_module": "@jupyter-widgets/base",
      "model_module_version": "1.1.0",
      "model_name": "LayoutModel",
      "state": {}
     },
     "f8b161039f3a42d591d10b93dff313ea": {
      "model_module": "@jupyter-widgets/output",
      "model_module_version": "1.0.0",
      "model_name": "OutputModel",
      "state": {
       "layout": "IPY_MODEL_b55129f8f1db4025a2841b94adc7b58a",
       "outputs": [
        {
         "data": {
          "text/plain": "73"
         },
         "metadata": {},
         "output_type": "display_data"
        }
       ]
      }
     },
     "f8bf1e98649444d18e917aff81a7b9cb": {
      "model_module": "@jupyter-widgets/base",
      "model_module_version": "1.1.0",
      "model_name": "LayoutModel",
      "state": {}
     },
     "f980d111d77a460d9df3916d23ca1e42": {
      "model_module": "@jupyter-widgets/base",
      "model_module_version": "1.1.0",
      "model_name": "LayoutModel",
      "state": {}
     },
     "f98c831cfae74e7788a7a7e96ec5ba2c": {
      "model_module": "@jupyter-widgets/controls",
      "model_module_version": "1.4.0",
      "model_name": "ButtonStyleModel",
      "state": {}
     },
     "f9cb3f447d4c43b99fd7675ad4da7113": {
      "model_module": "@jupyter-widgets/output",
      "model_module_version": "1.0.0",
      "model_name": "OutputModel",
      "state": {
       "layout": "IPY_MODEL_b2558cd725b4428ea920e18c6afa513b",
       "outputs": [
        {
         "name": "stdout",
         "output_type": "stream",
         "text": "Data value unit :number of alcohol attributable deaths\nData value type :Annual Average\n        agegroup      sex  data_value_alt\n27576      35-49     Male             6.5\n28493        65+  Overall            54.6\n31312      20-34   Female             0.1\n34588      35-49   Female             0.9\n50947        65+     Male            44.5\n55623      20-34     Male             1.0\n62259      50-64     Male            14.8\n64092   All Ages  Overall            80.1\n68112      35-49  Overall             7.3\n74529      0-<21  Overall             0.1\n75975        65+   Female            10.1\n76517      50-64  Overall            17.0\n82782      20-34  Overall             1.1\n83520      50-64   Female             2.2\n103382  All Ages     Male            66.8\n103860  All Ages   Female            13.3\n***** pivot *****\nsex       Female  Male  Overall\nagegroup                       \n0-<21        NaN   NaN      0.1\n20-34        0.1   1.0      1.1\n35-49        0.9   6.5      7.3\n50-64        2.2  14.8     17.0\n65+         10.1  44.5     54.6\nAll Ages    13.3  66.8     80.1\n"
        },
        {
         "data": {
          "image/png": "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\n",
          "text/plain": "<Figure size 432x288 with 1 Axes>"
         },
         "metadata": {
          "needs_background": "light"
         },
         "output_type": "display_data"
        }
       ]
      }
     },
     "f9cd337b39804a0e8cacb411d9038f4e": {
      "model_module": "@jupyter-widgets/output",
      "model_module_version": "1.0.0",
      "model_name": "OutputModel",
      "state": {
       "layout": "IPY_MODEL_d0b60c551db34b45906871a96732a0c7"
      }
     },
     "fa42b6f0fccc4ed0a3edd0f8504371bd": {
      "model_module": "@jupyter-widgets/base",
      "model_module_version": "1.1.0",
      "model_name": "LayoutModel",
      "state": {}
     },
     "fabc44eeb23b4dc28f7d18e23332a298": {
      "model_module": "@jupyter-widgets/output",
      "model_module_version": "1.0.0",
      "model_name": "OutputModel",
      "state": {
       "layout": "IPY_MODEL_0289327e7176478981eeeb058d93fea1",
       "outputs": [
        {
         "ename": "NameError",
         "evalue": "name 'data_value_unit' is not defined",
         "output_type": "error",
         "traceback": [
          "\u001b[0;31m---------------------------------------------------------------------------\u001b[0m",
          "\u001b[0;31mNameError\u001b[0m                                 Traceback (most recent call last)",
          "\u001b[0;32m/opt/conda/lib/python3.6/site-packages/ipywidgets/widgets/interaction.py\u001b[0m in \u001b[0;36mupdate\u001b[0;34m(self, *args)\u001b[0m\n\u001b[1;32m    249\u001b[0m                     \u001b[0mvalue\u001b[0m \u001b[0;34m=\u001b[0m \u001b[0mwidget\u001b[0m\u001b[0;34m.\u001b[0m\u001b[0mget_interact_value\u001b[0m\u001b[0;34m(\u001b[0m\u001b[0;34m)\u001b[0m\u001b[0;34m\u001b[0m\u001b[0m\n\u001b[1;32m    250\u001b[0m                     \u001b[0mself\u001b[0m\u001b[0;34m.\u001b[0m\u001b[0mkwargs\u001b[0m\u001b[0;34m[\u001b[0m\u001b[0mwidget\u001b[0m\u001b[0;34m.\u001b[0m\u001b[0m_kwarg\u001b[0m\u001b[0;34m]\u001b[0m \u001b[0;34m=\u001b[0m \u001b[0mvalue\u001b[0m\u001b[0;34m\u001b[0m\u001b[0m\n\u001b[0;32m--> 251\u001b[0;31m                 \u001b[0mself\u001b[0m\u001b[0;34m.\u001b[0m\u001b[0mresult\u001b[0m \u001b[0;34m=\u001b[0m \u001b[0mself\u001b[0m\u001b[0;34m.\u001b[0m\u001b[0mf\u001b[0m\u001b[0;34m(\u001b[0m\u001b[0;34m**\u001b[0m\u001b[0mself\u001b[0m\u001b[0;34m.\u001b[0m\u001b[0mkwargs\u001b[0m\u001b[0;34m)\u001b[0m\u001b[0;34m\u001b[0m\u001b[0m\n\u001b[0m\u001b[1;32m    252\u001b[0m                 \u001b[0mshow_inline_matplotlib_plots\u001b[0m\u001b[0;34m(\u001b[0m\u001b[0;34m)\u001b[0m\u001b[0;34m\u001b[0m\u001b[0m\n\u001b[1;32m    253\u001b[0m                 \u001b[0;32mif\u001b[0m \u001b[0mself\u001b[0m\u001b[0;34m.\u001b[0m\u001b[0mauto_display\u001b[0m \u001b[0;32mand\u001b[0m \u001b[0mself\u001b[0m\u001b[0;34m.\u001b[0m\u001b[0mresult\u001b[0m \u001b[0;32mis\u001b[0m \u001b[0;32mnot\u001b[0m \u001b[0;32mNone\u001b[0m\u001b[0;34m:\u001b[0m\u001b[0;34m\u001b[0m\u001b[0m\n",
          "\u001b[0;32m<ipython-input-17-47ede768fe3c>\u001b[0m in \u001b[0;36mprint_filter_by_location\u001b[0;34m(location, condition)\u001b[0m\n\u001b[1;32m     12\u001b[0m \u001b[0;32mdef\u001b[0m \u001b[0mprint_filter_by_location\u001b[0m\u001b[0;34m(\u001b[0m\u001b[0mlocation\u001b[0m\u001b[0;34m=\u001b[0m\u001b[0mlocations\u001b[0m\u001b[0;34m[\u001b[0m\u001b[0;36m0\u001b[0m\u001b[0;34m]\u001b[0m\u001b[0;34m,\u001b[0m \u001b[0mcondition\u001b[0m\u001b[0;34m=\u001b[0m\u001b[0mconditions\u001b[0m\u001b[0;34m[\u001b[0m\u001b[0;36m0\u001b[0m\u001b[0;34m]\u001b[0m\u001b[0;34m)\u001b[0m\u001b[0;34m:\u001b[0m\u001b[0;34m\u001b[0m\u001b[0m\n\u001b[1;32m     13\u001b[0m     \u001b[0mcols\u001b[0m \u001b[0;34m=\u001b[0m \u001b[0;34m[\u001b[0m\u001b[0;34m'agegroup'\u001b[0m\u001b[0;34m,\u001b[0m \u001b[0;34m'sex'\u001b[0m\u001b[0;34m,\u001b[0m \u001b[0;34m'data_value_alt'\u001b[0m\u001b[0;34m]\u001b[0m\u001b[0;34m\u001b[0m\u001b[0m\n\u001b[0;32m---> 14\u001b[0;31m     \u001b[0mprint\u001b[0m\u001b[0;34m(\u001b[0m\u001b[0;34m'Data value unit :'\u001b[0m \u001b[0;34m+\u001b[0m \u001b[0mdata_value_unit\u001b[0m\u001b[0;34m[\u001b[0m\u001b[0;36m0\u001b[0m\u001b[0;34m]\u001b[0m\u001b[0;34m)\u001b[0m\u001b[0;34m\u001b[0m\u001b[0m\n\u001b[0m\u001b[1;32m     15\u001b[0m     \u001b[0mprint\u001b[0m\u001b[0;34m(\u001b[0m\u001b[0;34m'Data value type :'\u001b[0m \u001b[0;34m+\u001b[0m \u001b[0mdata_value_type\u001b[0m\u001b[0;34m[\u001b[0m\u001b[0;36m0\u001b[0m\u001b[0;34m]\u001b[0m\u001b[0;34m)\u001b[0m\u001b[0;34m\u001b[0m\u001b[0m\n\u001b[1;32m     16\u001b[0m     \u001b[0mprint\u001b[0m\u001b[0;34m(\u001b[0m\u001b[0mdf_al\u001b[0m\u001b[0;34m.\u001b[0m\u001b[0mloc\u001b[0m\u001b[0;34m[\u001b[0m\u001b[0;34m(\u001b[0m\u001b[0mdf_al\u001b[0m\u001b[0;34m[\u001b[0m\u001b[0;34m'locationdesc'\u001b[0m\u001b[0;34m]\u001b[0m\u001b[0;34m==\u001b[0m\u001b[0mlocation\u001b[0m\u001b[0;34m)\u001b[0m \u001b[0;34m&\u001b[0m \u001b[0;34m(\u001b[0m\u001b[0mdf_al\u001b[0m\u001b[0;34m[\u001b[0m\u001b[0;34m'condition'\u001b[0m\u001b[0;34m]\u001b[0m\u001b[0;34m==\u001b[0m\u001b[0mcondition\u001b[0m\u001b[0;34m)\u001b[0m \u001b[0;34m&\u001b[0m \u001b[0;34m(\u001b[0m\u001b[0mdf_al\u001b[0m\u001b[0;34m[\u001b[0m\u001b[0;34m'data_value_alt'\u001b[0m\u001b[0;34m]\u001b[0m\u001b[0;34m>\u001b[0m\u001b[0;36m0\u001b[0m\u001b[0;34m)\u001b[0m\u001b[0;34m,\u001b[0m \u001b[0mcols\u001b[0m\u001b[0;34m]\u001b[0m\u001b[0;34m)\u001b[0m\u001b[0;34m\u001b[0m\u001b[0m\n",
          "\u001b[0;31mNameError\u001b[0m: name 'data_value_unit' is not defined"
         ]
        }
       ]
      }
     },
     "fb8f36c87427462cb4754771a996974c": {
      "model_module": "@jupyter-widgets/base",
      "model_module_version": "1.1.0",
      "model_name": "LayoutModel",
      "state": {}
     },
     "fbfa5dd0dc1d40b3ab1f70e511dfa073": {
      "model_module": "@jupyter-widgets/controls",
      "model_module_version": "1.4.0",
      "model_name": "VBoxModel",
      "state": {
       "_dom_classes": [
        "widget-interact"
       ],
       "children": [
        "IPY_MODEL_9b7895ef9c9c4d15bdbd7863947f2e02",
        "IPY_MODEL_a26145c7eb1142b9b1fd1015efc1af8e",
        "IPY_MODEL_90f8ddd61330458392359704dfa945cf"
       ],
       "layout": "IPY_MODEL_78c74e62fbe84cfe9ca82a71baf6c92a"
      }
     },
     "fc15face830740209e695138e8fda6d0": {
      "model_module": "@jupyter-widgets/base",
      "model_module_version": "1.1.0",
      "model_name": "LayoutModel",
      "state": {}
     },
     "fc7a708dc38b46c9898544376d87c8fc": {
      "model_module": "@jupyter-widgets/base",
      "model_module_version": "1.1.0",
      "model_name": "LayoutModel",
      "state": {}
     },
     "fc8fd070d7994c11bb9620a5e475c014": {
      "model_module": "@jupyter-widgets/base",
      "model_module_version": "1.1.0",
      "model_name": "LayoutModel",
      "state": {}
     },
     "fdc76a837c7b47ba8187f096e18bbb3f": {
      "model_module": "@jupyter-widgets/output",
      "model_module_version": "1.0.0",
      "model_name": "OutputModel",
      "state": {
       "layout": "IPY_MODEL_b4d8ce62a1a44be3a5275a4a7a8350e3",
       "outputs": [
        {
         "data": {
          "text/plain": "-10"
         },
         "metadata": {},
         "output_type": "display_data"
        }
       ]
      }
     },
     "ff0ab1d3c58a418690ea68ba5877f10e": {
      "model_module": "@jupyter-widgets/controls",
      "model_module_version": "1.4.0",
      "model_name": "ButtonStyleModel",
      "state": {}
     }
    },
    "version_major": 2,
    "version_minor": 0
   }
  }
 },
 "nbformat": 4,
 "nbformat_minor": 2
}
