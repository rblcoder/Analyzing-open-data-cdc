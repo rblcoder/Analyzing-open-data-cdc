{
 "cells": [
  {
   "cell_type": "code",
   "execution_count": 2,
   "metadata": {},
   "outputs": [],
   "source": [
    "import pandas as pd"
   ]
  },
  {
   "cell_type": "code",
   "execution_count": 3,
   "metadata": {},
   "outputs": [],
   "source": [
    "import requests\n",
    "r = requests.get('http://universities.hipolabs.com/search?country=United+States')"
   ]
  },
  {
   "cell_type": "code",
   "execution_count": 4,
   "metadata": {},
   "outputs": [],
   "source": [
    "import json\n",
    "data_to_json = r.json()\n",
    "df = pd.read_json(json.dumps(data_to_json))"
   ]
  },
  {
   "cell_type": "code",
   "execution_count": 6,
   "metadata": {},
   "outputs": [
    {
     "data": {
      "text/html": [
       "<div>\n",
       "<style scoped>\n",
       "    .dataframe tbody tr th:only-of-type {\n",
       "        vertical-align: middle;\n",
       "    }\n",
       "\n",
       "    .dataframe tbody tr th {\n",
       "        vertical-align: top;\n",
       "    }\n",
       "\n",
       "    .dataframe thead th {\n",
       "        text-align: right;\n",
       "    }\n",
       "</style>\n",
       "<table border=\"1\" class=\"dataframe\">\n",
       "  <thead>\n",
       "    <tr style=\"text-align: right;\">\n",
       "      <th></th>\n",
       "      <th>alpha_two_code</th>\n",
       "      <th>web_pages</th>\n",
       "      <th>state-province</th>\n",
       "      <th>name</th>\n",
       "      <th>domains</th>\n",
       "      <th>country</th>\n",
       "    </tr>\n",
       "  </thead>\n",
       "  <tbody>\n",
       "    <tr>\n",
       "      <th>0</th>\n",
       "      <td>US</td>\n",
       "      <td>[http://www.marywood.edu]</td>\n",
       "      <td>None</td>\n",
       "      <td>Marywood University</td>\n",
       "      <td>[marywood.edu]</td>\n",
       "      <td>United States</td>\n",
       "    </tr>\n",
       "    <tr>\n",
       "      <th>1</th>\n",
       "      <td>US</td>\n",
       "      <td>[http://www.lindenwood.edu/]</td>\n",
       "      <td>None</td>\n",
       "      <td>Lindenwood University</td>\n",
       "      <td>[lindenwood.edu]</td>\n",
       "      <td>United States</td>\n",
       "    </tr>\n",
       "    <tr>\n",
       "      <th>2</th>\n",
       "      <td>US</td>\n",
       "      <td>[https://sullivan.edu/]</td>\n",
       "      <td>None</td>\n",
       "      <td>Sullivan University</td>\n",
       "      <td>[sullivan.edu]</td>\n",
       "      <td>United States</td>\n",
       "    </tr>\n",
       "    <tr>\n",
       "      <th>3</th>\n",
       "      <td>US</td>\n",
       "      <td>[https://www.fscj.edu/]</td>\n",
       "      <td>None</td>\n",
       "      <td>Florida State College at Jacksonville</td>\n",
       "      <td>[fscj.edu]</td>\n",
       "      <td>United States</td>\n",
       "    </tr>\n",
       "    <tr>\n",
       "      <th>4</th>\n",
       "      <td>US</td>\n",
       "      <td>[https://www.xavier.edu/]</td>\n",
       "      <td>None</td>\n",
       "      <td>Xavier University</td>\n",
       "      <td>[xavier.edu]</td>\n",
       "      <td>United States</td>\n",
       "    </tr>\n",
       "  </tbody>\n",
       "</table>\n",
       "</div>"
      ],
      "text/plain": [
       "  alpha_two_code                     web_pages state-province  \\\n",
       "0             US     [http://www.marywood.edu]           None   \n",
       "1             US  [http://www.lindenwood.edu/]           None   \n",
       "2             US       [https://sullivan.edu/]           None   \n",
       "3             US       [https://www.fscj.edu/]           None   \n",
       "4             US     [https://www.xavier.edu/]           None   \n",
       "\n",
       "                                    name           domains        country  \n",
       "0                    Marywood University    [marywood.edu]  United States  \n",
       "1                  Lindenwood University  [lindenwood.edu]  United States  \n",
       "2                    Sullivan University    [sullivan.edu]  United States  \n",
       "3  Florida State College at Jacksonville        [fscj.edu]  United States  \n",
       "4                      Xavier University      [xavier.edu]  United States  "
      ]
     },
     "execution_count": 6,
     "metadata": {},
     "output_type": "execute_result"
    }
   ],
   "source": [
    "df.head()"
   ]
  },
  {
   "cell_type": "code",
   "execution_count": 7,
   "metadata": {},
   "outputs": [
    {
     "data": {
      "text/html": [
       "<div>\n",
       "<style scoped>\n",
       "    .dataframe tbody tr th:only-of-type {\n",
       "        vertical-align: middle;\n",
       "    }\n",
       "\n",
       "    .dataframe tbody tr th {\n",
       "        vertical-align: top;\n",
       "    }\n",
       "\n",
       "    .dataframe thead th {\n",
       "        text-align: right;\n",
       "    }\n",
       "</style>\n",
       "<table border=\"1\" class=\"dataframe\">\n",
       "  <thead>\n",
       "    <tr style=\"text-align: right;\">\n",
       "      <th></th>\n",
       "      <th>alpha_two_code</th>\n",
       "      <th>web_pages</th>\n",
       "      <th>state-province</th>\n",
       "      <th>name</th>\n",
       "      <th>domains</th>\n",
       "      <th>country</th>\n",
       "    </tr>\n",
       "  </thead>\n",
       "  <tbody>\n",
       "    <tr>\n",
       "      <th>2211</th>\n",
       "      <td>US</td>\n",
       "      <td>[https://bellevuecollege.edu]</td>\n",
       "      <td>Washington</td>\n",
       "      <td>Bellevue College</td>\n",
       "      <td>[bellevuecollege.edu]</td>\n",
       "      <td>United States</td>\n",
       "    </tr>\n",
       "    <tr>\n",
       "      <th>2212</th>\n",
       "      <td>US</td>\n",
       "      <td>[https://www.lehman.cuny.edu/]</td>\n",
       "      <td>New York, NY</td>\n",
       "      <td>CUNY Lehman College</td>\n",
       "      <td>[lehman.cuny.edu]</td>\n",
       "      <td>United States</td>\n",
       "    </tr>\n",
       "    <tr>\n",
       "      <th>2213</th>\n",
       "      <td>US</td>\n",
       "      <td>[https://www.jjay.cuny.edu/]</td>\n",
       "      <td>New York, NY</td>\n",
       "      <td>CUNY John Jay College of Criminal Justice</td>\n",
       "      <td>[jjay.cuny.edu]</td>\n",
       "      <td>United States</td>\n",
       "    </tr>\n",
       "    <tr>\n",
       "      <th>2214</th>\n",
       "      <td>US</td>\n",
       "      <td>[https://hunter.cuny.edu/]</td>\n",
       "      <td>New York, NY</td>\n",
       "      <td>CUNY Hunter College</td>\n",
       "      <td>[hunter.cuny.edu]</td>\n",
       "      <td>United States</td>\n",
       "    </tr>\n",
       "    <tr>\n",
       "      <th>2215</th>\n",
       "      <td>US</td>\n",
       "      <td>[https://www.york.cuny.edu/]</td>\n",
       "      <td>New York, NY</td>\n",
       "      <td>CUNY York College</td>\n",
       "      <td>[york.cuny.edu]</td>\n",
       "      <td>United States</td>\n",
       "    </tr>\n",
       "  </tbody>\n",
       "</table>\n",
       "</div>"
      ],
      "text/plain": [
       "     alpha_two_code                       web_pages state-province  \\\n",
       "2211             US   [https://bellevuecollege.edu]     Washington   \n",
       "2212             US  [https://www.lehman.cuny.edu/]   New York, NY   \n",
       "2213             US    [https://www.jjay.cuny.edu/]   New York, NY   \n",
       "2214             US      [https://hunter.cuny.edu/]   New York, NY   \n",
       "2215             US    [https://www.york.cuny.edu/]   New York, NY   \n",
       "\n",
       "                                           name                domains  \\\n",
       "2211                           Bellevue College  [bellevuecollege.edu]   \n",
       "2212                        CUNY Lehman College      [lehman.cuny.edu]   \n",
       "2213  CUNY John Jay College of Criminal Justice        [jjay.cuny.edu]   \n",
       "2214                        CUNY Hunter College      [hunter.cuny.edu]   \n",
       "2215                          CUNY York College        [york.cuny.edu]   \n",
       "\n",
       "            country  \n",
       "2211  United States  \n",
       "2212  United States  \n",
       "2213  United States  \n",
       "2214  United States  \n",
       "2215  United States  "
      ]
     },
     "execution_count": 7,
     "metadata": {},
     "output_type": "execute_result"
    }
   ],
   "source": [
    "df.tail()"
   ]
  },
  {
   "cell_type": "code",
   "execution_count": 5,
   "metadata": {},
   "outputs": [],
   "source": [
    "df.to_csv('save_data.csv')"
   ]
  },
  {
   "cell_type": "code",
   "execution_count": 8,
   "metadata": {},
   "outputs": [
    {
     "name": "stdout",
     "output_type": "stream",
     "text": [
      ",alpha_two_code,web_pages,state-province,name,domains,country\n",
      "0,US,['http://www.marywood.edu'],,Marywood University,['marywood.edu'],United States\n",
      "1,US,['http://www.lindenwood.edu/'],,Lindenwood University,['lindenwood.edu'],United States\n",
      "2,US,['https://sullivan.edu/'],,Sullivan University,['sullivan.edu'],United States\n",
      "3,US,['https://www.fscj.edu/'],,Florida State College at Jacksonville,['fscj.edu'],United States\n",
      "4,US,['https://www.xavier.edu/'],,Xavier University,['xavier.edu'],United States\n",
      "5,US,['https://home.tusculum.edu/'],,Tusculum College,['tusculum.edu'],United States\n",
      "6,US,['https://cst.edu/'],,Claremont School of Theology,['cst.edu'],United States\n",
      "7,US,['https://www.columbiasc.edu/'],,Columbia College (SC),['columbiasc.edu'],United States\n",
      "8,US,['http://www.clpccd.edu/'],,Chabot-Las Positas Community College District,['clpccd.edu'],United States\n"
     ]
    }
   ],
   "source": [
    "!head -10 save_data.csv"
   ]
  }
 ],
 "metadata": {
  "kernelspec": {
   "display_name": "Python 3",
   "language": "python",
   "name": "python3"
  },
  "language_info": {
   "codemirror_mode": {
    "name": "ipython",
    "version": 3
   },
   "file_extension": ".py",
   "mimetype": "text/x-python",
   "name": "python",
   "nbconvert_exporter": "python",
   "pygments_lexer": "ipython3",
   "version": "3.10.4"
  },
  "orig_nbformat": 4
 },
 "nbformat": 4,
 "nbformat_minor": 2
}
